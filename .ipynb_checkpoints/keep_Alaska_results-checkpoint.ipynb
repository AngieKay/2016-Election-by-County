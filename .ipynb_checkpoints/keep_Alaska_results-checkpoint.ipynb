{
 "cells": [
  {
   "cell_type": "code",
   "execution_count": 1,
   "metadata": {},
   "outputs": [],
   "source": [
    "import pandas as pd\n",
    "import numpy as np\n",
    "from pickle import load\n",
    "from pickle import dump"
   ]
  },
  {
   "cell_type": "code",
   "execution_count": 2,
   "metadata": {},
   "outputs": [],
   "source": [
    "# df_alaska_census = load(open('df_race.pkl', 'rb'))"
   ]
  },
  {
   "cell_type": "code",
   "execution_count": 3,
   "metadata": {},
   "outputs": [],
   "source": [
    "# df_alaska_census.head()"
   ]
  },
  {
   "cell_type": "code",
   "execution_count": 4,
   "metadata": {},
   "outputs": [],
   "source": [
    "# df_alaska_census = df_alaska_census.loc[df_alaska_census['State'].str.contains('Alaska', case=False)]"
   ]
  },
  {
   "cell_type": "code",
   "execution_count": 5,
   "metadata": {},
   "outputs": [],
   "source": [
    "df = pd.read_csv('ak_2012_2016.csv')"
   ]
  },
  {
   "cell_type": "code",
   "execution_count": 6,
   "metadata": {},
   "outputs": [
    {
     "data": {
      "text/html": [
       "<div>\n",
       "<style scoped>\n",
       "    .dataframe tbody tr th:only-of-type {\n",
       "        vertical-align: middle;\n",
       "    }\n",
       "\n",
       "    .dataframe tbody tr th {\n",
       "        vertical-align: top;\n",
       "    }\n",
       "\n",
       "    .dataframe thead th {\n",
       "        text-align: right;\n",
       "    }\n",
       "</style>\n",
       "<table border=\"1\" class=\"dataframe\">\n",
       "  <thead>\n",
       "    <tr style=\"text-align: right;\">\n",
       "      <th></th>\n",
       "      <th>Weighted/Muni</th>\n",
       "      <th>Registered Voters</th>\n",
       "      <th>Clinton, Hillary</th>\n",
       "      <th>Trump, Donald J.</th>\n",
       "      <th>Write-in 60</th>\n",
       "      <th>WtTotal</th>\n",
       "      <th>Unnamed: 6</th>\n",
       "      <th>Weighted/Muni.1</th>\n",
       "      <th>Municode</th>\n",
       "      <th>Registered Voters .1</th>\n",
       "      <th>Total Votes</th>\n",
       "      <th>Johnson/Gray (LIB)</th>\n",
       "      <th>Obama/Biden (DEM)</th>\n",
       "      <th>Romney/Ryan (REP)</th>\n",
       "    </tr>\n",
       "  </thead>\n",
       "  <tbody>\n",
       "    <tr>\n",
       "      <th>0</th>\n",
       "      <td>Ketchikan Gateway</td>\n",
       "      <td>10512</td>\n",
       "      <td>1966.695802</td>\n",
       "      <td>3451.907138</td>\n",
       "      <td>153.011809</td>\n",
       "      <td>6267.150170</td>\n",
       "      <td>NaN</td>\n",
       "      <td>Ketchikan Gateway</td>\n",
       "      <td>Ketchikan</td>\n",
       "      <td>10257</td>\n",
       "      <td>5905.592707</td>\n",
       "      <td>212.061543</td>\n",
       "      <td>2262.784210</td>\n",
       "      <td>3266.635409</td>\n",
       "    </tr>\n",
       "    <tr>\n",
       "      <th>1</th>\n",
       "      <td>Prince of Wales-Hyder</td>\n",
       "      <td>4630</td>\n",
       "      <td>1076.455803</td>\n",
       "      <td>1295.125060</td>\n",
       "      <td>91.039696</td>\n",
       "      <td>2830.673904</td>\n",
       "      <td>NaN</td>\n",
       "      <td>Prince of Wales-Hyder</td>\n",
       "      <td>Prince of Wales-Hyder</td>\n",
       "      <td>4371</td>\n",
       "      <td>2482.062762</td>\n",
       "      <td>76.243288</td>\n",
       "      <td>1298.248629</td>\n",
       "      <td>1045.101630</td>\n",
       "    </tr>\n",
       "    <tr>\n",
       "      <th>2</th>\n",
       "      <td>Sitka</td>\n",
       "      <td>7218</td>\n",
       "      <td>2110.994000</td>\n",
       "      <td>1811.544401</td>\n",
       "      <td>115.703622</td>\n",
       "      <td>4427.915868</td>\n",
       "      <td>NaN</td>\n",
       "      <td>Sitka</td>\n",
       "      <td>Sitka</td>\n",
       "      <td>7074</td>\n",
       "      <td>4415.265365</td>\n",
       "      <td>133.089646</td>\n",
       "      <td>2340.002643</td>\n",
       "      <td>1830.694119</td>\n",
       "    </tr>\n",
       "    <tr>\n",
       "      <th>3</th>\n",
       "      <td>Petersburg</td>\n",
       "      <td>2741</td>\n",
       "      <td>569.639406</td>\n",
       "      <td>915.365934</td>\n",
       "      <td>50.796562</td>\n",
       "      <td>1706.007455</td>\n",
       "      <td>NaN</td>\n",
       "      <td>Petersburg</td>\n",
       "      <td>Petersburg</td>\n",
       "      <td>2648</td>\n",
       "      <td>1729.880554</td>\n",
       "      <td>59.211545</td>\n",
       "      <td>776.066018</td>\n",
       "      <td>867.459549</td>\n",
       "    </tr>\n",
       "    <tr>\n",
       "      <th>4</th>\n",
       "      <td>Wrangell</td>\n",
       "      <td>1731</td>\n",
       "      <td>270.992898</td>\n",
       "      <td>751.941311</td>\n",
       "      <td>19.081913</td>\n",
       "      <td>1124.152497</td>\n",
       "      <td>NaN</td>\n",
       "      <td>Wrangell</td>\n",
       "      <td>Wrangell</td>\n",
       "      <td>1658</td>\n",
       "      <td>1143.064441</td>\n",
       "      <td>26.862207</td>\n",
       "      <td>362.631179</td>\n",
       "      <td>738.686288</td>\n",
       "    </tr>\n",
       "  </tbody>\n",
       "</table>\n",
       "</div>"
      ],
      "text/plain": [
       "           Weighted/Muni  Registered Voters   Clinton, Hillary   \\\n",
       "0      Ketchikan Gateway               10512        1966.695802   \n",
       "1  Prince of Wales-Hyder                4630        1076.455803   \n",
       "2                  Sitka                7218        2110.994000   \n",
       "3             Petersburg                2741         569.639406   \n",
       "4               Wrangell                1731         270.992898   \n",
       "\n",
       "   Trump, Donald J.   Write-in 60       WtTotal  Unnamed: 6  \\\n",
       "0        3451.907138    153.011809  6267.150170         NaN   \n",
       "1        1295.125060     91.039696  2830.673904         NaN   \n",
       "2        1811.544401    115.703622  4427.915868         NaN   \n",
       "3         915.365934     50.796562  1706.007455         NaN   \n",
       "4         751.941311     19.081913  1124.152497         NaN   \n",
       "\n",
       "         Weighted/Muni.1               Municode  Registered Voters .1  \\\n",
       "0      Ketchikan Gateway              Ketchikan                 10257   \n",
       "1  Prince of Wales-Hyder  Prince of Wales-Hyder                  4371   \n",
       "2                  Sitka                  Sitka                  7074   \n",
       "3             Petersburg             Petersburg                  2648   \n",
       "4               Wrangell               Wrangell                  1658   \n",
       "\n",
       "   Total Votes  Johnson/Gray (LIB)  Obama/Biden (DEM)  Romney/Ryan (REP)  \n",
       "0  5905.592707          212.061543        2262.784210        3266.635409  \n",
       "1  2482.062762           76.243288        1298.248629        1045.101630  \n",
       "2  4415.265365          133.089646        2340.002643        1830.694119  \n",
       "3  1729.880554           59.211545         776.066018         867.459549  \n",
       "4  1143.064441           26.862207         362.631179         738.686288  "
      ]
     },
     "execution_count": 6,
     "metadata": {},
     "output_type": "execute_result"
    }
   ],
   "source": [
    "df.head()"
   ]
  },
  {
   "cell_type": "code",
   "execution_count": 7,
   "metadata": {},
   "outputs": [],
   "source": [
    "df = df.drop(df.iloc[:, [4, 6, 7, 8, 11]], axis = 1)"
   ]
  },
  {
   "cell_type": "code",
   "execution_count": 8,
   "metadata": {},
   "outputs": [
    {
     "data": {
      "text/html": [
       "<div>\n",
       "<style scoped>\n",
       "    .dataframe tbody tr th:only-of-type {\n",
       "        vertical-align: middle;\n",
       "    }\n",
       "\n",
       "    .dataframe tbody tr th {\n",
       "        vertical-align: top;\n",
       "    }\n",
       "\n",
       "    .dataframe thead th {\n",
       "        text-align: right;\n",
       "    }\n",
       "</style>\n",
       "<table border=\"1\" class=\"dataframe\">\n",
       "  <thead>\n",
       "    <tr style=\"text-align: right;\">\n",
       "      <th></th>\n",
       "      <th>Weighted/Muni</th>\n",
       "      <th>Registered Voters</th>\n",
       "      <th>Clinton, Hillary</th>\n",
       "      <th>Trump, Donald J.</th>\n",
       "      <th>WtTotal</th>\n",
       "      <th>Registered Voters .1</th>\n",
       "      <th>Total Votes</th>\n",
       "      <th>Obama/Biden (DEM)</th>\n",
       "      <th>Romney/Ryan (REP)</th>\n",
       "    </tr>\n",
       "  </thead>\n",
       "  <tbody>\n",
       "    <tr>\n",
       "      <th>0</th>\n",
       "      <td>Ketchikan Gateway</td>\n",
       "      <td>10512</td>\n",
       "      <td>1966.695802</td>\n",
       "      <td>3451.907138</td>\n",
       "      <td>6267.150170</td>\n",
       "      <td>10257</td>\n",
       "      <td>5905.592707</td>\n",
       "      <td>2262.784210</td>\n",
       "      <td>3266.635409</td>\n",
       "    </tr>\n",
       "    <tr>\n",
       "      <th>1</th>\n",
       "      <td>Prince of Wales-Hyder</td>\n",
       "      <td>4630</td>\n",
       "      <td>1076.455803</td>\n",
       "      <td>1295.125060</td>\n",
       "      <td>2830.673904</td>\n",
       "      <td>4371</td>\n",
       "      <td>2482.062762</td>\n",
       "      <td>1298.248629</td>\n",
       "      <td>1045.101630</td>\n",
       "    </tr>\n",
       "    <tr>\n",
       "      <th>2</th>\n",
       "      <td>Sitka</td>\n",
       "      <td>7218</td>\n",
       "      <td>2110.994000</td>\n",
       "      <td>1811.544401</td>\n",
       "      <td>4427.915868</td>\n",
       "      <td>7074</td>\n",
       "      <td>4415.265365</td>\n",
       "      <td>2340.002643</td>\n",
       "      <td>1830.694119</td>\n",
       "    </tr>\n",
       "    <tr>\n",
       "      <th>3</th>\n",
       "      <td>Petersburg</td>\n",
       "      <td>2741</td>\n",
       "      <td>569.639406</td>\n",
       "      <td>915.365934</td>\n",
       "      <td>1706.007455</td>\n",
       "      <td>2648</td>\n",
       "      <td>1729.880554</td>\n",
       "      <td>776.066018</td>\n",
       "      <td>867.459549</td>\n",
       "    </tr>\n",
       "    <tr>\n",
       "      <th>4</th>\n",
       "      <td>Wrangell</td>\n",
       "      <td>1731</td>\n",
       "      <td>270.992898</td>\n",
       "      <td>751.941311</td>\n",
       "      <td>1124.152497</td>\n",
       "      <td>1658</td>\n",
       "      <td>1143.064441</td>\n",
       "      <td>362.631179</td>\n",
       "      <td>738.686288</td>\n",
       "    </tr>\n",
       "  </tbody>\n",
       "</table>\n",
       "</div>"
      ],
      "text/plain": [
       "           Weighted/Muni  Registered Voters   Clinton, Hillary   \\\n",
       "0      Ketchikan Gateway               10512        1966.695802   \n",
       "1  Prince of Wales-Hyder                4630        1076.455803   \n",
       "2                  Sitka                7218        2110.994000   \n",
       "3             Petersburg                2741         569.639406   \n",
       "4               Wrangell                1731         270.992898   \n",
       "\n",
       "   Trump, Donald J.       WtTotal  Registered Voters .1  Total Votes  \\\n",
       "0        3451.907138  6267.150170                 10257  5905.592707   \n",
       "1        1295.125060  2830.673904                  4371  2482.062762   \n",
       "2        1811.544401  4427.915868                  7074  4415.265365   \n",
       "3         915.365934  1706.007455                  2648  1729.880554   \n",
       "4         751.941311  1124.152497                  1658  1143.064441   \n",
       "\n",
       "   Obama/Biden (DEM)  Romney/Ryan (REP)  \n",
       "0        2262.784210        3266.635409  \n",
       "1        1298.248629        1045.101630  \n",
       "2        2340.002643        1830.694119  \n",
       "3         776.066018         867.459549  \n",
       "4         362.631179         738.686288  "
      ]
     },
     "execution_count": 8,
     "metadata": {},
     "output_type": "execute_result"
    }
   ],
   "source": [
    "df.head()"
   ]
  },
  {
   "cell_type": "code",
   "execution_count": 9,
   "metadata": {},
   "outputs": [],
   "source": [
    "df.columns = [col.replace(',', '') for col in df.columns]"
   ]
  },
  {
   "cell_type": "code",
   "execution_count": 15,
   "metadata": {},
   "outputs": [],
   "source": [
    "df = df.rename(columns = {'Registered Voters': '2016_registered_voters','Weighted/Muni':'County', 'Clinton Hillary':'Clinton', 'Trump Donald J.':'Trump', 'WtTotal':'2016_total_votes', 'Registered Voters .1':'2012_registered_voters', 'Total Votes':'2012_total_votes', 'Obama/Biden (DEM)':'Obama', 'Romney/Ryan (REP)':'Romney'})"
   ]
  },
  {
   "cell_type": "code",
   "execution_count": 16,
   "metadata": {},
   "outputs": [
    {
     "data": {
      "text/html": [
       "<div>\n",
       "<style scoped>\n",
       "    .dataframe tbody tr th:only-of-type {\n",
       "        vertical-align: middle;\n",
       "    }\n",
       "\n",
       "    .dataframe tbody tr th {\n",
       "        vertical-align: top;\n",
       "    }\n",
       "\n",
       "    .dataframe thead th {\n",
       "        text-align: right;\n",
       "    }\n",
       "</style>\n",
       "<table border=\"1\" class=\"dataframe\">\n",
       "  <thead>\n",
       "    <tr style=\"text-align: right;\">\n",
       "      <th></th>\n",
       "      <th>County</th>\n",
       "      <th>Registered Voters</th>\n",
       "      <th>Clinton Hillary</th>\n",
       "      <th>Trump Donald J.</th>\n",
       "      <th>2016_total_votes</th>\n",
       "      <th>2012_registered_voters</th>\n",
       "      <th>2012_total_votes</th>\n",
       "      <th>Obama</th>\n",
       "      <th>Romney</th>\n",
       "    </tr>\n",
       "  </thead>\n",
       "  <tbody>\n",
       "    <tr>\n",
       "      <th>0</th>\n",
       "      <td>Ketchikan Gateway</td>\n",
       "      <td>10512</td>\n",
       "      <td>1966.695802</td>\n",
       "      <td>3451.907138</td>\n",
       "      <td>6267.150170</td>\n",
       "      <td>10257</td>\n",
       "      <td>5905.592707</td>\n",
       "      <td>2262.784210</td>\n",
       "      <td>3266.635409</td>\n",
       "    </tr>\n",
       "    <tr>\n",
       "      <th>1</th>\n",
       "      <td>Prince of Wales-Hyder</td>\n",
       "      <td>4630</td>\n",
       "      <td>1076.455803</td>\n",
       "      <td>1295.125060</td>\n",
       "      <td>2830.673904</td>\n",
       "      <td>4371</td>\n",
       "      <td>2482.062762</td>\n",
       "      <td>1298.248629</td>\n",
       "      <td>1045.101630</td>\n",
       "    </tr>\n",
       "    <tr>\n",
       "      <th>2</th>\n",
       "      <td>Sitka</td>\n",
       "      <td>7218</td>\n",
       "      <td>2110.994000</td>\n",
       "      <td>1811.544401</td>\n",
       "      <td>4427.915868</td>\n",
       "      <td>7074</td>\n",
       "      <td>4415.265365</td>\n",
       "      <td>2340.002643</td>\n",
       "      <td>1830.694119</td>\n",
       "    </tr>\n",
       "    <tr>\n",
       "      <th>3</th>\n",
       "      <td>Petersburg</td>\n",
       "      <td>2741</td>\n",
       "      <td>569.639406</td>\n",
       "      <td>915.365934</td>\n",
       "      <td>1706.007455</td>\n",
       "      <td>2648</td>\n",
       "      <td>1729.880554</td>\n",
       "      <td>776.066018</td>\n",
       "      <td>867.459549</td>\n",
       "    </tr>\n",
       "    <tr>\n",
       "      <th>4</th>\n",
       "      <td>Wrangell</td>\n",
       "      <td>1731</td>\n",
       "      <td>270.992898</td>\n",
       "      <td>751.941311</td>\n",
       "      <td>1124.152497</td>\n",
       "      <td>1658</td>\n",
       "      <td>1143.064441</td>\n",
       "      <td>362.631179</td>\n",
       "      <td>738.686288</td>\n",
       "    </tr>\n",
       "  </tbody>\n",
       "</table>\n",
       "</div>"
      ],
      "text/plain": [
       "                  County  Registered Voters   Clinton Hillary   \\\n",
       "0      Ketchikan Gateway               10512       1966.695802   \n",
       "1  Prince of Wales-Hyder                4630       1076.455803   \n",
       "2                  Sitka                7218       2110.994000   \n",
       "3             Petersburg                2741        569.639406   \n",
       "4               Wrangell                1731        270.992898   \n",
       "\n",
       "   Trump Donald J.   2016_total_votes  2012_registered_voters  \\\n",
       "0       3451.907138       6267.150170                   10257   \n",
       "1       1295.125060       2830.673904                    4371   \n",
       "2       1811.544401       4427.915868                    7074   \n",
       "3        915.365934       1706.007455                    2648   \n",
       "4        751.941311       1124.152497                    1658   \n",
       "\n",
       "   2012_total_votes        Obama       Romney  \n",
       "0       5905.592707  2262.784210  3266.635409  \n",
       "1       2482.062762  1298.248629  1045.101630  \n",
       "2       4415.265365  2340.002643  1830.694119  \n",
       "3       1729.880554   776.066018   867.459549  \n",
       "4       1143.064441   362.631179   738.686288  "
      ]
     },
     "execution_count": 16,
     "metadata": {},
     "output_type": "execute_result"
    }
   ],
   "source": [
    "df.head()"
   ]
  },
  {
   "cell_type": "code",
   "execution_count": null,
   "metadata": {},
   "outputs": [],
   "source": []
  },
  {
   "cell_type": "code",
   "execution_count": null,
   "metadata": {},
   "outputs": [],
   "source": []
  },
  {
   "cell_type": "code",
   "execution_count": null,
   "metadata": {},
   "outputs": [],
   "source": []
  },
  {
   "cell_type": "code",
   "execution_count": null,
   "metadata": {},
   "outputs": [],
   "source": []
  },
  {
   "cell_type": "code",
   "execution_count": null,
   "metadata": {},
   "outputs": [],
   "source": []
  },
  {
   "cell_type": "markdown",
   "metadata": {},
   "source": [
    "Drop useless columns."
   ]
  },
  {
   "cell_type": "code",
   "execution_count": 12,
   "metadata": {},
   "outputs": [
    {
     "ename": "IndexError",
     "evalue": "positional indexers are out-of-bounds",
     "output_type": "error",
     "traceback": [
      "\u001b[1;31m---------------------------------------------------------------------------\u001b[0m",
      "\u001b[1;31mIndexError\u001b[0m                                Traceback (most recent call last)",
      "\u001b[1;32m<ipython-input-12-78138dbcbfca>\u001b[0m in \u001b[0;36m<module>\u001b[1;34m\u001b[0m\n\u001b[1;32m----> 1\u001b[1;33m \u001b[0mdrop\u001b[0m \u001b[1;33m=\u001b[0m \u001b[0mdf\u001b[0m\u001b[1;33m.\u001b[0m\u001b[0miloc\u001b[0m\u001b[1;33m[\u001b[0m\u001b[1;33m:\u001b[0m\u001b[1;33m,\u001b[0m \u001b[1;33m[\u001b[0m\u001b[1;36m1\u001b[0m\u001b[1;33m,\u001b[0m \u001b[1;36m3\u001b[0m\u001b[1;33m,\u001b[0m \u001b[1;36m4\u001b[0m\u001b[1;33m,\u001b[0m \u001b[1;36m6\u001b[0m\u001b[1;33m,\u001b[0m \u001b[1;36m7\u001b[0m\u001b[1;33m,\u001b[0m \u001b[1;36m8\u001b[0m\u001b[1;33m,\u001b[0m \u001b[1;36m10\u001b[0m\u001b[1;33m]\u001b[0m\u001b[1;33m]\u001b[0m\u001b[1;33m\u001b[0m\u001b[1;33m\u001b[0m\u001b[0m\n\u001b[0m",
      "\u001b[1;32m~\\anaconda3\\envs\\learn-env\\lib\\site-packages\\pandas\\core\\indexing.py\u001b[0m in \u001b[0;36m__getitem__\u001b[1;34m(self, key)\u001b[0m\n\u001b[0;32m    887\u001b[0m                     \u001b[1;31m# AttributeError for IntervalTree get_value\u001b[0m\u001b[1;33m\u001b[0m\u001b[1;33m\u001b[0m\u001b[1;33m\u001b[0m\u001b[0m\n\u001b[0;32m    888\u001b[0m                     \u001b[1;32mreturn\u001b[0m \u001b[0mself\u001b[0m\u001b[1;33m.\u001b[0m\u001b[0mobj\u001b[0m\u001b[1;33m.\u001b[0m\u001b[0m_get_value\u001b[0m\u001b[1;33m(\u001b[0m\u001b[1;33m*\u001b[0m\u001b[0mkey\u001b[0m\u001b[1;33m,\u001b[0m \u001b[0mtakeable\u001b[0m\u001b[1;33m=\u001b[0m\u001b[0mself\u001b[0m\u001b[1;33m.\u001b[0m\u001b[0m_takeable\u001b[0m\u001b[1;33m)\u001b[0m\u001b[1;33m\u001b[0m\u001b[1;33m\u001b[0m\u001b[0m\n\u001b[1;32m--> 889\u001b[1;33m             \u001b[1;32mreturn\u001b[0m \u001b[0mself\u001b[0m\u001b[1;33m.\u001b[0m\u001b[0m_getitem_tuple\u001b[0m\u001b[1;33m(\u001b[0m\u001b[0mkey\u001b[0m\u001b[1;33m)\u001b[0m\u001b[1;33m\u001b[0m\u001b[1;33m\u001b[0m\u001b[0m\n\u001b[0m\u001b[0;32m    890\u001b[0m         \u001b[1;32melse\u001b[0m\u001b[1;33m:\u001b[0m\u001b[1;33m\u001b[0m\u001b[1;33m\u001b[0m\u001b[0m\n\u001b[0;32m    891\u001b[0m             \u001b[1;31m# we by definition only have the 0th axis\u001b[0m\u001b[1;33m\u001b[0m\u001b[1;33m\u001b[0m\u001b[1;33m\u001b[0m\u001b[0m\n",
      "\u001b[1;32m~\\anaconda3\\envs\\learn-env\\lib\\site-packages\\pandas\\core\\indexing.py\u001b[0m in \u001b[0;36m_getitem_tuple\u001b[1;34m(self, tup)\u001b[0m\n\u001b[0;32m   1448\u001b[0m     \u001b[1;32mdef\u001b[0m \u001b[0m_getitem_tuple\u001b[0m\u001b[1;33m(\u001b[0m\u001b[0mself\u001b[0m\u001b[1;33m,\u001b[0m \u001b[0mtup\u001b[0m\u001b[1;33m:\u001b[0m \u001b[0mTuple\u001b[0m\u001b[1;33m)\u001b[0m\u001b[1;33m:\u001b[0m\u001b[1;33m\u001b[0m\u001b[1;33m\u001b[0m\u001b[0m\n\u001b[0;32m   1449\u001b[0m \u001b[1;33m\u001b[0m\u001b[0m\n\u001b[1;32m-> 1450\u001b[1;33m         \u001b[0mself\u001b[0m\u001b[1;33m.\u001b[0m\u001b[0m_has_valid_tuple\u001b[0m\u001b[1;33m(\u001b[0m\u001b[0mtup\u001b[0m\u001b[1;33m)\u001b[0m\u001b[1;33m\u001b[0m\u001b[1;33m\u001b[0m\u001b[0m\n\u001b[0m\u001b[0;32m   1451\u001b[0m         \u001b[1;32mwith\u001b[0m \u001b[0msuppress\u001b[0m\u001b[1;33m(\u001b[0m\u001b[0mIndexingError\u001b[0m\u001b[1;33m)\u001b[0m\u001b[1;33m:\u001b[0m\u001b[1;33m\u001b[0m\u001b[1;33m\u001b[0m\u001b[0m\n\u001b[0;32m   1452\u001b[0m             \u001b[1;32mreturn\u001b[0m \u001b[0mself\u001b[0m\u001b[1;33m.\u001b[0m\u001b[0m_getitem_lowerdim\u001b[0m\u001b[1;33m(\u001b[0m\u001b[0mtup\u001b[0m\u001b[1;33m)\u001b[0m\u001b[1;33m\u001b[0m\u001b[1;33m\u001b[0m\u001b[0m\n",
      "\u001b[1;32m~\\anaconda3\\envs\\learn-env\\lib\\site-packages\\pandas\\core\\indexing.py\u001b[0m in \u001b[0;36m_has_valid_tuple\u001b[1;34m(self, key)\u001b[0m\n\u001b[0;32m    721\u001b[0m         \u001b[1;32mfor\u001b[0m \u001b[0mi\u001b[0m\u001b[1;33m,\u001b[0m \u001b[0mk\u001b[0m \u001b[1;32min\u001b[0m \u001b[0menumerate\u001b[0m\u001b[1;33m(\u001b[0m\u001b[0mkey\u001b[0m\u001b[1;33m)\u001b[0m\u001b[1;33m:\u001b[0m\u001b[1;33m\u001b[0m\u001b[1;33m\u001b[0m\u001b[0m\n\u001b[0;32m    722\u001b[0m             \u001b[1;32mtry\u001b[0m\u001b[1;33m:\u001b[0m\u001b[1;33m\u001b[0m\u001b[1;33m\u001b[0m\u001b[0m\n\u001b[1;32m--> 723\u001b[1;33m                 \u001b[0mself\u001b[0m\u001b[1;33m.\u001b[0m\u001b[0m_validate_key\u001b[0m\u001b[1;33m(\u001b[0m\u001b[0mk\u001b[0m\u001b[1;33m,\u001b[0m \u001b[0mi\u001b[0m\u001b[1;33m)\u001b[0m\u001b[1;33m\u001b[0m\u001b[1;33m\u001b[0m\u001b[0m\n\u001b[0m\u001b[0;32m    724\u001b[0m             \u001b[1;32mexcept\u001b[0m \u001b[0mValueError\u001b[0m \u001b[1;32mas\u001b[0m \u001b[0merr\u001b[0m\u001b[1;33m:\u001b[0m\u001b[1;33m\u001b[0m\u001b[1;33m\u001b[0m\u001b[0m\n\u001b[0;32m    725\u001b[0m                 raise ValueError(\n",
      "\u001b[1;32m~\\anaconda3\\envs\\learn-env\\lib\\site-packages\\pandas\\core\\indexing.py\u001b[0m in \u001b[0;36m_validate_key\u001b[1;34m(self, key, axis)\u001b[0m\n\u001b[0;32m   1371\u001b[0m             \u001b[1;31m# check that the key does not exceed the maximum size of the index\u001b[0m\u001b[1;33m\u001b[0m\u001b[1;33m\u001b[0m\u001b[1;33m\u001b[0m\u001b[0m\n\u001b[0;32m   1372\u001b[0m             \u001b[1;32mif\u001b[0m \u001b[0mlen\u001b[0m\u001b[1;33m(\u001b[0m\u001b[0marr\u001b[0m\u001b[1;33m)\u001b[0m \u001b[1;32mand\u001b[0m \u001b[1;33m(\u001b[0m\u001b[0marr\u001b[0m\u001b[1;33m.\u001b[0m\u001b[0mmax\u001b[0m\u001b[1;33m(\u001b[0m\u001b[1;33m)\u001b[0m \u001b[1;33m>=\u001b[0m \u001b[0mlen_axis\u001b[0m \u001b[1;32mor\u001b[0m \u001b[0marr\u001b[0m\u001b[1;33m.\u001b[0m\u001b[0mmin\u001b[0m\u001b[1;33m(\u001b[0m\u001b[1;33m)\u001b[0m \u001b[1;33m<\u001b[0m \u001b[1;33m-\u001b[0m\u001b[0mlen_axis\u001b[0m\u001b[1;33m)\u001b[0m\u001b[1;33m:\u001b[0m\u001b[1;33m\u001b[0m\u001b[1;33m\u001b[0m\u001b[0m\n\u001b[1;32m-> 1373\u001b[1;33m                 \u001b[1;32mraise\u001b[0m \u001b[0mIndexError\u001b[0m\u001b[1;33m(\u001b[0m\u001b[1;34m\"positional indexers are out-of-bounds\"\u001b[0m\u001b[1;33m)\u001b[0m\u001b[1;33m\u001b[0m\u001b[1;33m\u001b[0m\u001b[0m\n\u001b[0m\u001b[0;32m   1374\u001b[0m         \u001b[1;32melse\u001b[0m\u001b[1;33m:\u001b[0m\u001b[1;33m\u001b[0m\u001b[1;33m\u001b[0m\u001b[0m\n\u001b[0;32m   1375\u001b[0m             \u001b[1;32mraise\u001b[0m \u001b[0mValueError\u001b[0m\u001b[1;33m(\u001b[0m\u001b[1;34mf\"Can only index by location with a [{self._valid_types}]\"\u001b[0m\u001b[1;33m)\u001b[0m\u001b[1;33m\u001b[0m\u001b[1;33m\u001b[0m\u001b[0m\n",
      "\u001b[1;31mIndexError\u001b[0m: positional indexers are out-of-bounds"
     ]
    }
   ],
   "source": [
    "drop = df.iloc[:, [1, 3, 4, 6, 7, 8, 10]]"
   ]
  },
  {
   "cell_type": "code",
   "execution_count": null,
   "metadata": {},
   "outputs": [],
   "source": [
    "df = df.drop(drop, axis = 1)"
   ]
  },
  {
   "cell_type": "markdown",
   "metadata": {},
   "source": [
    "Drop total row."
   ]
  },
  {
   "cell_type": "code",
   "execution_count": null,
   "metadata": {},
   "outputs": [],
   "source": [
    "df.drop(df.index[29], inplace = True)"
   ]
  },
  {
   "cell_type": "markdown",
   "metadata": {},
   "source": [
    "Rename to match census."
   ]
  },
  {
   "cell_type": "code",
   "execution_count": null,
   "metadata": {},
   "outputs": [],
   "source": [
    "df = df.replace({'Lake Peninsula':'Lake Peninsula', 'Wade Hampton': 'Kusilvak', 'Kodiak Island': 'Kodiak Isl', 'Lake and Peninsula': 'Lake Peninsula'}, regex = True)\n",
    "# df = df.replace({'x':'Lake Peninsula'}, regex = True)"
   ]
  },
  {
   "cell_type": "code",
   "execution_count": null,
   "metadata": {},
   "outputs": [],
   "source": [
    "df"
   ]
  },
  {
   "cell_type": "markdown",
   "metadata": {},
   "source": [
    "Get rid of useless words in county names and strip spaces at the end of values."
   ]
  },
  {
   "cell_type": "code",
   "execution_count": null,
   "metadata": {},
   "outputs": [],
   "source": [
    "# df_alaska_census['County'] = df_alaska_census['County'].str.replace('(Borough|Area|Census|Municipality|and|City|Municipali)', '')"
   ]
  },
  {
   "cell_type": "code",
   "execution_count": null,
   "metadata": {},
   "outputs": [],
   "source": [
    "# df_alaska_census['County'] = df_alaska_census['County'].str.strip()"
   ]
  },
  {
   "cell_type": "markdown",
   "metadata": {},
   "source": [
    "Chugach and Copper River were combined into Valdez-Cordova. This will need to be moved to the census race notebook. There also must be a less tedious way to do this... It will need to be done on every census pull."
   ]
  },
  {
   "cell_type": "code",
   "execution_count": null,
   "metadata": {},
   "outputs": [],
   "source": [
    "# chugach = (df_alaska_census.loc[df_alaska_census['County'] == 'Chugach']) \n",
    "# copper_river = (df_alaska_census.loc[df_alaska_census['County'] == 'Copper River'])\n",
    "# old_counties = chugach.append(copper_river)\n",
    "# old_counties"
   ]
  },
  {
   "cell_type": "code",
   "execution_count": null,
   "metadata": {},
   "outputs": [],
   "source": [
    "# valdez = pd.DataFrame(old_counties.sum(numeric_only = True, axis = 0)).T\n",
    "# valdez"
   ]
  },
  {
   "cell_type": "code",
   "execution_count": null,
   "metadata": {},
   "outputs": [],
   "source": [
    "# valdez['id'] = 'combined'\n",
    "# valdez['County'] = 'Valdez-Cordova'\n",
    "# valdez['State'] = 'Alaska'\n",
    "# df_alaska_census.drop(old_counties.index, axis = 0, inplace= True)"
   ]
  },
  {
   "cell_type": "code",
   "execution_count": null,
   "metadata": {},
   "outputs": [],
   "source": [
    "# df_alaska_census = df_alaska_census.append(valdez)"
   ]
  },
  {
   "cell_type": "code",
   "execution_count": null,
   "metadata": {},
   "outputs": [],
   "source": [
    "# df_alaska_census"
   ]
  },
  {
   "cell_type": "markdown",
   "metadata": {},
   "source": [
    "Checks for column matches between Alaska results and Alaska census."
   ]
  },
  {
   "cell_type": "code",
   "execution_count": null,
   "metadata": {},
   "outputs": [],
   "source": [
    "# missing = df.loc[~df['SL/Muni'].isin(df_alaska_census['County'])]\n",
    "# missing"
   ]
  },
  {
   "cell_type": "markdown",
   "metadata": {},
   "source": [
    "Rename columns to match other results."
   ]
  },
  {
   "cell_type": "code",
   "execution_count": null,
   "metadata": {},
   "outputs": [],
   "source": [
    "df.rename(columns = {'SL/Muni': 'County', 'SL Total': '2016_total_votes'}, inplace = True)"
   ]
  },
  {
   "cell_type": "code",
   "execution_count": null,
   "metadata": {},
   "outputs": [],
   "source": [
    "df.head()"
   ]
  },
  {
   "cell_type": "code",
   "execution_count": null,
   "metadata": {},
   "outputs": [],
   "source": [
    "conditions = [df.iloc[:, 2] < df.iloc[:, 3], df.iloc[:, 2] > df.iloc[:, 3]]\n",
    "choices = ['Trump', 'Clinton']\n",
    "df['Target'] = np.select(conditions, choices, default = np.nan)"
   ]
  },
  {
   "cell_type": "code",
   "execution_count": null,
   "metadata": {},
   "outputs": [],
   "source": [
    "df = df.drop(df.iloc[:, 1:4], axis = 1)"
   ]
  },
  {
   "cell_type": "code",
   "execution_count": null,
   "metadata": {},
   "outputs": [],
   "source": [
    "df['State'] = 'Alaska'"
   ]
  },
  {
   "cell_type": "code",
   "execution_count": null,
   "metadata": {
    "scrolled": true
   },
   "outputs": [],
   "source": [
    "df"
   ]
  },
  {
   "cell_type": "code",
   "execution_count": null,
   "metadata": {},
   "outputs": [],
   "source": [
    "df.info()"
   ]
  },
  {
   "cell_type": "code",
   "execution_count": null,
   "metadata": {},
   "outputs": [],
   "source": [
    "# df_alaska_census.info()"
   ]
  },
  {
   "cell_type": "markdown",
   "metadata": {},
   "source": [
    "Sorting so join will work easily."
   ]
  },
  {
   "cell_type": "code",
   "execution_count": null,
   "metadata": {},
   "outputs": [],
   "source": [
    "# df = df.sort_values('SL/Muni').reset_index(drop = True)"
   ]
  },
  {
   "cell_type": "code",
   "execution_count": null,
   "metadata": {},
   "outputs": [],
   "source": [
    "# df_alaska_census = df_alaska_census.sort_values('County')"
   ]
  },
  {
   "cell_type": "markdown",
   "metadata": {},
   "source": [
    "Checking to make sure a join would work. It works!"
   ]
  },
  {
   "cell_type": "code",
   "execution_count": null,
   "metadata": {},
   "outputs": [],
   "source": [
    "# join_check = df.reset_index(drop=True).merge(df_alaska_census.reset_index(drop=True), left_index=True, right_index=True)"
   ]
  },
  {
   "cell_type": "code",
   "execution_count": null,
   "metadata": {},
   "outputs": [],
   "source": [
    "# join_check"
   ]
  },
  {
   "cell_type": "code",
   "execution_count": null,
   "metadata": {},
   "outputs": [],
   "source": []
  },
  {
   "cell_type": "code",
   "execution_count": null,
   "metadata": {},
   "outputs": [],
   "source": [
    "dump(df, open('results_alaska.pkl', 'wb'))"
   ]
  },
  {
   "cell_type": "code",
   "execution_count": null,
   "metadata": {},
   "outputs": [],
   "source": []
  }
 ],
 "metadata": {
  "kernelspec": {
   "display_name": "Python (learn-env)",
   "language": "python",
   "name": "learn-env"
  },
  "language_info": {
   "codemirror_mode": {
    "name": "ipython",
    "version": 3
   },
   "file_extension": ".py",
   "mimetype": "text/x-python",
   "name": "python",
   "nbconvert_exporter": "python",
   "pygments_lexer": "ipython3",
   "version": "3.8.5"
  }
 },
 "nbformat": 4,
 "nbformat_minor": 4
}
