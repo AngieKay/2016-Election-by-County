{
 "cells": [
  {
   "cell_type": "code",
   "execution_count": 1,
   "metadata": {},
   "outputs": [],
   "source": [
    "import pandas as pd\n",
    "from pickle import load\n",
    "from pickle import dump\n",
    "pd.set_option(\"max_columns\", None)\n",
    "pd.set_option('max_rows', None)\n",
    "import numpy as np"
   ]
  },
  {
   "cell_type": "code",
   "execution_count": 2,
   "metadata": {},
   "outputs": [],
   "source": [
    "df = load(open('target_df.pkl', 'rb'))"
   ]
  },
  {
   "cell_type": "markdown",
   "metadata": {},
   "source": [
    "Created this dataframe in the results nb."
   ]
  },
  {
   "cell_type": "code",
   "execution_count": 3,
   "metadata": {},
   "outputs": [
    {
     "name": "stdout",
     "output_type": "stream",
     "text": [
      "<class 'pandas.core.frame.DataFrame'>\n",
      "Int64Index: 3112 entries, 0 to 3112\n",
      "Data columns (total 11 columns):\n",
      " #   Column                  Non-Null Count  Dtype \n",
      "---  ------                  --------------  ----- \n",
      " 0   Clinton or Trump State  3112 non-null   object\n",
      " 1   Clinton                 3112 non-null   object\n",
      " 2   Trump                   3112 non-null   object\n",
      " 3    Clinton                3112 non-null   object\n",
      " 4    Trump                  3112 non-null   object\n",
      " 5   Vote Difference CT      3112 non-null   object\n",
      " 6   Vote Difference TC      3112 non-null   object\n",
      " 7   Percent Difference CT   3112 non-null   object\n",
      " 8   Percent Difference TC   3112 non-null   object\n",
      " 9   State                   3112 non-null   object\n",
      " 10  County                  3112 non-null   object\n",
      "dtypes: object(11)\n",
      "memory usage: 291.8+ KB\n"
     ]
    }
   ],
   "source": [
    "df.info()"
   ]
  },
  {
   "cell_type": "code",
   "execution_count": 4,
   "metadata": {},
   "outputs": [],
   "source": [
    "df['Clinton'] = pd.to_numeric(df['Clinton'])\n",
    "df['Trump'] = pd.to_numeric(df['Trump'])"
   ]
  },
  {
   "cell_type": "code",
   "execution_count": 5,
   "metadata": {},
   "outputs": [
    {
     "data": {
      "text/html": [
       "<div>\n",
       "<style scoped>\n",
       "    .dataframe tbody tr th:only-of-type {\n",
       "        vertical-align: middle;\n",
       "    }\n",
       "\n",
       "    .dataframe tbody tr th {\n",
       "        vertical-align: top;\n",
       "    }\n",
       "\n",
       "    .dataframe thead th {\n",
       "        text-align: right;\n",
       "    }\n",
       "</style>\n",
       "<table border=\"1\" class=\"dataframe\">\n",
       "  <thead>\n",
       "    <tr style=\"text-align: right;\">\n",
       "      <th></th>\n",
       "      <th>Clinton or Trump State</th>\n",
       "      <th>Clinton</th>\n",
       "      <th>Trump</th>\n",
       "      <th>Clinton</th>\n",
       "      <th>Trump</th>\n",
       "      <th>Vote Difference CT</th>\n",
       "      <th>Vote Difference TC</th>\n",
       "      <th>Percent Difference CT</th>\n",
       "      <th>Percent Difference TC</th>\n",
       "      <th>State</th>\n",
       "      <th>County</th>\n",
       "    </tr>\n",
       "  </thead>\n",
       "  <tbody>\n",
       "    <tr>\n",
       "      <th>0</th>\n",
       "      <td>Trump</td>\n",
       "      <td>5908</td>\n",
       "      <td>18110</td>\n",
       "      <td>2396</td>\n",
       "      <td>7344</td>\n",
       "      <td>12202</td>\n",
       "      <td>12202</td>\n",
       "      <td>4948</td>\n",
       "      <td>4948</td>\n",
       "      <td>Alabama</td>\n",
       "      <td>Autauga</td>\n",
       "    </tr>\n",
       "    <tr>\n",
       "      <th>1</th>\n",
       "      <td>Trump</td>\n",
       "      <td>18409</td>\n",
       "      <td>72780</td>\n",
       "      <td>1957</td>\n",
       "      <td>7735</td>\n",
       "      <td>54371</td>\n",
       "      <td>54371</td>\n",
       "      <td>5779</td>\n",
       "      <td>5779</td>\n",
       "      <td>Alabama</td>\n",
       "      <td>Baldwin</td>\n",
       "    </tr>\n",
       "    <tr>\n",
       "      <th>2</th>\n",
       "      <td>Trump</td>\n",
       "      <td>4848</td>\n",
       "      <td>5431</td>\n",
       "      <td>4666</td>\n",
       "      <td>5227</td>\n",
       "      <td>583</td>\n",
       "      <td>583</td>\n",
       "      <td>561</td>\n",
       "      <td>561</td>\n",
       "      <td>Alabama</td>\n",
       "      <td>Barbour</td>\n",
       "    </tr>\n",
       "    <tr>\n",
       "      <th>3</th>\n",
       "      <td>Trump</td>\n",
       "      <td>1874</td>\n",
       "      <td>6733</td>\n",
       "      <td>2142</td>\n",
       "      <td>7697</td>\n",
       "      <td>4859</td>\n",
       "      <td>4859</td>\n",
       "      <td>5554</td>\n",
       "      <td>5554</td>\n",
       "      <td>Alabama</td>\n",
       "      <td>Bibb</td>\n",
       "    </tr>\n",
       "    <tr>\n",
       "      <th>4</th>\n",
       "      <td>Trump</td>\n",
       "      <td>2150</td>\n",
       "      <td>22808</td>\n",
       "      <td>847</td>\n",
       "      <td>8985</td>\n",
       "      <td>20658</td>\n",
       "      <td>20658</td>\n",
       "      <td>8138</td>\n",
       "      <td>8138</td>\n",
       "      <td>Alabama</td>\n",
       "      <td>Blount</td>\n",
       "    </tr>\n",
       "  </tbody>\n",
       "</table>\n",
       "</div>"
      ],
      "text/plain": [
       "  Clinton or Trump State  Clinton  Trump  Clinton  Trump Vote Difference CT  \\\n",
       "0                  Trump     5908  18110     2396   7344              12202   \n",
       "1                  Trump    18409  72780     1957   7735              54371   \n",
       "2                  Trump     4848   5431     4666   5227                583   \n",
       "3                  Trump     1874   6733     2142   7697               4859   \n",
       "4                  Trump     2150  22808      847   8985              20658   \n",
       "\n",
       "  Vote Difference TC Percent Difference CT Percent Difference TC    State  \\\n",
       "0             12202                   4948                  4948  Alabama   \n",
       "1             54371                   5779                  5779  Alabama   \n",
       "2               583                    561                   561  Alabama   \n",
       "3              4859                   5554                  5554  Alabama   \n",
       "4             20658                   8138                  8138  Alabama   \n",
       "\n",
       "     County  \n",
       "0  Autauga   \n",
       "1  Baldwin   \n",
       "2  Barbour   \n",
       "3     Bibb   \n",
       "4   Blount   "
      ]
     },
     "execution_count": 5,
     "metadata": {},
     "output_type": "execute_result"
    }
   ],
   "source": [
    "df.head()"
   ]
  },
  {
   "cell_type": "markdown",
   "metadata": {},
   "source": [
    "Makes a column with winner of county."
   ]
  },
  {
   "cell_type": "code",
   "execution_count": 6,
   "metadata": {},
   "outputs": [],
   "source": [
    "conditions = [df.Clinton < df.Trump, df.Clinton > df.Trump]\n",
    "choices = ['Trump', 'Clinton']\n",
    "df['Target'] = np.select(conditions, choices, default = np.nan)"
   ]
  },
  {
   "cell_type": "code",
   "execution_count": 7,
   "metadata": {
    "scrolled": true
   },
   "outputs": [
    {
     "data": {
      "text/html": [
       "<div>\n",
       "<style scoped>\n",
       "    .dataframe tbody tr th:only-of-type {\n",
       "        vertical-align: middle;\n",
       "    }\n",
       "\n",
       "    .dataframe tbody tr th {\n",
       "        vertical-align: top;\n",
       "    }\n",
       "\n",
       "    .dataframe thead th {\n",
       "        text-align: right;\n",
       "    }\n",
       "</style>\n",
       "<table border=\"1\" class=\"dataframe\">\n",
       "  <thead>\n",
       "    <tr style=\"text-align: right;\">\n",
       "      <th></th>\n",
       "      <th>Clinton or Trump State</th>\n",
       "      <th>Clinton</th>\n",
       "      <th>Trump</th>\n",
       "      <th>Clinton</th>\n",
       "      <th>Trump</th>\n",
       "      <th>Vote Difference CT</th>\n",
       "      <th>Vote Difference TC</th>\n",
       "      <th>Percent Difference CT</th>\n",
       "      <th>Percent Difference TC</th>\n",
       "      <th>State</th>\n",
       "      <th>County</th>\n",
       "      <th>Target</th>\n",
       "    </tr>\n",
       "  </thead>\n",
       "  <tbody>\n",
       "    <tr>\n",
       "      <th>0</th>\n",
       "      <td>Trump</td>\n",
       "      <td>5908</td>\n",
       "      <td>18110</td>\n",
       "      <td>2396</td>\n",
       "      <td>7344</td>\n",
       "      <td>12202</td>\n",
       "      <td>12202</td>\n",
       "      <td>4948</td>\n",
       "      <td>4948</td>\n",
       "      <td>Alabama</td>\n",
       "      <td>Autauga</td>\n",
       "      <td>Trump</td>\n",
       "    </tr>\n",
       "    <tr>\n",
       "      <th>1</th>\n",
       "      <td>Trump</td>\n",
       "      <td>18409</td>\n",
       "      <td>72780</td>\n",
       "      <td>1957</td>\n",
       "      <td>7735</td>\n",
       "      <td>54371</td>\n",
       "      <td>54371</td>\n",
       "      <td>5779</td>\n",
       "      <td>5779</td>\n",
       "      <td>Alabama</td>\n",
       "      <td>Baldwin</td>\n",
       "      <td>Trump</td>\n",
       "    </tr>\n",
       "    <tr>\n",
       "      <th>2</th>\n",
       "      <td>Trump</td>\n",
       "      <td>4848</td>\n",
       "      <td>5431</td>\n",
       "      <td>4666</td>\n",
       "      <td>5227</td>\n",
       "      <td>583</td>\n",
       "      <td>583</td>\n",
       "      <td>561</td>\n",
       "      <td>561</td>\n",
       "      <td>Alabama</td>\n",
       "      <td>Barbour</td>\n",
       "      <td>Trump</td>\n",
       "    </tr>\n",
       "    <tr>\n",
       "      <th>3</th>\n",
       "      <td>Trump</td>\n",
       "      <td>1874</td>\n",
       "      <td>6733</td>\n",
       "      <td>2142</td>\n",
       "      <td>7697</td>\n",
       "      <td>4859</td>\n",
       "      <td>4859</td>\n",
       "      <td>5554</td>\n",
       "      <td>5554</td>\n",
       "      <td>Alabama</td>\n",
       "      <td>Bibb</td>\n",
       "      <td>Trump</td>\n",
       "    </tr>\n",
       "    <tr>\n",
       "      <th>4</th>\n",
       "      <td>Trump</td>\n",
       "      <td>2150</td>\n",
       "      <td>22808</td>\n",
       "      <td>847</td>\n",
       "      <td>8985</td>\n",
       "      <td>20658</td>\n",
       "      <td>20658</td>\n",
       "      <td>8138</td>\n",
       "      <td>8138</td>\n",
       "      <td>Alabama</td>\n",
       "      <td>Blount</td>\n",
       "      <td>Trump</td>\n",
       "    </tr>\n",
       "    <tr>\n",
       "      <th>5</th>\n",
       "      <td>Trump</td>\n",
       "      <td>3530</td>\n",
       "      <td>1139</td>\n",
       "      <td>7509</td>\n",
       "      <td>2423</td>\n",
       "      <td>2391</td>\n",
       "      <td>2391</td>\n",
       "      <td>5086</td>\n",
       "      <td>5086</td>\n",
       "      <td>Alabama</td>\n",
       "      <td>Bullock</td>\n",
       "      <td>Clinton</td>\n",
       "    </tr>\n",
       "    <tr>\n",
       "      <th>6</th>\n",
       "      <td>Trump</td>\n",
       "      <td>3716</td>\n",
       "      <td>4891</td>\n",
       "      <td>4279</td>\n",
       "      <td>5632</td>\n",
       "      <td>1175</td>\n",
       "      <td>1175</td>\n",
       "      <td>1353</td>\n",
       "      <td>1353</td>\n",
       "      <td>Alabama</td>\n",
       "      <td>Butler</td>\n",
       "      <td>Trump</td>\n",
       "    </tr>\n",
       "    <tr>\n",
       "      <th>7</th>\n",
       "      <td>Trump</td>\n",
       "      <td>13197</td>\n",
       "      <td>32803</td>\n",
       "      <td>2786</td>\n",
       "      <td>6924</td>\n",
       "      <td>19606</td>\n",
       "      <td>19606</td>\n",
       "      <td>4138</td>\n",
       "      <td>4138</td>\n",
       "      <td>Alabama</td>\n",
       "      <td>Calhoun</td>\n",
       "      <td>Trump</td>\n",
       "    </tr>\n",
       "    <tr>\n",
       "      <th>8</th>\n",
       "      <td>Trump</td>\n",
       "      <td>5763</td>\n",
       "      <td>7803</td>\n",
       "      <td>4183</td>\n",
       "      <td>5663</td>\n",
       "      <td>2040</td>\n",
       "      <td>2040</td>\n",
       "      <td>1481</td>\n",
       "      <td>1481</td>\n",
       "      <td>Alabama</td>\n",
       "      <td>Chambers</td>\n",
       "      <td>Trump</td>\n",
       "    </tr>\n",
       "    <tr>\n",
       "      <th>9</th>\n",
       "      <td>Trump</td>\n",
       "      <td>1524</td>\n",
       "      <td>8809</td>\n",
       "      <td>1451</td>\n",
       "      <td>8387</td>\n",
       "      <td>7285</td>\n",
       "      <td>7285</td>\n",
       "      <td>6936</td>\n",
       "      <td>6936</td>\n",
       "      <td>Alabama</td>\n",
       "      <td>Cherokee</td>\n",
       "      <td>Trump</td>\n",
       "    </tr>\n",
       "  </tbody>\n",
       "</table>\n",
       "</div>"
      ],
      "text/plain": [
       "  Clinton or Trump State  Clinton  Trump  Clinton  Trump Vote Difference CT  \\\n",
       "0                  Trump     5908  18110     2396   7344              12202   \n",
       "1                  Trump    18409  72780     1957   7735              54371   \n",
       "2                  Trump     4848   5431     4666   5227                583   \n",
       "3                  Trump     1874   6733     2142   7697               4859   \n",
       "4                  Trump     2150  22808      847   8985              20658   \n",
       "5                  Trump     3530   1139     7509   2423              2391    \n",
       "6                  Trump     3716   4891     4279   5632               1175   \n",
       "7                  Trump    13197  32803     2786   6924              19606   \n",
       "8                  Trump     5763   7803     4183   5663               2040   \n",
       "9                  Trump     1524   8809     1451   8387               7285   \n",
       "\n",
       "  Vote Difference TC Percent Difference CT Percent Difference TC    State  \\\n",
       "0             12202                   4948                  4948  Alabama   \n",
       "1             54371                   5779                  5779  Alabama   \n",
       "2               583                    561                   561  Alabama   \n",
       "3              4859                   5554                  5554  Alabama   \n",
       "4             20658                   8138                  8138  Alabama   \n",
       "5               2391                  5086                  5086  Alabama   \n",
       "6              1175                   1353                  1353  Alabama   \n",
       "7             19606                   4138                  4138  Alabama   \n",
       "8              2040                   1481                  1481  Alabama   \n",
       "9              7285                   6936                  6936  Alabama   \n",
       "\n",
       "      County   Target  \n",
       "0   Autauga     Trump  \n",
       "1   Baldwin     Trump  \n",
       "2   Barbour     Trump  \n",
       "3      Bibb     Trump  \n",
       "4    Blount     Trump  \n",
       "5   Bullock   Clinton  \n",
       "6    Butler     Trump  \n",
       "7   Calhoun     Trump  \n",
       "8  Chambers     Trump  \n",
       "9  Cherokee     Trump  "
      ]
     },
     "execution_count": 7,
     "metadata": {},
     "output_type": "execute_result"
    }
   ],
   "source": [
    "df.head(10)"
   ]
  },
  {
   "cell_type": "code",
   "execution_count": 8,
   "metadata": {},
   "outputs": [],
   "source": [
    "# df.sort_values(by= ['Percent Difference CT'])"
   ]
  },
  {
   "cell_type": "code",
   "execution_count": 9,
   "metadata": {},
   "outputs": [
    {
     "name": "stdout",
     "output_type": "stream",
     "text": [
      "<class 'pandas.core.frame.DataFrame'>\n",
      "Int64Index: 3112 entries, 0 to 3112\n",
      "Data columns (total 12 columns):\n",
      " #   Column                  Non-Null Count  Dtype \n",
      "---  ------                  --------------  ----- \n",
      " 0   Clinton or Trump State  3112 non-null   object\n",
      " 1   Clinton                 3112 non-null   int64 \n",
      " 2   Trump                   3112 non-null   int64 \n",
      " 3    Clinton                3112 non-null   object\n",
      " 4    Trump                  3112 non-null   object\n",
      " 5   Vote Difference CT      3112 non-null   object\n",
      " 6   Vote Difference TC      3112 non-null   object\n",
      " 7   Percent Difference CT   3112 non-null   object\n",
      " 8   Percent Difference TC   3112 non-null   object\n",
      " 9   State                   3112 non-null   object\n",
      " 10  County                  3112 non-null   object\n",
      " 11  Target                  3112 non-null   object\n",
      "dtypes: int64(2), object(10)\n",
      "memory usage: 316.1+ KB\n"
     ]
    }
   ],
   "source": [
    "df.info()"
   ]
  },
  {
   "cell_type": "code",
   "execution_count": 10,
   "metadata": {},
   "outputs": [
    {
     "data": {
      "text/plain": [
       "Trump      2624\n",
       "Clinton     488\n",
       "Name: Target, dtype: int64"
      ]
     },
     "execution_count": 10,
     "metadata": {},
     "output_type": "execute_result"
    }
   ],
   "source": [
    "df.Target.value_counts()"
   ]
  },
  {
   "cell_type": "code",
   "execution_count": 11,
   "metadata": {},
   "outputs": [],
   "source": [
    "Clinton = df.loc[df.Target == 'Clinton']"
   ]
  },
  {
   "cell_type": "code",
   "execution_count": 12,
   "metadata": {},
   "outputs": [],
   "source": [
    "Trump = df.loc[df.Target == 'Trump']"
   ]
  },
  {
   "cell_type": "code",
   "execution_count": 13,
   "metadata": {},
   "outputs": [
    {
     "data": {
      "text/plain": [
       "62298328"
      ]
     },
     "execution_count": 13,
     "metadata": {},
     "output_type": "execute_result"
    }
   ],
   "source": [
    "df.Clinton.sum()"
   ]
  },
  {
   "cell_type": "code",
   "execution_count": 14,
   "metadata": {},
   "outputs": [
    {
     "data": {
      "text/plain": [
       "60995541"
      ]
     },
     "execution_count": 14,
     "metadata": {},
     "output_type": "execute_result"
    }
   ],
   "source": [
    "df.Trump.sum()"
   ]
  },
  {
   "cell_type": "code",
   "execution_count": 15,
   "metadata": {},
   "outputs": [
    {
     "data": {
      "text/plain": [
       "1.0213587252222256"
      ]
     },
     "execution_count": 15,
     "metadata": {},
     "output_type": "execute_result"
    }
   ],
   "source": [
    "df.Clinton.sum()/df.Trump.sum()"
   ]
  },
  {
   "cell_type": "code",
   "execution_count": 16,
   "metadata": {},
   "outputs": [
    {
     "data": {
      "text/plain": [
       "0.9790879299360972"
      ]
     },
     "execution_count": 16,
     "metadata": {},
     "output_type": "execute_result"
    }
   ],
   "source": [
    "df.Trump.sum()/df.Clinton.sum()"
   ]
  },
  {
   "cell_type": "code",
   "execution_count": 17,
   "metadata": {},
   "outputs": [],
   "source": [
    "target_df = df[['Target']]"
   ]
  },
  {
   "cell_type": "code",
   "execution_count": 18,
   "metadata": {},
   "outputs": [
    {
     "data": {
      "text/html": [
       "<div>\n",
       "<style scoped>\n",
       "    .dataframe tbody tr th:only-of-type {\n",
       "        vertical-align: middle;\n",
       "    }\n",
       "\n",
       "    .dataframe tbody tr th {\n",
       "        vertical-align: top;\n",
       "    }\n",
       "\n",
       "    .dataframe thead th {\n",
       "        text-align: right;\n",
       "    }\n",
       "</style>\n",
       "<table border=\"1\" class=\"dataframe\">\n",
       "  <thead>\n",
       "    <tr style=\"text-align: right;\">\n",
       "      <th></th>\n",
       "      <th>Target</th>\n",
       "    </tr>\n",
       "  </thead>\n",
       "  <tbody>\n",
       "    <tr>\n",
       "      <th>0</th>\n",
       "      <td>Trump</td>\n",
       "    </tr>\n",
       "    <tr>\n",
       "      <th>1</th>\n",
       "      <td>Trump</td>\n",
       "    </tr>\n",
       "    <tr>\n",
       "      <th>2</th>\n",
       "      <td>Trump</td>\n",
       "    </tr>\n",
       "    <tr>\n",
       "      <th>3</th>\n",
       "      <td>Trump</td>\n",
       "    </tr>\n",
       "    <tr>\n",
       "      <th>4</th>\n",
       "      <td>Trump</td>\n",
       "    </tr>\n",
       "  </tbody>\n",
       "</table>\n",
       "</div>"
      ],
      "text/plain": [
       "  Target\n",
       "0  Trump\n",
       "1  Trump\n",
       "2  Trump\n",
       "3  Trump\n",
       "4  Trump"
      ]
     },
     "execution_count": 18,
     "metadata": {},
     "output_type": "execute_result"
    }
   ],
   "source": [
    "target_df.head()"
   ]
  },
  {
   "cell_type": "code",
   "execution_count": 19,
   "metadata": {},
   "outputs": [
    {
     "data": {
      "text/plain": [
       "Target \n",
       "Trump      2624\n",
       "Clinton     488\n",
       "dtype: int64"
      ]
     },
     "execution_count": 19,
     "metadata": {},
     "output_type": "execute_result"
    }
   ],
   "source": [
    "target_df.value_counts()"
   ]
  },
  {
   "cell_type": "code",
   "execution_count": 20,
   "metadata": {},
   "outputs": [
    {
     "data": {
      "text/plain": [
       "Clinton or Trump State    0\n",
       "Clinton                   0\n",
       "Trump                     0\n",
       " Clinton                  0\n",
       " Trump                    0\n",
       "Vote Difference CT        0\n",
       "Vote Difference TC        0\n",
       "Percent Difference CT     0\n",
       "Percent Difference TC     0\n",
       "State                     0\n",
       "County                    0\n",
       "Target                    0\n",
       "dtype: int64"
      ]
     },
     "execution_count": 20,
     "metadata": {},
     "output_type": "execute_result"
    }
   ],
   "source": [
    "df.isna().sum()"
   ]
  },
  {
   "cell_type": "code",
   "execution_count": 21,
   "metadata": {},
   "outputs": [],
   "source": [
    "dump(target_df, open('target_df.pkl', 'wb'))"
   ]
  },
  {
   "cell_type": "code",
   "execution_count": null,
   "metadata": {},
   "outputs": [],
   "source": []
  }
 ],
 "metadata": {
  "kernelspec": {
   "display_name": "Python (learn-env)",
   "language": "python",
   "name": "learn-env"
  },
  "language_info": {
   "codemirror_mode": {
    "name": "ipython",
    "version": 3
   },
   "file_extension": ".py",
   "mimetype": "text/x-python",
   "name": "python",
   "nbconvert_exporter": "python",
   "pygments_lexer": "ipython3",
   "version": "3.8.5"
  }
 },
 "nbformat": 4,
 "nbformat_minor": 4
}
