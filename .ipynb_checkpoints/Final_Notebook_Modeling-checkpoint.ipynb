{
 "cells": [
  {
   "cell_type": "markdown",
   "metadata": {},
   "source": [
    "# Modeling for Predicting Presidential Elections at the County Level"
   ]
  },
  {
   "cell_type": "code",
   "execution_count": 1,
   "metadata": {},
   "outputs": [],
   "source": [
    "#import basic tools\n",
    "import pandas as pd\n",
    "import numpy as np\n",
    "import seaborn as sns\n",
    "from tabulate import tabulate\n",
    "#import pickle load and dump so pickled files can be opened and exported\n",
    "from pickle import load\n",
    "from pickle import dump\n",
    "#set to no max columns for ease of viewing\n",
    "pd.set_option(\"max_columns\", None)\n",
    "#for preprocessing\n",
    "from sklearn.preprocessing import OneHotEncoder\n",
    "from sklearn.model_selection import train_test_split\n",
    "from sklearn.compose import ColumnTransformer\n",
    "#pipeline stuff\n",
    "from sklearn.pipeline import Pipeline\n",
    "from pipelinehelper import PipelineHelper\n",
    "from imblearn.pipeline import Pipeline as imbpipe\n",
    "from sklearn.pipeline import make_pipeline\n",
    "#cross validate and grid search\n",
    "from sklearn.model_selection import GridSearchCV\n",
    "from sklearn.model_selection import cross_validate\n",
    "from sklearn.model_selection import cross_val_predict\n",
    "#Scalers\n",
    "from sklearn.preprocessing import MinMaxScaler\n",
    "from sklearn.preprocessing import MaxAbsScaler\n",
    "from sklearn.preprocessing import StandardScaler\n",
    "#classifiers\n",
    "from sklearn.svm import LinearSVC\n",
    "from sklearn.ensemble import RandomForestClassifier\n",
    "from sklearn.linear_model import LogisticRegression\n",
    "from sklearn.tree import DecisionTreeClassifier\n",
    "from sklearn import svm\n",
    "#resampling\n",
    "from imblearn.over_sampling import SMOTE\n",
    "#metrics\n",
    "from sklearn.metrics import balanced_accuracy_score\n",
    "from sklearn.metrics import confusion_matrix, plot_confusion_matrix"
   ]
  },
  {
   "cell_type": "markdown",
   "metadata": {},
   "source": [
    "The target is the winner of the 2016 presidential election. Choices are Donald Trump and Hillary Clinton.\n",
    "\n",
    "This is an imbalanced binary classification with the dominant class comprising over 80% of the target. The two target options are equally important so we will be looking at balanced accuracy. \n",
    "\n",
    "From google: Balanced accuracy is calculated as the average of the proportion corrects of each class individually.\n",
    "\n",
    "Preprocessing for this dataset can be found in the Preprocessing Final Notebook.  \n",
    "Many more model iterations can be found in the 'models' folder in the repo."
   ]
  },
  {
   "cell_type": "markdown",
   "metadata": {},
   "source": [
    "## First Simple Model"
   ]
  },
  {
   "cell_type": "markdown",
   "metadata": {},
   "source": [
    "For a first simple model I used:  \n",
    "Get_dummies for categorical data  \n",
    "Standard scaler for numeric data  \n",
    "svm.SVC for a classifier with 3 kernel options."
   ]
  },
  {
   "cell_type": "code",
   "execution_count": 2,
   "metadata": {},
   "outputs": [],
   "source": [
    "#load in the finalized dataset\n",
    "fsm = load(open('PICKLES/df_all.pkl', 'rb'))"
   ]
  },
  {
   "cell_type": "code",
   "execution_count": 3,
   "metadata": {},
   "outputs": [],
   "source": [
    "#drop county columns because they were only left in for sorting verification\n",
    "#drop all but one state column. We'll one hot encode the one left\n",
    "#drop id because it is irrelevant\n",
    "#drop 2016 total votes because it will cause data leakage \n",
    "fsm = fsm.drop(['County_x', 'State_x', 'County_y', 'state', 'county', 'id'], axis = 1)"
   ]
  },
  {
   "cell_type": "code",
   "execution_count": 4,
   "metadata": {},
   "outputs": [],
   "source": [
    "#get_dummies for categorical data\n",
    "state_dummies = pd.get_dummies(fsm['State_y'], drop_first = True)\n",
    "central_outlying = pd.get_dummies(fsm['central_outlying'], drop_first = True)"
   ]
  },
  {
   "cell_type": "code",
   "execution_count": 5,
   "metadata": {},
   "outputs": [],
   "source": [
    "#drop original categorical columns\n",
    "fsm = fsm.drop(['State_y', 'central_outlying'], axis = 1)"
   ]
  },
  {
   "cell_type": "code",
   "execution_count": 6,
   "metadata": {},
   "outputs": [],
   "source": [
    "#join new categorical columns with dataset\n",
    "fsm = pd.concat([fsm, state_dummies, central_outlying], axis = 1)"
   ]
  },
  {
   "cell_type": "code",
   "execution_count": 7,
   "metadata": {},
   "outputs": [],
   "source": [
    "#map 0 and 1 to target\n",
    "fsm.Target = fsm.Target.map({'Trump': 0, 'Clinton': 1})"
   ]
  },
  {
   "cell_type": "code",
   "execution_count": 8,
   "metadata": {},
   "outputs": [],
   "source": [
    "#split into data and target\n",
    "fsm_X = fsm.drop(['Target'], axis = 1)\n",
    "fsm_y = fsm.Target"
   ]
  },
  {
   "cell_type": "code",
   "execution_count": 9,
   "metadata": {},
   "outputs": [],
   "source": [
    "#train test split\n",
    "fsm_X_train, fsm_X_test, fsm_y_train, fsm_y_test = train_test_split(fsm_X, fsm_y, stratify = fsm_y, random_state = 42)"
   ]
  },
  {
   "cell_type": "code",
   "execution_count": 10,
   "metadata": {},
   "outputs": [],
   "source": [
    "#create pipeline, parameters, and gridsearch\n",
    "param = {'svc__kernel': ['rbf', 'poly', 'linear']}\n",
    "pipe2 = make_pipeline(StandardScaler(), svm.SVC())\n",
    "grid = GridSearchCV(pipe2, param, scoring= 'balanced_accuracy')"
   ]
  },
  {
   "cell_type": "code",
   "execution_count": 11,
   "metadata": {},
   "outputs": [
    {
     "data": {
      "text/plain": [
       "GridSearchCV(estimator=Pipeline(steps=[('standardscaler', StandardScaler()),\n",
       "                                       ('svc', SVC())]),\n",
       "             param_grid={'svc__kernel': ['rbf', 'poly', 'linear']},\n",
       "             scoring='balanced_accuracy')"
      ]
     },
     "execution_count": 11,
     "metadata": {},
     "output_type": "execute_result"
    }
   ],
   "source": [
    "#fit the gridsearch\n",
    "grid.fit(fsm_X_train, fsm_y_train)"
   ]
  },
  {
   "cell_type": "code",
   "execution_count": 12,
   "metadata": {},
   "outputs": [
    {
     "data": {
      "text/plain": [
       "0.7682057448429769"
      ]
     },
     "execution_count": 12,
     "metadata": {},
     "output_type": "execute_result"
    }
   ],
   "source": [
    "#best balanced accuracy score\n",
    "grid.best_score_"
   ]
  },
  {
   "cell_type": "code",
   "execution_count": 13,
   "metadata": {},
   "outputs": [
    {
     "data": {
      "text/plain": [
       "{'svc__kernel': 'linear'}"
      ]
     },
     "execution_count": 13,
     "metadata": {},
     "output_type": "execute_result"
    }
   ],
   "source": [
    "#best parameters from grid search\n",
    "grid.best_params_"
   ]
  },
  {
   "cell_type": "code",
   "execution_count": 14,
   "metadata": {},
   "outputs": [],
   "source": [
    "#take a look at predictions and confusion matrix\n",
    "estimator = make_pipeline(StandardScaler(), svm.SVC(kernel = 'linear'))"
   ]
  },
  {
   "cell_type": "code",
   "execution_count": 15,
   "metadata": {},
   "outputs": [],
   "source": [
    "fsm_y_hat_train = cross_val_predict(estimator, fsm_X_train, fsm_y_train)"
   ]
  },
  {
   "cell_type": "code",
   "execution_count": 16,
   "metadata": {},
   "outputs": [
    {
     "data": {
      "text/plain": [
       "array([[1969,   20],\n",
       "       [ 166,  200]], dtype=int64)"
      ]
     },
     "execution_count": 16,
     "metadata": {},
     "output_type": "execute_result"
    }
   ],
   "source": [
    "confusion_matrix(fsm_y_train, fsm_y_hat_train)"
   ]
  },
  {
   "cell_type": "markdown",
   "metadata": {},
   "source": [
    "We're missing quite a few of Clinton's counties.  \n",
    "Best score is 76.8%.  \n",
    "Best kernel for svm.SVC is 'linear'.  "
   ]
  },
  {
   "cell_type": "markdown",
   "metadata": {},
   "source": [
    "# Large Grid"
   ]
  },
  {
   "cell_type": "markdown",
   "metadata": {},
   "source": [
    "### Create a large grid search testing different scalers, different classifiers, and different parameters for those classifiers."
   ]
  },
  {
   "cell_type": "code",
   "execution_count": 17,
   "metadata": {},
   "outputs": [],
   "source": [
    "#load in the finalized dataset.\n",
    "df = load(open('PICKLES/df_all.pkl', 'rb'))"
   ]
  },
  {
   "cell_type": "code",
   "execution_count": 18,
   "metadata": {},
   "outputs": [],
   "source": [
    "#drop county columns because they were only left in for sorting verification\n",
    "#drop all but one state column. We'll one hot encode the one left\n",
    "#drop id because it is irrelevant\n",
    "#drop 2016 total votes because it will cause data leakage \n",
    "df = df.drop(['County_x', 'State_x', 'County_y', 'state', 'county', 'id', '2016_total_votes'], axis = 1)"
   ]
  },
  {
   "cell_type": "code",
   "execution_count": 19,
   "metadata": {},
   "outputs": [],
   "source": [
    "#map 0 and 1 to the target.\n",
    "df.Target = df.Target.map({'Trump': 0, 'Clinton': 1})"
   ]
  },
  {
   "cell_type": "code",
   "execution_count": 20,
   "metadata": {},
   "outputs": [],
   "source": [
    "#split into data and target\n",
    "X = df.drop(['Target'], axis = 1)\n",
    "y = df.Target"
   ]
  },
  {
   "cell_type": "code",
   "execution_count": 21,
   "metadata": {},
   "outputs": [],
   "source": [
    "#preprocess numeric and categorical data \n",
    "#build a pipeline for scaler options for numeric data\n",
    "#one hot encode categorical columns. \n",
    "numeric_features = list(X.select_dtypes('float64').columns)"
   ]
  },
  {
   "cell_type": "code",
   "execution_count": 22,
   "metadata": {},
   "outputs": [],
   "source": [
    "numeric_transformer = Pipeline(steps = [('scaler', PipelineHelper([\n",
    "        ('std', StandardScaler()),\n",
    "        ('max', MaxAbsScaler()),\n",
    "        ('minmax', MinMaxScaler())]))])"
   ]
  },
  {
   "cell_type": "code",
   "execution_count": 23,
   "metadata": {},
   "outputs": [],
   "source": [
    "categorical_features = list(X.select_dtypes('object').columns)"
   ]
  },
  {
   "cell_type": "code",
   "execution_count": 24,
   "metadata": {},
   "outputs": [],
   "source": [
    "categorical_transformer = OneHotEncoder(handle_unknown = 'ignore')"
   ]
  },
  {
   "cell_type": "code",
   "execution_count": 25,
   "metadata": {},
   "outputs": [],
   "source": [
    "preprocessor = ColumnTransformer(transformers = [\n",
    "    ('num', numeric_transformer, numeric_features),\n",
    "    ('cat', categorical_transformer, categorical_features)\n",
    "])"
   ]
  },
  {
   "cell_type": "code",
   "execution_count": 26,
   "metadata": {},
   "outputs": [],
   "source": [
    "#create a pipeline with preprocessing and classifier options.\n",
    "pipe = Pipeline([\n",
    "    ('preprocess', preprocessor),\n",
    "    ('classifier', PipelineHelper([\n",
    "        ('svm', LinearSVC()),\n",
    "        ('rf', RandomForestClassifier()),\n",
    "        ('logreg', LogisticRegression()),\n",
    "        ('dt', DecisionTreeClassifier())\n",
    "    ])),\n",
    "])"
   ]
  },
  {
   "cell_type": "code",
   "execution_count": 27,
   "metadata": {},
   "outputs": [],
   "source": [
    "#try different paramaters for the classifiers.\n",
    "params = {\n",
    "    'classifier__selected_model': pipe.named_steps['classifier'].generate({\n",
    "        'svm__class_weight': [None, 'balanced'],\n",
    "        'rf__max_depth': [None, 5, 10, 30],\n",
    "        'rf__class_weight': [None, 'balanced'],\n",
    "        'rf__n_estimators': [100, 20],\n",
    "        'logreg__penalty': [None, 'l1', 'l2', 'elasticnet'],\n",
    "        'logreg__C': [0.1, 1.0],\n",
    "        'logreg__class_weight': [None, 'balanced'],\n",
    "        'logreg__solver': ['lbfgs', 'liblinear', 'sag', 'saga'],\n",
    "        'dt__class_weight': [None, 'balanced']\n",
    "    })\n",
    "}"
   ]
  },
  {
   "cell_type": "code",
   "execution_count": 28,
   "metadata": {},
   "outputs": [],
   "source": [
    "#train test split\n",
    "X_train, X_test, y_train, y_test = train_test_split(X, y, stratify = y, random_state = 42)"
   ]
  },
  {
   "cell_type": "code",
   "execution_count": 29,
   "metadata": {},
   "outputs": [],
   "source": [
    "#build grid search\n",
    "grid = GridSearchCV(pipe, params, scoring= 'balanced_accuracy')"
   ]
  },
  {
   "cell_type": "markdown",
   "metadata": {},
   "source": [
    "Fit grid search."
   ]
  },
  {
   "cell_type": "code",
   "execution_count": 30,
   "metadata": {},
   "outputs": [],
   "source": [
    "%%capture output\n",
    "#fit grid search\n",
    "#capture output hides grid search failure on solvers and penalties that do not cooperate. This is so that the warnings do not\n",
    "#dominate the github repo making it impossible to read. \n",
    "grid.fit(X_train, y_train)"
   ]
  },
  {
   "cell_type": "code",
   "execution_count": 31,
   "metadata": {},
   "outputs": [
    {
     "data": {
      "text/plain": [
       "0.951597522976822"
      ]
     },
     "execution_count": 31,
     "metadata": {},
     "output_type": "execute_result"
    }
   ],
   "source": [
    "#look at best scores and best parameters\n",
    "grid.best_score_"
   ]
  },
  {
   "cell_type": "code",
   "execution_count": 32,
   "metadata": {},
   "outputs": [
    {
     "data": {
      "text/plain": [
       "{'classifier__selected_model': ('logreg',\n",
       "  {'C': 1.0, 'class_weight': 'balanced', 'penalty': 'l2', 'solver': 'lbfgs'})}"
      ]
     },
     "execution_count": 32,
     "metadata": {},
     "output_type": "execute_result"
    }
   ],
   "source": [
    "grid.best_params_"
   ]
  },
  {
   "cell_type": "markdown",
   "metadata": {},
   "source": [
    "Score: 95.2%   \n",
    "Best classifier: Logistic Regression  \n",
    "Best parameters for logreg:  \n",
    "    C: 1.0  \n",
    "    Class weight: 'balanced'  \n",
    "    Penalty: 'l2'  \n",
    "    Solver: 'lbfgs'  \n",
    "    \n",
    "Next I will build a model with these best parameters but with scaler in a more visible format."
   ]
  },
  {
   "cell_type": "markdown",
   "metadata": {},
   "source": [
    "## Try Best Params"
   ]
  },
  {
   "cell_type": "markdown",
   "metadata": {},
   "source": [
    "Build a simple model with the best classifier. Scaling info did not come up on best params for large grid search so I moved it into a pipeline where we will see the results."
   ]
  },
  {
   "cell_type": "code",
   "execution_count": 33,
   "metadata": {},
   "outputs": [],
   "source": [
    "#load in prepared dataset\n",
    "df = load(open('PICKLES/df_all.pkl', 'rb'))"
   ]
  },
  {
   "cell_type": "code",
   "execution_count": 34,
   "metadata": {},
   "outputs": [],
   "source": [
    "#drop unnecessary columns\n",
    "df = df.drop(['County_x', 'State_x', 'County_y', 'state', 'county', 'id', '2016_total_votes'], axis = 1)"
   ]
  },
  {
   "cell_type": "code",
   "execution_count": 35,
   "metadata": {},
   "outputs": [],
   "source": [
    "#map 0 and 1 to target\n",
    "df.Target = df.Target.map({'Trump': 0, 'Clinton': 1})"
   ]
  },
  {
   "cell_type": "code",
   "execution_count": 36,
   "metadata": {},
   "outputs": [],
   "source": [
    "#split into data and target\n",
    "X = df.drop(['Target'], axis = 1)\n",
    "y = df.Target"
   ]
  },
  {
   "cell_type": "code",
   "execution_count": 37,
   "metadata": {},
   "outputs": [],
   "source": [
    "#preprocessing numeric and categorical data\n",
    "#build a pipeline for scaler options for numeric data\n",
    "#one hot encode categorical columns\n",
    "numeric_features = list(X.select_dtypes('float64').columns)"
   ]
  },
  {
   "cell_type": "code",
   "execution_count": 38,
   "metadata": {},
   "outputs": [],
   "source": [
    "numeric_transformer = Pipeline(steps = [('scaler', PipelineHelper([\n",
    "        ('std', StandardScaler()),\n",
    "        ('max', MaxAbsScaler()),\n",
    "        ('minmax', MinMaxScaler())]))])"
   ]
  },
  {
   "cell_type": "code",
   "execution_count": 39,
   "metadata": {},
   "outputs": [],
   "source": [
    "categorical_features = list(X.select_dtypes('object').columns)"
   ]
  },
  {
   "cell_type": "code",
   "execution_count": 40,
   "metadata": {},
   "outputs": [],
   "source": [
    "categorical_transformer = OneHotEncoder(handle_unknown = 'ignore')"
   ]
  },
  {
   "cell_type": "code",
   "execution_count": 41,
   "metadata": {},
   "outputs": [],
   "source": [
    "preprocessor = ColumnTransformer(transformers = [\n",
    "    ('num', numeric_transformer, numeric_features),\n",
    "    ('cat', categorical_transformer, categorical_features)\n",
    "])"
   ]
  },
  {
   "cell_type": "code",
   "execution_count": 42,
   "metadata": {},
   "outputs": [],
   "source": [
    "#create a pipeline with preprocessing, logreg, and scaling options\n",
    "pipe = Pipeline([\n",
    "    ('preprocess', preprocessor),\n",
    "    ('scaler', PipelineHelper([\n",
    "        ('std', StandardScaler()),\n",
    "        ('max', MaxAbsScaler()),\n",
    "        ('minmax', MinMaxScaler())\n",
    "    ])),\n",
    "    ('logreg', LogisticRegression()),\n",
    "])"
   ]
  },
  {
   "cell_type": "code",
   "execution_count": 43,
   "metadata": {},
   "outputs": [],
   "source": [
    "#try different paramaters for the classifiers and scalers\n",
    "params = {\n",
    "    'scaler__selected_model': pipe.named_steps['scaler'].generate({\n",
    "        'std__with_mean': [True, False],\n",
    "        'std__with_std': [True, False],\n",
    "    }),\n",
    "        'logreg__penalty': [None, 'l1', 'l2', 'elasticnet'],\n",
    "        'logreg__C': [0.1, 1.0],\n",
    "        'logreg__class_weight': [None, 'balanced'],\n",
    "        'logreg__solver': ['lbfgs', 'liblinear', 'sag', 'saga']\n",
    "}"
   ]
  },
  {
   "cell_type": "code",
   "execution_count": 44,
   "metadata": {},
   "outputs": [],
   "source": [
    "#train test split\n",
    "X_train, X_test, y_train, y_test = train_test_split(X, y, stratify = y, random_state = 42)"
   ]
  },
  {
   "cell_type": "code",
   "execution_count": 45,
   "metadata": {},
   "outputs": [],
   "source": [
    "#build grid search\n",
    "grid = GridSearchCV(pipe, params, scoring= 'balanced_accuracy')"
   ]
  },
  {
   "cell_type": "code",
   "execution_count": 46,
   "metadata": {},
   "outputs": [],
   "source": [
    "%%capture output\n",
    "#capture output hides grid search failure on solvers and penalties that do not cooperate. This is so that the warnings do not\n",
    "#dominate the github repo making it impossible to read. \n",
    "#fit grid search\n",
    "grid.fit(X_train, y_train)"
   ]
  },
  {
   "cell_type": "code",
   "execution_count": 47,
   "metadata": {},
   "outputs": [
    {
     "data": {
      "text/plain": [
       "0.951597522976822"
      ]
     },
     "execution_count": 47,
     "metadata": {},
     "output_type": "execute_result"
    }
   ],
   "source": [
    "#look at best scores and best parameters\n",
    "grid.best_score_"
   ]
  },
  {
   "cell_type": "code",
   "execution_count": 48,
   "metadata": {},
   "outputs": [
    {
     "data": {
      "text/plain": [
       "{'logreg__C': 1.0,\n",
       " 'logreg__class_weight': 'balanced',\n",
       " 'logreg__penalty': 'l2',\n",
       " 'logreg__solver': 'lbfgs',\n",
       " 'scaler__selected_model': ('std', {'with_mean': False, 'with_std': False})}"
      ]
     },
     "execution_count": 48,
     "metadata": {},
     "output_type": "execute_result"
    }
   ],
   "source": [
    "grid.best_params_"
   ]
  },
  {
   "cell_type": "markdown",
   "metadata": {},
   "source": [
    "This successfully recreated the best model from the large grid search but this time we can see the scaling.\n",
    "\n",
    "Score: 95.2%   \n",
    "Classifier: Logistic Regression  \n",
    "Parameters for logreg:  \n",
    "    C: 1.0  \n",
    "    Class weight: 'balanced'  \n",
    "    Penalty: 'l2'  \n",
    "    Solver: 'lbfgs'  \n",
    "Best scaler: Standard Scaler  \n",
    "Parameters for Standard Scaler:  \n",
    "    with_mean = False  \n",
    "    with_std = False  \n",
    "    \n",
    "Next we'll take a look at the model without scaling."
   ]
  },
  {
   "cell_type": "markdown",
   "metadata": {},
   "source": [
    "## Third attempt: No Scaling"
   ]
  },
  {
   "cell_type": "markdown",
   "metadata": {},
   "source": [
    "Recreate the model above but with no scaling."
   ]
  },
  {
   "cell_type": "code",
   "execution_count": 49,
   "metadata": {},
   "outputs": [],
   "source": [
    "#load in the finalized dataset.\n",
    "df = load(open('PICKLES/df_all.pkl', 'rb'))"
   ]
  },
  {
   "cell_type": "code",
   "execution_count": 50,
   "metadata": {},
   "outputs": [],
   "source": [
    "#drop unneccesary columns\n",
    "df = df.drop(['County_x', 'State_x', 'County_y', 'state', 'county', 'id', '2016_total_votes'], axis = 1)"
   ]
  },
  {
   "cell_type": "code",
   "execution_count": 51,
   "metadata": {},
   "outputs": [],
   "source": [
    "#map 0 and 1 to the target.\n",
    "df.Target = df.Target.map({'Trump': 0, 'Clinton': 1})"
   ]
  },
  {
   "cell_type": "code",
   "execution_count": 52,
   "metadata": {},
   "outputs": [],
   "source": [
    "#split into data and target\n",
    "X = df.drop(['Target'], axis = 1)\n",
    "y = df.Target"
   ]
  },
  {
   "cell_type": "code",
   "execution_count": 53,
   "metadata": {},
   "outputs": [],
   "source": [
    "#preprocessing numeric and categorical data\n",
    "#built a pipeline for scaler options for numeric data\n",
    "#one hot encode categorical columns\n",
    "categorical_features = list(X.select_dtypes('object').columns)"
   ]
  },
  {
   "cell_type": "code",
   "execution_count": 54,
   "metadata": {},
   "outputs": [],
   "source": [
    "categorical_transformer = OneHotEncoder(handle_unknown = 'ignore')"
   ]
  },
  {
   "cell_type": "code",
   "execution_count": 55,
   "metadata": {},
   "outputs": [],
   "source": [
    "preprocessor = ColumnTransformer(transformers = [\n",
    "    ('cat', categorical_transformer, categorical_features)\n",
    "])"
   ]
  },
  {
   "cell_type": "code",
   "execution_count": 56,
   "metadata": {},
   "outputs": [],
   "source": [
    "#create a pipeline with preprocessing and logreg\n",
    "pipe = Pipeline([\n",
    "    ('preprocess', preprocessor),\n",
    "    ('logreg', LogisticRegression()),\n",
    "])"
   ]
  },
  {
   "cell_type": "code",
   "execution_count": 57,
   "metadata": {},
   "outputs": [],
   "source": [
    "#try different paramaters for logreg\n",
    "params = {\n",
    "        'logreg__penalty': [None, 'l1', 'l2', 'elasticnet'],\n",
    "        'logreg__C': [0.1, 1.0],\n",
    "        'logreg__class_weight': [None, 'balanced'],\n",
    "        'logreg__solver': ['lbfgs', 'liblinear', 'sag', 'saga']\n",
    "    }"
   ]
  },
  {
   "cell_type": "code",
   "execution_count": 58,
   "metadata": {},
   "outputs": [],
   "source": [
    "#train test split\n",
    "X_train, X_test, y_train, y_test = train_test_split(X, y, stratify = y, random_state = 42)"
   ]
  },
  {
   "cell_type": "code",
   "execution_count": 59,
   "metadata": {},
   "outputs": [],
   "source": [
    "#build grid search\n",
    "grid = GridSearchCV(pipe, params, scoring= 'balanced_accuracy')"
   ]
  },
  {
   "cell_type": "code",
   "execution_count": 60,
   "metadata": {},
   "outputs": [],
   "source": [
    "%%capture output\n",
    "#capture output hides grid search failure on solvers and penalties that do not cooperate. This is so that the warnings do not\n",
    "#dominate the github repo making it impossible to read. \n",
    "grid.fit(X_train, y_train)"
   ]
  },
  {
   "cell_type": "code",
   "execution_count": 61,
   "metadata": {},
   "outputs": [
    {
     "data": {
      "text/plain": [
       "0.7148898155292918"
      ]
     },
     "execution_count": 61,
     "metadata": {},
     "output_type": "execute_result"
    }
   ],
   "source": [
    "#look at best scores and best parameters\n",
    "grid.best_score_"
   ]
  },
  {
   "cell_type": "code",
   "execution_count": 62,
   "metadata": {},
   "outputs": [
    {
     "data": {
      "text/plain": [
       "{'logreg__C': 1.0,\n",
       " 'logreg__class_weight': 'balanced',\n",
       " 'logreg__penalty': 'l2',\n",
       " 'logreg__solver': 'saga'}"
      ]
     },
     "execution_count": 62,
     "metadata": {},
     "output_type": "execute_result"
    }
   ],
   "source": [
    "grid.best_params_"
   ]
  },
  {
   "cell_type": "markdown",
   "metadata": {},
   "source": [
    "This successfully recreated the best model from the large grid search but this time without scaling.\n",
    "\n",
    "Score: 71.5%  \n",
    "Classifier: Logistic Regression  \n",
    "Parameters for logreg:  \n",
    "C: 1.0  \n",
    "Class weight: 'balanced'  \n",
    "Penalty: 'l2'  \n",
    "Solver: 'lbfgs'    \n",
    "\n",
    "This confirmed that scaling is helping the model."
   ]
  },
  {
   "cell_type": "markdown",
   "metadata": {},
   "source": [
    "## SMOTE"
   ]
  },
  {
   "cell_type": "markdown",
   "metadata": {},
   "source": [
    "Recreate best model with scaling and SMOTE."
   ]
  },
  {
   "cell_type": "code",
   "execution_count": 63,
   "metadata": {},
   "outputs": [],
   "source": [
    "#load in the finalized dataset.\n",
    "df = load(open('PICKLES/df_all.pkl', 'rb'))"
   ]
  },
  {
   "cell_type": "code",
   "execution_count": 64,
   "metadata": {},
   "outputs": [],
   "source": [
    "#drop county columns because they were only left in for sorting verification\n",
    "#drop all but one state column. We'll one hot encode the one left\n",
    "#drop id because it is irrelevant\n",
    "#drop 2016 total votes because it will cause data leakage \n",
    "df = df.drop(['County_x', 'State_x', 'County_y', 'state', 'county', 'id', '2016_total_votes'], axis = 1)"
   ]
  },
  {
   "cell_type": "code",
   "execution_count": 65,
   "metadata": {},
   "outputs": [],
   "source": [
    "#map 0 and 1 to the target\n",
    "df.Target = df.Target.map({'Trump': 0, 'Clinton': 1})"
   ]
  },
  {
   "cell_type": "code",
   "execution_count": 66,
   "metadata": {},
   "outputs": [],
   "source": [
    "#split into data and target\n",
    "X = df.drop(['Target'], axis = 1)\n",
    "y = df.Target"
   ]
  },
  {
   "cell_type": "code",
   "execution_count": 67,
   "metadata": {},
   "outputs": [],
   "source": [
    "#preprocess numeric and categorical data \n",
    "#build a pipeline for scaler options for numeric data\n",
    "#one hot encode categorical columns \n",
    "numeric_features = list(X.select_dtypes('float64').columns)"
   ]
  },
  {
   "cell_type": "code",
   "execution_count": 68,
   "metadata": {},
   "outputs": [],
   "source": [
    "categorical_features = list(X.select_dtypes('object').columns)"
   ]
  },
  {
   "cell_type": "code",
   "execution_count": 69,
   "metadata": {},
   "outputs": [],
   "source": [
    "categorical_transformer = OneHotEncoder(handle_unknown = 'ignore')"
   ]
  },
  {
   "cell_type": "code",
   "execution_count": 70,
   "metadata": {},
   "outputs": [],
   "source": [
    "numeric_transformer = StandardScaler(with_mean = False, with_std = False)"
   ]
  },
  {
   "cell_type": "code",
   "execution_count": 71,
   "metadata": {},
   "outputs": [],
   "source": [
    "preprocessor = ColumnTransformer(transformers = [\n",
    "    ('num', numeric_transformer, numeric_features),\n",
    "    ('cat', categorical_transformer, categorical_features)\n",
    "])"
   ]
  },
  {
   "cell_type": "code",
   "execution_count": 72,
   "metadata": {},
   "outputs": [],
   "source": [
    "#create a pipeline with preprocessing, SMOTE, and classifier\n",
    "pipe = imbpipe(steps = [\n",
    "    ('preprocess', preprocessor),\n",
    "    ('smote', SMOTE()),\n",
    "    ('logreg', LogisticRegression(C = 1.0, class_weight = 'balanced', penalty = 'l2', solver = 'lbfgs', max_iter = 1000)),\n",
    "])"
   ]
  },
  {
   "cell_type": "code",
   "execution_count": 73,
   "metadata": {},
   "outputs": [],
   "source": [
    "#train test split\n",
    "X_train, X_test, y_train, y_test = train_test_split(X, y, stratify = y, random_state = 42)"
   ]
  },
  {
   "cell_type": "code",
   "execution_count": 74,
   "metadata": {},
   "outputs": [
    {
     "data": {
      "text/plain": [
       "Pipeline(steps=[('preprocess',\n",
       "                 ColumnTransformer(transformers=[('num',\n",
       "                                                  StandardScaler(with_mean=False,\n",
       "                                                                 with_std=False),\n",
       "                                                  ['total_pop',\n",
       "                                                   'total_pop_one_race',\n",
       "                                                   'pop_white',\n",
       "                                                   'pop_african_american',\n",
       "                                                   'pop_native', 'pop_asian',\n",
       "                                                   'pop_islander', 'pop_other',\n",
       "                                                   'total_pop_two_races',\n",
       "                                                   'Obama', 'Romney',\n",
       "                                                   '2012_total_votes',\n",
       "                                                   'Density', 'poverty_total',\n",
       "                                                   'poverty_under_18',\n",
       "                                                   'median_household_income']),\n",
       "                                                 ('cat',\n",
       "                                                  OneHotEncoder(handle_unknown='ignore'),\n",
       "                                                  ['State_y',\n",
       "                                                   'central_outlying'])])),\n",
       "                ('smote', SMOTE()),\n",
       "                ('logreg',\n",
       "                 LogisticRegression(class_weight='balanced', max_iter=1000))])"
      ]
     },
     "execution_count": 74,
     "metadata": {},
     "output_type": "execute_result"
    }
   ],
   "source": [
    "#fit pipeline \n",
    "pipe.fit(X_train, y_train)"
   ]
  },
  {
   "cell_type": "code",
   "execution_count": 75,
   "metadata": {},
   "outputs": [],
   "source": [
    "%%capture output\n",
    "#capture output hides grid search failure on solvers and penalties that do not cooperate. This is so that the warnings do not\n",
    "#dominate the github repo making it impossible to read. \n",
    "#look at cross validate results\n",
    "results = cross_validate(pipe, X_train, y_train, return_train_score = True, scoring = 'balanced_accuracy')"
   ]
  },
  {
   "cell_type": "code",
   "execution_count": 76,
   "metadata": {},
   "outputs": [
    {
     "data": {
      "text/plain": [
       "0.9409528902034909"
      ]
     },
     "execution_count": 76,
     "metadata": {},
     "output_type": "execute_result"
    }
   ],
   "source": [
    "#test score\n",
    "results['test_score'].mean()"
   ]
  },
  {
   "cell_type": "code",
   "execution_count": 77,
   "metadata": {},
   "outputs": [
    {
     "data": {
      "text/plain": [
       "0.951853975357326"
      ]
     },
     "execution_count": 77,
     "metadata": {},
     "output_type": "execute_result"
    }
   ],
   "source": [
    "#train score\n",
    "results['train_score'].mean()"
   ]
  },
  {
   "cell_type": "code",
   "execution_count": 78,
   "metadata": {},
   "outputs": [],
   "source": [
    "%%capture output\n",
    "#capture output hides grid search failure on solvers and penalties that do not cooperate. This is so that the warnings do not\n",
    "#dominate the github repo making it impossible to read. \n",
    "#make cross val predictions\n",
    "y_hat_train = cross_val_predict(pipe, X_train, y_train)"
   ]
  },
  {
   "cell_type": "code",
   "execution_count": 79,
   "metadata": {},
   "outputs": [
    {
     "data": {
      "text/plain": [
       "array([[1914,   75],\n",
       "       [  32,  334]], dtype=int64)"
      ]
     },
     "execution_count": 79,
     "metadata": {},
     "output_type": "execute_result"
    }
   ],
   "source": [
    "#confusion matrix\n",
    "confusion_matrix(y_train, y_hat_train)"
   ]
  },
  {
   "cell_type": "markdown",
   "metadata": {},
   "source": [
    "This successfully recreated the best model from the large grid search but this time with scaling and SMOTE.\n",
    "\n",
    "Score: 95.1%   \n",
    "Classifier: Logistic Regression  \n",
    "Parameters for logreg:  \n",
    "    C: 1.0  \n",
    "    Class weight: 'balanced'  \n",
    "    Penalty: 'l2'  \n",
    "    Solver: 'lbfgs'  \n",
    "Best scaler: Standard Scaler  \n",
    "Parameters for Standard Scaler:  \n",
    "    with_mean = False  \n",
    "    with_std = False  \n",
    "Resampling: SMOTE  \n",
    "    \n",
    "The score went down slightly. SMOTE does not seem to be helping."
   ]
  },
  {
   "cell_type": "markdown",
   "metadata": {},
   "source": [
    "## Using Holdout Test Set on Final Model"
   ]
  },
  {
   "cell_type": "markdown",
   "metadata": {},
   "source": [
    "Final Model:  \n",
    "Classifier: Logistic Regression  \n",
    "Parameters for logreg:  \n",
    "C: 1.0  \n",
    "Class weight: 'balanced'  \n",
    "Penalty: 'l2'  \n",
    "Solver: 'lbfgs'  \n",
    "Scaler: Standard Scaler  \n",
    "Parameters for Standard Scaler:  \n",
    "with_mean = False  \n",
    "with_std = False  "
   ]
  },
  {
   "cell_type": "code",
   "execution_count": 80,
   "metadata": {},
   "outputs": [],
   "source": [
    "#load in prepared dataset\n",
    "df = load(open('PICKLES/df_all.pkl', 'rb'))"
   ]
  },
  {
   "cell_type": "code",
   "execution_count": 81,
   "metadata": {},
   "outputs": [],
   "source": [
    "#drop unnecessary columns\n",
    "df = df.drop(['County_x', 'id', 'State_x', 'County_y', 'State_y', 'county', '2016_total_votes'], axis = 1)"
   ]
  },
  {
   "cell_type": "code",
   "execution_count": 82,
   "metadata": {},
   "outputs": [],
   "source": [
    "#get_dummies for categorical data\n",
    "state_dummies = pd.get_dummies(df['state'], drop_first = True)\n",
    "central_outlying = pd.get_dummies(df['central_outlying'], drop_first = True)"
   ]
  },
  {
   "cell_type": "code",
   "execution_count": 83,
   "metadata": {},
   "outputs": [],
   "source": [
    "#drop original categorical columns\n",
    "df = df.drop(['state', 'central_outlying'], axis = 1)"
   ]
  },
  {
   "cell_type": "code",
   "execution_count": 84,
   "metadata": {},
   "outputs": [],
   "source": [
    "#join new categorical columns with dataset\n",
    "df = pd.concat([df, state_dummies, central_outlying], axis = 1)"
   ]
  },
  {
   "cell_type": "code",
   "execution_count": 85,
   "metadata": {},
   "outputs": [],
   "source": [
    "#map 0 and 1 to target\n",
    "df.Target = df.Target.map({'Trump': 0, 'Clinton': 1})"
   ]
  },
  {
   "cell_type": "code",
   "execution_count": 86,
   "metadata": {},
   "outputs": [],
   "source": [
    "#split into data and target\n",
    "X = df.drop(['Target'], axis = 1)\n",
    "y = df.Target"
   ]
  },
  {
   "cell_type": "code",
   "execution_count": 87,
   "metadata": {},
   "outputs": [],
   "source": [
    "#train test split\n",
    "X_train, X_test, y_train, y_test = train_test_split(X, y, stratify = y, random_state = 42)"
   ]
  },
  {
   "cell_type": "code",
   "execution_count": 88,
   "metadata": {},
   "outputs": [],
   "source": [
    "#instantiate standard scaler\n",
    "scaler = StandardScaler(with_mean = False, with_std = False)"
   ]
  },
  {
   "cell_type": "code",
   "execution_count": 89,
   "metadata": {},
   "outputs": [],
   "source": [
    "#fit and transform X_train\n",
    "X_train_sc = scaler.fit_transform(X_train)"
   ]
  },
  {
   "cell_type": "code",
   "execution_count": 90,
   "metadata": {},
   "outputs": [],
   "source": [
    "#transform X_test\n",
    "X_test_sc = scaler.transform(X_test)"
   ]
  },
  {
   "cell_type": "code",
   "execution_count": 91,
   "metadata": {},
   "outputs": [],
   "source": [
    "#instantiate the model\n",
    "model = LogisticRegression(class_weight = 'balanced', max_iter = 1000)"
   ]
  },
  {
   "cell_type": "code",
   "execution_count": 92,
   "metadata": {},
   "outputs": [],
   "source": [
    "%%capture output\n",
    "#capture output hides grid search failure on solvers and penalties that do not cooperate. This is so that the warnings do not\n",
    "#dominate the github repo making it impossible to read. \n",
    "#fit the model\n",
    "model.fit(X_train_sc, y_train)"
   ]
  },
  {
   "cell_type": "code",
   "execution_count": 93,
   "metadata": {},
   "outputs": [],
   "source": [
    "#make predictions on hold out test set\n",
    "yhat = model.predict(X_test)"
   ]
  },
  {
   "cell_type": "code",
   "execution_count": 94,
   "metadata": {},
   "outputs": [],
   "source": [
    "bal_acc = balanced_accuracy_score(y_test, yhat)"
   ]
  },
  {
   "cell_type": "code",
   "execution_count": 95,
   "metadata": {},
   "outputs": [
    {
     "data": {
      "text/plain": [
       "0.9315746592929093"
      ]
     },
     "execution_count": 95,
     "metadata": {},
     "output_type": "execute_result"
    }
   ],
   "source": [
    "#score on test set\n",
    "bal_acc"
   ]
  },
  {
   "cell_type": "code",
   "execution_count": 96,
   "metadata": {},
   "outputs": [
    {
     "data": {
      "text/plain": [
       "array([[633,  31],\n",
       "       [ 11, 111]], dtype=int64)"
      ]
     },
     "execution_count": 96,
     "metadata": {},
     "output_type": "execute_result"
    }
   ],
   "source": [
    "cf_matrix = confusion_matrix(y_test, yhat);\n",
    "cf_matrix"
   ]
  },
  {
   "cell_type": "code",
   "execution_count": 97,
   "metadata": {},
   "outputs": [
    {
     "data": {
      "image/png": "[encoded data removed]",
      "text/plain": [
       "<Figure size 432x288 with 2 Axes>"
      ]
     },
     "metadata": {
      "needs_background": "light"
     },
     "output_type": "display_data"
    }
   ],
   "source": [
    "ax = sns.heatmap(cf_matrix, xticklabels= ['Trump', 'Clinton'], \n",
    "            yticklabels = ['Trump', 'Clinton'], \n",
    "            annot = True, cmap = 'Greens', fmt=\"d\",\n",
    "           linewidths= .1, linecolor= 'black')\n",
    "\n",
    "ax.set(xlabel=\"Predictions\",\n",
    "      ylabel=\"Actuals\",);"
   ]
  },
  {
   "cell_type": "code",
   "execution_count": 98,
   "metadata": {},
   "outputs": [],
   "source": [
    "#function for looking at feature importances\n",
    "def f_importances(coef, names):\n",
    "    imp = coef\n",
    "    imp,names = zip(*sorted(zip(imp,names)))\n",
    "    plt.barh(range(len(names)), imp, align='center')\n",
    "    plt.yticks(range(len(names)), names)\n",
    "    plt.show()"
   ]
  },
  {
   "cell_type": "code",
   "execution_count": 99,
   "metadata": {},
   "outputs": [
    {
     "data": {
      "text/plain": [
       "array([[ 2.89956490e-05, -7.42818317e-06, -3.24792883e-05,\n",
       "         5.71386156e-05,  1.91601468e-04,  6.67175644e-04,\n",
       "        -8.06445366e-04, -8.44192569e-05,  3.64238322e-05,\n",
       "        -1.50674479e-03, -3.91775854e-03,  2.59928371e-03,\n",
       "        -1.88998814e-04,  6.27031186e-04,  9.63372714e-06,\n",
       "        -8.39703886e-05, -1.13731030e-05, -5.65239917e-06,\n",
       "        -3.30060750e-07,  5.13952271e-06,  1.32708141e-05,\n",
       "         2.63261798e-05, -1.29012410e-06, -1.27756348e-06,\n",
       "        -4.75807070e-12, -4.31464064e-06,  1.51968883e-05,\n",
       "         1.49119414e-09,  3.08792872e-06, -7.44874713e-06,\n",
       "        -4.37857927e-06, -2.08387767e-05, -8.03749952e-06,\n",
       "        -6.08762528e-06,  6.28795579e-06, -1.16449019e-06,\n",
       "        -8.73807312e-07,  1.94960354e-06, -8.57729260e-06,\n",
       "        -7.53688860e-06,  1.75949547e-05, -4.77711496e-06,\n",
       "        -3.37950221e-06, -8.18114337e-08, -1.24002166e-06,\n",
       "        -2.18465465e-06, -1.38506659e-09,  1.22779737e-05,\n",
       "        -1.53918308e-05,  5.90503766e-06, -6.93457670e-06,\n",
       "        -5.58248181e-06, -3.32445839e-06, -1.83323581e-06,\n",
       "         2.50015867e-06, -1.28506271e-06,  1.38864539e-06,\n",
       "        -4.28657993e-06, -3.20216181e-06,  5.39894130e-06,\n",
       "         5.36573946e-06,  3.84116820e-06,  5.34201100e-06,\n",
       "         2.38346710e-06, -3.10888508e-06, -3.83067425e-06,\n",
       "        -3.95343967e-07, -4.81347226e-07, -2.14003277e-05]])"
      ]
     },
     "execution_count": 99,
     "metadata": {},
     "output_type": "execute_result"
    }
   ],
   "source": [
    "#feature coefficients\n",
    "model.coef_"
   ]
  },
  {
   "cell_type": "code",
   "execution_count": 100,
   "metadata": {},
   "outputs": [
    {
     "data": {
      "text/plain": [
       "<AxesSubplot:>"
      ]
     },
     "execution_count": 100,
     "metadata": {},
     "output_type": "execute_result"
    },
    {
     "data": {
      "image/png": "[encoded data removed]",
      "text/plain": [
       "<Figure size 432x288 with 1 Axes>"
      ]
     },
     "metadata": {
      "needs_background": "light"
     },
     "output_type": "display_data"
    }
   ],
   "source": [
    "#bar graph of feature importances\n",
    "pd.Series(abs(model.coef_[0]), index=X.columns).nlargest(20).plot(kind='barh')"
   ]
  },
  {
   "cell_type": "markdown",
   "metadata": {},
   "source": [
    "## The final model used on the hold out test set has a score of 92.8%. \n",
    "### The most important features are:\n",
    "    Previous election results\n",
    "    Pacific Islander population within the county\n",
    "    Asian American population within the county\n",
    "    Number of children in poverty \n",
    "    County density"
   ]
  },
  {
   "cell_type": "code",
   "execution_count": null,
   "metadata": {},
   "outputs": [],
   "source": []
  }
 ],
 "metadata": {
  "kernelspec": {
   "display_name": "Python (learn-env)",
   "language": "python",
   "name": "learn-env"
  },
  "language_info": {
   "codemirror_mode": {
    "name": "ipython",
    "version": 3
   },
   "file_extension": ".py",
   "mimetype": "text/x-python",
   "name": "python",
   "nbconvert_exporter": "python",
   "pygments_lexer": "ipython3",
   "version": "3.8.5"
  }
 },
 "nbformat": 4,
 "nbformat_minor": 4
}
