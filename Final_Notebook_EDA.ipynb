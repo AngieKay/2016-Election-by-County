{
 "cells": [
  {
   "cell_type": "markdown",
   "metadata": {},
   "source": [
    "# Exploratory Data Analysis for Presidential Election by County Project"
   ]
  },
  {
   "cell_type": "markdown",
   "metadata": {},
   "source": [
    "Bar chart of feature importances from the final model.  "
   ]
  },
  {
   "attachments": {
    "image.png": {
     "image/png": "[encoded data removed]"
    }
   },
   "cell_type": "markdown",
   "metadata": {},
   "source": [
    "![image.png](attachment:image.png)"
   ]
  },
  {
   "cell_type": "markdown",
   "metadata": {},
   "source": [
    "Fill the tool box."
   ]
  },
  {
   "cell_type": "code",
   "execution_count": null,
   "metadata": {},
   "outputs": [],
   "source": [
    "import folium\n",
    "import json\n",
    "import pandas as pd\n",
    "import vincent\n",
    "import numpy as np\n",
    "from pickle import load\n",
    "from pickle import dump\n",
    "pd.set_option(\"max_rows\", None)\n",
    "pd.set_option(\"max_columns\", None)\n",
    "import matplotlib.pyplot as plt\n"
   ]
  },
  {
   "cell_type": "markdown",
   "metadata": {},
   "source": [
    "# ------------------------------------------Data Prep-------------------------------------------------------"
   ]
  },
  {
   "cell_type": "markdown",
   "metadata": {},
   "source": [
    "Import location data for counties.  \n",
    "https://public.opendatasoft.com/explore/dataset/us-county-boundaries/table/?disjunctive.statefp&disjunctive.countyfp&disjunctive.name&disjunctive.namelsad&disjunctive.stusab&disjunctive.state_name  \n",
    "FIPS are unique numeric identifiers for each US county. FIPS is a feature in the main dataset and is included in this geojson file."
   ]
  },
  {
   "cell_type": "code",
   "execution_count": null,
   "metadata": {},
   "outputs": [],
   "source": [
    "import json\n",
    "with open('../data/USA_Counties.geojson') as f:\n",
    "    zips_map = json.load(f)"
   ]
  },
  {
   "cell_type": "markdown",
   "metadata": {},
   "source": [
    "Load preprocessed dataset."
   ]
  },
  {
   "cell_type": "code",
   "execution_count": null,
   "metadata": {},
   "outputs": [],
   "source": [
    "df1 = load(open('../PICKLES/all_with_fips.pkl', 'rb'))"
   ]
  },
  {
   "cell_type": "markdown",
   "metadata": {},
   "source": [
    "Remove the word 'county' from values in one county column."
   ]
  },
  {
   "cell_type": "code",
   "execution_count": null,
   "metadata": {},
   "outputs": [],
   "source": [
    "df1['County_y'] = df1['County_y'].str.rstrip('County')"
   ]
  },
  {
   "cell_type": "markdown",
   "metadata": {},
   "source": [
    "Change datatype of fips column. "
   ]
  },
  {
   "cell_type": "code",
   "execution_count": null,
   "metadata": {},
   "outputs": [],
   "source": [
    "df1.fips = df1.fips.astype(str)"
   ]
  },
  {
   "cell_type": "markdown",
   "metadata": {},
   "source": [
    "Fill fips numbers to 5 digits. It was dropping leading zeros and causing the two data sets to not match."
   ]
  },
  {
   "cell_type": "code",
   "execution_count": null,
   "metadata": {},
   "outputs": [],
   "source": [
    "df1.fips = df1.fips.str.zfill(5)"
   ]
  },
  {
   "cell_type": "markdown",
   "metadata": {},
   "source": [
    "# --------------------------------------Target Analysis---------------------------------------------------"
   ]
  },
  {
   "cell_type": "markdown",
   "metadata": {},
   "source": [
    "### Map of 2016 winner"
   ]
  },
  {
   "cell_type": "code",
   "execution_count": null,
   "metadata": {},
   "outputs": [],
   "source": [
    "df1['Winner'] = df1['Target']"
   ]
  },
  {
   "cell_type": "code",
   "execution_count": null,
   "metadata": {},
   "outputs": [],
   "source": [
    "import plotly.express as px\n",
    "\n",
    "fig = px.choropleth_mapbox(df1, geojson= zips_map, color=\"Winner\",\n",
    "                           locations=\"fips\", featureidkey=\"properties.FIPS\",\n",
    "                           center={\"lat\": 31.5, \"lon\": -99.9},\n",
    "                           mapbox_style=\"white-bg\", zoom=2,\n",
    "                           color_discrete_map = {'Clinton': '#66B2FF', 'Trump': '#FF6666'})\n",
    "fig.update_layout(margin={\"r\":0,\"t\":0,\"l\":0,\"b\":0})\n",
    "fig.show()"
   ]
  },
  {
   "cell_type": "markdown",
   "metadata": {},
   "source": [
    "### Pie Chart of Target Distribution"
   ]
  },
  {
   "cell_type": "markdown",
   "metadata": {},
   "source": [
    "Donald Trump won 84.5 % of US counties in 2016."
   ]
  },
  {
   "cell_type": "code",
   "execution_count": null,
   "metadata": {},
   "outputs": [],
   "source": [
    "labels = ['Trump', 'Clinton']\n",
    "fig1, ax1 = plt.subplots()\n",
    "ax1.pie(df1.Target.value_counts(), autopct='%1.1f%%',\n",
    "        shadow=True, startangle=90, colors = ['#FF6666', '#66B2FF'], labels = labels)\n",
    "ax1.axis('equal')  # Equal aspect ratio ensures that pie is drawn as a circle.\n",
    "\n",
    "plt.show()"
   ]
  },
  {
   "cell_type": "markdown",
   "metadata": {},
   "source": [
    "### Pie Chart of Popular Vote"
   ]
  },
  {
   "cell_type": "markdown",
   "metadata": {},
   "source": [
    "This is included as illustration to show the difference between the popular vote and how counties as a whole voted."
   ]
  },
  {
   "cell_type": "code",
   "execution_count": null,
   "metadata": {},
   "outputs": [],
   "source": [
    "target = load(open('../PICKLES/target_df.pkl', 'rb'))"
   ]
  },
  {
   "cell_type": "code",
   "execution_count": null,
   "metadata": {},
   "outputs": [],
   "source": [
    "target['Clinton'] = pd.to_numeric(target['Clinton'])\n",
    "target['Trump'] = pd.to_numeric(target['Trump'])"
   ]
  },
  {
   "cell_type": "code",
   "execution_count": null,
   "metadata": {},
   "outputs": [],
   "source": [
    "target.Clinton.sum()"
   ]
  },
  {
   "cell_type": "code",
   "execution_count": null,
   "metadata": {},
   "outputs": [],
   "source": [
    "target.Trump.sum()"
   ]
  },
  {
   "cell_type": "code",
   "execution_count": null,
   "metadata": {},
   "outputs": [],
   "source": [
    "labels = 'Clinton', 'Trump'\n",
    "sizes = [62298328, 60995541]\n",
    "\n",
    "fig1, ax1 = plt.subplots()\n",
    "ax1.pie(sizes, labels=labels, autopct='%1.1f%%',\n",
    "        shadow=True, startangle=90, colors = ['#66B2FF', '#FF6666'])\n",
    "ax1.axis('equal')  # Equal aspect ratio ensures that pie is drawn as a circle.\n",
    "\n",
    "plt.show()"
   ]
  },
  {
   "cell_type": "markdown",
   "metadata": {},
   "source": [
    "# -------------------------------Previous Election Analysis-----------------------------------------"
   ]
  },
  {
   "cell_type": "markdown",
   "metadata": {},
   "source": [
    "### Map of 2012 winner"
   ]
  },
  {
   "cell_type": "markdown",
   "metadata": {},
   "source": [
    "Romney won 2440 counties and Obama won 701."
   ]
  },
  {
   "cell_type": "code",
   "execution_count": null,
   "metadata": {},
   "outputs": [],
   "source": [
    "(df1['Obama'] < df1['Romney']).value_counts()"
   ]
  },
  {
   "cell_type": "code",
   "execution_count": null,
   "metadata": {},
   "outputs": [],
   "source": [
    "conditions = [(df1['Obama'] < df1['Romney']), (df1['Obama'] > df1['Romney'])]\n",
    "choices = ['Romney', 'Obama']\n",
    "df1['2012 Election Winner'] = np.select(conditions, choices, default = np.nan)"
   ]
  },
  {
   "cell_type": "code",
   "execution_count": null,
   "metadata": {},
   "outputs": [],
   "source": [
    "import plotly.express as px\n",
    "\n",
    "fig = px.choropleth_mapbox(df1, geojson= zips_map, color=\"2012 Election Winner\",\n",
    "                           locations=\"fips\", featureidkey=\"properties.FIPS\",\n",
    "                           center={\"lat\": 31.5, \"lon\": -99.9},\n",
    "                           mapbox_style=\"white-bg\", zoom=2,\n",
    "                           color_discrete_map = {'Obama': '#66B2FF', 'Romney': '#FF6666'})\n",
    "fig.update_layout(margin={\"r\":0,\"t\":0,\"l\":0,\"b\":0})\n",
    "fig.show()"
   ]
  },
  {
   "cell_type": "markdown",
   "metadata": {},
   "source": [
    "### Map of Swing Counties"
   ]
  },
  {
   "cell_type": "markdown",
   "metadata": {},
   "source": [
    "Of the 3141 counties(or equivalents) in the US, 253 of them swung in 2016. 92% of those swung Republican."
   ]
  },
  {
   "cell_type": "code",
   "execution_count": null,
   "metadata": {},
   "outputs": [],
   "source": [
    "conditions = [((df1['Target'] == 'Trump') & (df1['2012 Election Winner'] == 'Romney')),  \n",
    "               ((df1['Target'] == 'Clinton') & (df1['2012 Election Winner'] == 'Obama')),\n",
    "             ((df1['Target'] == 'Clinton') & (df1['2012 Election Winner'] == 'Romney')), \n",
    "                ((df1['Target'] == 'Trump') & (df1['2012 Election Winner'] == 'Obama'))]\n",
    "choices = ['Stayed the same', 'Stayed the same', 'Swung to Democrats', 'Swung to Republicans']\n",
    "df1['Swing Counties'] = np.select(conditions, choices, default = np.nan)"
   ]
  },
  {
   "cell_type": "code",
   "execution_count": null,
   "metadata": {},
   "outputs": [],
   "source": [
    "import plotly.express as px\n",
    "\n",
    "fig = px.choropleth_mapbox(df1, geojson= zips_map, color=\"Swing Counties\",\n",
    "                           locations=\"fips\", featureidkey=\"properties.FIPS\",\n",
    "                           center={\"lat\": 31.5, \"lon\": -99.9},\n",
    "                           mapbox_style=\"white-bg\", zoom=2,\n",
    "                           color_discrete_map = {'Stayed the same': 'white', 'Swung to Republicans': '#FF6666', 'Swung to Democrats': '#66B2FF'})\n",
    "fig.update_layout(margin={\"r\":0,\"t\":0,\"l\":0,\"b\":0})\n",
    "fig.show()"
   ]
  },
  {
   "cell_type": "markdown",
   "metadata": {},
   "source": [
    "Further analysis of these clusters would be interesting.  \n",
    "- Maine  \n",
    "- Washington and Oregon    \n",
    "- Iowa, Wisconsin, Illinois\n",
    "- Minnesota\n",
    "- Southern Colorado, Northern New Mexico\n",
    "- Alaska!"
   ]
  },
  {
   "cell_type": "markdown",
   "metadata": {},
   "source": [
    "# ---------------------Population of Asian Descent Analysis------------------------------------"
   ]
  },
  {
   "cell_type": "markdown",
   "metadata": {},
   "source": [
    "This is the total population of people who reported being a single race and chose Asian. This is not a rate."
   ]
  },
  {
   "cell_type": "markdown",
   "metadata": {},
   "source": [
    "### Map of Asian Populations"
   ]
  },
  {
   "cell_type": "code",
   "execution_count": null,
   "metadata": {},
   "outputs": [],
   "source": [
    "import plotly.express as px\n",
    "\n",
    "fig = px.choropleth_mapbox(df1, geojson= zips_map, color=\"pop_asian\",\n",
    "                           locations=\"fips\", featureidkey=\"properties.FIPS\",\n",
    "                           center={\"lat\": 31.5, \"lon\": -99.9},\n",
    "                           mapbox_style=\"white-bg\", zoom=2, \n",
    "                          color_continuous_scale=\"Greens\")\n",
    "fig.update_layout(margin={\"r\":0,\"t\":0,\"l\":0,\"b\":0})\n",
    "fig.show()"
   ]
  },
  {
   "cell_type": "markdown",
   "metadata": {},
   "source": [
    "Interesting Areas:\n",
    "- Houston Area  \n",
    "- LA and surrounding counties  \n",
    "- San Jose, CA area  \n",
    "- King County, WA (Seattle area)  \n",
    "- Phoenix  \n",
    "- Chicago  "
   ]
  },
  {
   "cell_type": "markdown",
   "metadata": {},
   "source": [
    "### Map of 50 Counties with Highest Asian American Population"
   ]
  },
  {
   "cell_type": "markdown",
   "metadata": {},
   "source": [
    "46 of these counties voted for Hillary Clinton."
   ]
  },
  {
   "cell_type": "code",
   "execution_count": null,
   "metadata": {},
   "outputs": [],
   "source": [
    "highest_asian_pop = df1.sort_values(by = 'pop_asian', ascending = False)"
   ]
  },
  {
   "cell_type": "code",
   "execution_count": null,
   "metadata": {},
   "outputs": [],
   "source": [
    "highest_asian_pop.head()"
   ]
  },
  {
   "cell_type": "code",
   "execution_count": null,
   "metadata": {},
   "outputs": [],
   "source": [
    "highest_asian_pop.iloc[50:, 21] = 0"
   ]
  },
  {
   "cell_type": "code",
   "execution_count": null,
   "metadata": {},
   "outputs": [],
   "source": [
    "import plotly.express as px\n",
    "\n",
    "fig = px.choropleth_mapbox(highest_asian_pop, geojson= zips_map, color=\"Target\",\n",
    "                           locations=\"fips\", featureidkey=\"properties.FIPS\",\n",
    "                           center={\"lat\": 31.5, \"lon\": -99.9},\n",
    "                           mapbox_style=\"white-bg\", zoom=2,\n",
    "                           color_discrete_map = {'Trump': '#FF6666', 'Clinton': '#66B2FF', 0: 'white'})\n",
    "fig.update_layout(margin={\"r\":0,\"t\":0,\"l\":0,\"b\":0})\n",
    "fig.show()"
   ]
  },
  {
   "cell_type": "markdown",
   "metadata": {},
   "source": [
    "### Map of 50 Counties with Lowest Population of People of Asian Descent"
   ]
  },
  {
   "cell_type": "markdown",
   "metadata": {},
   "source": [
    "37 of these counties have 0 people of Asian descent. The other 13 have 1.  \n",
    "\n",
    "48 of these counties voted for Donald Trump."
   ]
  },
  {
   "cell_type": "code",
   "execution_count": null,
   "metadata": {},
   "outputs": [],
   "source": [
    "lowest_asian_pop = df1.sort_values(by = 'pop_asian', ascending = True)"
   ]
  },
  {
   "cell_type": "code",
   "execution_count": null,
   "metadata": {},
   "outputs": [],
   "source": [
    "lowest_asian_pop.iloc[50:, 21] = 0"
   ]
  },
  {
   "cell_type": "code",
   "execution_count": null,
   "metadata": {},
   "outputs": [],
   "source": [
    "lowest_asian_pop.head(50)"
   ]
  },
  {
   "cell_type": "code",
   "execution_count": null,
   "metadata": {},
   "outputs": [],
   "source": [
    "import plotly.express as px\n",
    "\n",
    "fig = px.choropleth_mapbox(lowest_asian_pop, geojson= zips_map, color=\"Target\",\n",
    "                           locations=\"fips\", featureidkey=\"properties.FIPS\",\n",
    "                           center={\"lat\": 31.5, \"lon\": -99.9},\n",
    "                           mapbox_style=\"white-bg\", zoom=2,\n",
    "                           color_discrete_map = {'Trump': '#FF6666', 'Clinton': '#66B2FF', 0: 'white'})\n",
    "fig.update_layout(margin={\"r\":0,\"t\":0,\"l\":0,\"b\":0})\n",
    "fig.show()"
   ]
  },
  {
   "cell_type": "markdown",
   "metadata": {},
   "source": [
    "# ------------------------------Children in Poverty Analysis----------------------------------------"
   ]
  },
  {
   "cell_type": "markdown",
   "metadata": {},
   "source": [
    "Total number of children in poverty is the feature in the model. Keep in mind that this is not a rate. This is the number of people under 18 who are in poverty."
   ]
  },
  {
   "cell_type": "markdown",
   "metadata": {},
   "source": [
    "### Map of 50 Counties with Highest Number of Children in Poverty"
   ]
  },
  {
   "cell_type": "markdown",
   "metadata": {},
   "source": [
    "44 of these counties voted for Hillary Clinton."
   ]
  },
  {
   "cell_type": "code",
   "execution_count": null,
   "metadata": {},
   "outputs": [],
   "source": [
    "highest_child_poverty = df1.sort_values(by = 'poverty_under_18', ascending = False)"
   ]
  },
  {
   "cell_type": "code",
   "execution_count": null,
   "metadata": {},
   "outputs": [],
   "source": [
    "highest_child_poverty.iloc[50:, 21] = 0"
   ]
  },
  {
   "cell_type": "code",
   "execution_count": null,
   "metadata": {},
   "outputs": [],
   "source": [
    "import plotly.express as px\n",
    "\n",
    "fig = px.choropleth_mapbox(highest_child_poverty, geojson= zips_map, color=\"Target\",\n",
    "                           locations=\"fips\", featureidkey=\"properties.FIPS\",\n",
    "                           center={\"lat\": 31.5, \"lon\": -99.9},\n",
    "                           mapbox_style=\"white-bg\", zoom=2,\n",
    "                           color_discrete_map = {'Trump': '#FF6666', 'Clinton': '#66B2FF', 0: 'white'})\n",
    "fig.update_layout(margin={\"r\":0,\"t\":0,\"l\":0,\"b\":0})\n",
    "fig.show()"
   ]
  },
  {
   "cell_type": "markdown",
   "metadata": {},
   "source": [
    "### Map of 50 Counties with Lowest Number of Children in Poverty"
   ]
  },
  {
   "cell_type": "markdown",
   "metadata": {},
   "source": [
    "48 of these counties voted for Donald Trump."
   ]
  },
  {
   "cell_type": "code",
   "execution_count": null,
   "metadata": {},
   "outputs": [],
   "source": [
    "lowest_child_poverty = df1.sort_values(by = 'poverty_under_18')"
   ]
  },
  {
   "cell_type": "code",
   "execution_count": null,
   "metadata": {},
   "outputs": [],
   "source": [
    "lowest_child_poverty.iloc[50:, 21] = 0"
   ]
  },
  {
   "cell_type": "code",
   "execution_count": null,
   "metadata": {},
   "outputs": [],
   "source": [
    "import plotly.express as px\n",
    "\n",
    "fig = px.choropleth_mapbox(lowest_child_poverty, geojson= zips_map, color=\"Target\",\n",
    "                           locations=\"fips\", featureidkey=\"properties.FIPS\",\n",
    "                           center={\"lat\": 31.5, \"lon\": -99.9},\n",
    "                           mapbox_style=\"white-bg\", zoom=2,\n",
    "                           color_discrete_map = {'Trump': '#FF6666', 'Clinton': '#66B2FF', 0: 'white'})\n",
    "fig.update_layout(margin={\"r\":0,\"t\":0,\"l\":0,\"b\":0})\n",
    "fig.show()"
   ]
  },
  {
   "cell_type": "markdown",
   "metadata": {},
   "source": [
    "### Map of Childhood Poverty Rate"
   ]
  },
  {
   "cell_type": "markdown",
   "metadata": {},
   "source": [
    "*This model does not include childhood poverty as a rate but I wanted to look into it.*  \n",
    "The average childhood poverty rate in the US is 4.75%."
   ]
  },
  {
   "cell_type": "code",
   "execution_count": null,
   "metadata": {},
   "outputs": [],
   "source": [
    "avg_child_poverty_rate = (df1.poverty_under_18.sum() / df1.total_pop.sum()) *100\n",
    "avg_child_poverty_rate"
   ]
  },
  {
   "cell_type": "code",
   "execution_count": null,
   "metadata": {},
   "outputs": [],
   "source": [
    "df1['poverty_under_18_rate'] = (df1.poverty_under_18 / df1.total_pop)*100"
   ]
  },
  {
   "cell_type": "markdown",
   "metadata": {},
   "source": [
    "Below is the code for the childhood poverty rate. I have pasted in an image with popouts from a slide show to look at instead."
   ]
  },
  {
   "cell_type": "code",
   "execution_count": null,
   "metadata": {},
   "outputs": [],
   "source": [
    "# import plotly.express as px\n",
    "\n",
    "# fig = px.choropleth_mapbox(df1, geojson= zips_map, color=\"poverty_under_18_rate\",\n",
    "#                            locations=\"fips\", featureidkey=\"properties.FIPS\",\n",
    "#                            center={\"lat\": 31.5, \"lon\": -99.9},\n",
    "#                            mapbox_style=\"white-bg\", zoom=2, \n",
    "#                           color_continuous_scale=\"Greens\")\n",
    "# fig.update_layout(margin={\"r\":0,\"t\":0,\"l\":0,\"b\":0})\n",
    "# fig.show()"
   ]
  },
  {
   "cell_type": "markdown",
   "metadata": {},
   "source": [
    "These dark pockets are very interesting! Let's take a look."
   ]
  },
  {
   "cell_type": "markdown",
   "metadata": {},
   "source": []
  },
  {
   "cell_type": "markdown",
   "metadata": {},
   "source": [
    "## Additional Information about Pockets of High Childhood Poverty Rates\n",
    "### Texas/Mexico Border\n",
    "**Zapata County, TX**: Named for Colonel José Antonio de Zapata, a rancher in the area who rebelled against Mexico. 84% Hispanic  \n",
    "**Dimmit County, TX**: It's named for Philip Dimmitt, a major figure in the Texas Revolution. 85% Hispanic  \n",
    "**Cameron County, TX**:  Named for Captain Ewen Cameron, a soldier during the Texas Revolution and in the ill-fated Mier Expedition. 88% Hispanic  \n",
    "**Zavala County, TX**: Zavala is named for Lorenzo de Zavala, Mexican politician, signer of the Texas Declaration of Independence, and first vice president of the Republic of Texas. Housed an internment camp during WW2. 91% Hispanic (I recommend reading about this county. So interesting!)    \n",
    "**Starr County, TX**: border. 97.7% hispanic    \n",
    "**Maverick County, TX**: border 95% hispanic    \n",
    "\n",
    "### Dakota Reservations\n",
    "The Wounded Knee Occupation and the Standing Rock pipeline protests both took place on these reservations.  \n",
    "**Mellette County, SD**: Rosebud Indian Reservation 54.1 % Native American    \n",
    "**Corson County, SD**: Standing Rock Indian Reservation 67% Native American  \n",
    "**Bennett County, SD**: The North American continental pole of inaccessibility. Pine Ridge Indian Reservation 61% Native American  \n",
    "**Benson County, ND**: Spirit Lake Indian Reservation 55% Native American  \n",
    "**Todd County, SD**: Rosebud Indian Reservation 88% Native American   \n",
    "**Ziebach County, SD**: Cheyenne River Indian Reservation 72% Native American  \n",
    "**Sioux County, ND**: Standing Rock Indian Reservation 84% Native American      \n",
    "**Corson County, SD**: Standing Rock Indian Reservation, 60% Native American    \n",
    "**Oglala Lakota, SD**: Pine Ridge Indian Reservation 94% Native American    \n",
    "**Buffalo County, SD**: Crow Creek Indian Reservation 81% Native American    \n",
    "**Jackson County, SD**: Pine Ridge Indian Reservation, 52% Native American    \n",
    "\n",
    "### Mississippi Delta and Surrounding Counties\n",
    "**Alexander County, IL**: along Miss River but probably not considered Delta. Between 2010 and 2020, the population of Alexander County decreased to 5,240. The percentage decline in the population of 36.4 percent was the largest of any of the 3,138 U.S. counties. Although the population of the county had been decreasing for decades, the closure of the Tamms Correctional Center in 2013 probably caused an acceleration of the decline in the 2010s. 60.9% White  \n",
    "**Holmes County, Miss**: Delta. 83% African American      \n",
    "**Pemiscot County, Missouri**: Delta. 72% White   \n",
    "**Leflore County, Miss**: Delta. In the period from 1877 to 1950, Leflore County had 48 documented lynchings of African Americans, by far the highest number in the state. 72% African American    \n",
    "**Humphreys County, Miss**: Catfish capital of the world 75% African American   \n",
    "**Coahoma County, Miss**: Delta, 75.5% African American    \n",
    "**Sharkey County, Miss**: Delta. 71% African American    \n",
    "**Phillips County, Ark**: Delta. Ranks as the county with the highest number of lynchings in U.S. history. 63.1% African American    \n",
    "**Quitman County, Miss**: Martin Luther King Jr. originally wanted the Poor People's Campaign to start in Quitman County because of the intense and visible economic disparity there. 69.6% African American    \n",
    "**Washington County, Miss**:Delta 71% African American  \n",
    "\n",
    "### Other\n",
    "**Menominee County, WI**: Menominee Indian Reservation. 87% Native. Bluest county in Wisconsin in the 2020 election.  \n",
    "**Perry County, Alabama**: 68.7% African American   \n",
    "**Wilcox County, Alabama**: 72.5% African American     \n",
    "**Atkinson County, Georgia**: 67% white   \n",
    "**Dallas County, Alabama**: County seat is Selma. 69% African American  \n",
    "**Kusilvak County, AK**: 92% Native. Not a reservation and seems to have many people groups.  "
   ]
  },
  {
   "cell_type": "markdown",
   "metadata": {},
   "source": [
    "### Histogram of Childhood Poverty Rate and Target"
   ]
  },
  {
   "cell_type": "code",
   "execution_count": null,
   "metadata": {},
   "outputs": [],
   "source": [
    "Trump = df1.loc[df1.Target == 'Trump']\n",
    "Clinton = df1.loc[df1.Target == 'Clinton']"
   ]
  },
  {
   "cell_type": "code",
   "execution_count": null,
   "metadata": {},
   "outputs": [],
   "source": [
    "x = Clinton.poverty_under_18_rate\n",
    "z = Trump.poverty_under_18_rate"
   ]
  },
  {
   "cell_type": "code",
   "execution_count": null,
   "metadata": {},
   "outputs": [],
   "source": [
    "plt.hist(z, bins = 30, ec = 'k', stacked = True, color = 'red', density = True)\n",
    "plt.hist(x, bins = 30, ec = 'k', stacked = True, color = 'blue', density = True, alpha = .7)"
   ]
  },
  {
   "cell_type": "markdown",
   "metadata": {},
   "source": [
    "# ----------------------------------------------Density------------------------------------------------------\n"
   ]
  },
  {
   "cell_type": "code",
   "execution_count": null,
   "metadata": {},
   "outputs": [],
   "source": [
    "plt.hist(df1.loc[df1['Density']> 1]['Density'], bins = 2, ec = 'k', stacked = True, color = 'red', density = True)"
   ]
  },
  {
   "cell_type": "code",
   "execution_count": null,
   "metadata": {},
   "outputs": [],
   "source": [
    "df1.loc[df1[df1.Density.between(5, 4000)] & df1[df1['2010_land_area'] < 10000]]"
   ]
  },
  {
   "cell_type": "code",
   "execution_count": null,
   "metadata": {},
   "outputs": [],
   "source": [
    "df1.Density.mean()"
   ]
  },
  {
   "cell_type": "code",
   "execution_count": null,
   "metadata": {},
   "outputs": [],
   "source": [
    "highest_density = df1.sort_values(by = 'Density', ascending = False).head(100)\n",
    "lowest_density = df1.sort_values(by = 'Density', ascending = True).head(100)\n"
   ]
  },
  {
   "cell_type": "code",
   "execution_count": null,
   "metadata": {},
   "outputs": [],
   "source": [
    "lowest_density.head(50)"
   ]
  },
  {
   "cell_type": "code",
   "execution_count": null,
   "metadata": {},
   "outputs": [],
   "source": [
    "plt.scatter(df1[df1.Density.between(50, 2000)]['Density'], df1[df1.Density.between(50, 2000)]['2010_land_area'])"
   ]
  },
  {
   "cell_type": "code",
   "execution_count": null,
   "metadata": {},
   "outputs": [],
   "source": [
    "plt.scatter(lowest_density.Density, lowest_density.poverty_under_18_rate)"
   ]
  },
  {
   "cell_type": "code",
   "execution_count": null,
   "metadata": {},
   "outputs": [],
   "source": []
  },
  {
   "cell_type": "code",
   "execution_count": null,
   "metadata": {},
   "outputs": [],
   "source": [
    "plt.scatter(df1.Density, df1['2010_land_area'])"
   ]
  },
  {
   "cell_type": "code",
   "execution_count": null,
   "metadata": {},
   "outputs": [],
   "source": []
  },
  {
   "cell_type": "code",
   "execution_count": null,
   "metadata": {},
   "outputs": [],
   "source": []
  },
  {
   "cell_type": "markdown",
   "metadata": {},
   "source": [
    "# ----------------------------Features to Explore in the Future------------------------------------"
   ]
  },
  {
   "cell_type": "markdown",
   "metadata": {},
   "source": [
    "- Density\n",
    "- Model Predictions\n",
    "    - Map of predictions\n",
    "    - Analysis of missed counties\n",
    "- Land Area\n",
    "- Population Other (people who identified as one race but none of the available options in the census) I suspect we might have some interesting characters in there."
   ]
  },
  {
   "cell_type": "code",
   "execution_count": null,
   "metadata": {},
   "outputs": [],
   "source": []
  }
 ],
 "metadata": {
  "kernelspec": {
   "display_name": "Python (learn-env)",
   "language": "python",
   "name": "learn-env"
  },
  "language_info": {
   "codemirror_mode": {
    "name": "ipython",
    "version": 3
   },
   "file_extension": ".py",
   "mimetype": "text/x-python",
   "name": "python",
   "nbconvert_exporter": "python",
   "pygments_lexer": "ipython3",
   "version": "3.8.5"
  }
 },
 "nbformat": 4,
 "nbformat_minor": 4
}
