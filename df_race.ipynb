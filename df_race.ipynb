{
 "cells": [
  {
   "cell_type": "code",
   "execution_count": 1,
   "metadata": {},
   "outputs": [],
   "source": [
    "import pandas as pd\n",
    "pd.set_option(\"max_rows\", None)"
   ]
  },
  {
   "cell_type": "markdown",
   "metadata": {},
   "source": [
    "Rename this file when you have a chance."
   ]
  },
  {
   "cell_type": "code",
   "execution_count": 2,
   "metadata": {},
   "outputs": [],
   "source": [
    "df_race = pd.read_csv('DECENNIALPL2020.P1_data_with_overlays_2021-10-04T202848.csv', error_bad_lines = False, header = None)"
   ]
  },
  {
   "cell_type": "code",
   "execution_count": 3,
   "metadata": {},
   "outputs": [
    {
     "data": {
      "text/html": [
       "<div>\n",
       "<style scoped>\n",
       "    .dataframe tbody tr th:only-of-type {\n",
       "        vertical-align: middle;\n",
       "    }\n",
       "\n",
       "    .dataframe tbody tr th {\n",
       "        vertical-align: top;\n",
       "    }\n",
       "\n",
       "    .dataframe thead th {\n",
       "        text-align: right;\n",
       "    }\n",
       "</style>\n",
       "<table border=\"1\" class=\"dataframe\">\n",
       "  <thead>\n",
       "    <tr style=\"text-align: right;\">\n",
       "      <th></th>\n",
       "      <th>0</th>\n",
       "      <th>1</th>\n",
       "      <th>2</th>\n",
       "      <th>3</th>\n",
       "      <th>4</th>\n",
       "      <th>5</th>\n",
       "      <th>6</th>\n",
       "      <th>7</th>\n",
       "      <th>8</th>\n",
       "      <th>9</th>\n",
       "      <th>...</th>\n",
       "      <th>63</th>\n",
       "      <th>64</th>\n",
       "      <th>65</th>\n",
       "      <th>66</th>\n",
       "      <th>67</th>\n",
       "      <th>68</th>\n",
       "      <th>69</th>\n",
       "      <th>70</th>\n",
       "      <th>71</th>\n",
       "      <th>72</th>\n",
       "    </tr>\n",
       "  </thead>\n",
       "  <tbody>\n",
       "    <tr>\n",
       "      <th>0</th>\n",
       "      <td>GEO_ID</td>\n",
       "      <td>NAME</td>\n",
       "      <td>P1_001N</td>\n",
       "      <td>P1_002N</td>\n",
       "      <td>P1_003N</td>\n",
       "      <td>P1_004N</td>\n",
       "      <td>P1_005N</td>\n",
       "      <td>P1_006N</td>\n",
       "      <td>P1_007N</td>\n",
       "      <td>P1_008N</td>\n",
       "      <td>...</td>\n",
       "      <td>P1_062N</td>\n",
       "      <td>P1_063N</td>\n",
       "      <td>P1_064N</td>\n",
       "      <td>P1_065N</td>\n",
       "      <td>P1_066N</td>\n",
       "      <td>P1_067N</td>\n",
       "      <td>P1_068N</td>\n",
       "      <td>P1_069N</td>\n",
       "      <td>P1_070N</td>\n",
       "      <td>P1_071N</td>\n",
       "    </tr>\n",
       "    <tr>\n",
       "      <th>1</th>\n",
       "      <td>id</td>\n",
       "      <td>Geographic Area Name</td>\n",
       "      <td>!!Total:</td>\n",
       "      <td>!!Total:!!Population of one race:</td>\n",
       "      <td>!!Total:!!Population of one race:!!White alone</td>\n",
       "      <td>!!Total:!!Population of one race:!!Black or A...</td>\n",
       "      <td>!!Total:!!Population of one race:!!American I...</td>\n",
       "      <td>!!Total:!!Population of one race:!!Asian alone</td>\n",
       "      <td>!!Total:!!Population of one race:!!Native Haw...</td>\n",
       "      <td>!!Total:!!Population of one race:!!Some Other...</td>\n",
       "      <td>...</td>\n",
       "      <td>!!Total:!!Population of two or more races:!!P...</td>\n",
       "      <td>!!Total:!!Population of two or more races:!!P...</td>\n",
       "      <td>!!Total:!!Population of two or more races:!!P...</td>\n",
       "      <td>!!Total:!!Population of two or more races:!!P...</td>\n",
       "      <td>!!Total:!!Population of two or more races:!!P...</td>\n",
       "      <td>!!Total:!!Population of two or more races:!!P...</td>\n",
       "      <td>!!Total:!!Population of two or more races:!!P...</td>\n",
       "      <td>!!Total:!!Population of two or more races:!!P...</td>\n",
       "      <td>!!Total:!!Population of two or more races:!!P...</td>\n",
       "      <td>!!Total:!!Population of two or more races:!!P...</td>\n",
       "    </tr>\n",
       "    <tr>\n",
       "      <th>2</th>\n",
       "      <td>0500000US01001</td>\n",
       "      <td>Autauga County, Alabama</td>\n",
       "      <td>58805</td>\n",
       "      <td>55648</td>\n",
       "      <td>42160</td>\n",
       "      <td>11445</td>\n",
       "      <td>217</td>\n",
       "      <td>881</td>\n",
       "      <td>35</td>\n",
       "      <td>910</td>\n",
       "      <td>...</td>\n",
       "      <td>0</td>\n",
       "      <td>2</td>\n",
       "      <td>2</td>\n",
       "      <td>0</td>\n",
       "      <td>0</td>\n",
       "      <td>0</td>\n",
       "      <td>0</td>\n",
       "      <td>0</td>\n",
       "      <td>0</td>\n",
       "      <td>0</td>\n",
       "    </tr>\n",
       "    <tr>\n",
       "      <th>3</th>\n",
       "      <td>0500000US01003</td>\n",
       "      <td>Baldwin County, Alabama</td>\n",
       "      <td>231767</td>\n",
       "      <td>216743</td>\n",
       "      <td>189399</td>\n",
       "      <td>18217</td>\n",
       "      <td>1582</td>\n",
       "      <td>2067</td>\n",
       "      <td>143</td>\n",
       "      <td>5335</td>\n",
       "      <td>...</td>\n",
       "      <td>0</td>\n",
       "      <td>0</td>\n",
       "      <td>0</td>\n",
       "      <td>0</td>\n",
       "      <td>0</td>\n",
       "      <td>0</td>\n",
       "      <td>0</td>\n",
       "      <td>0</td>\n",
       "      <td>0</td>\n",
       "      <td>0</td>\n",
       "    </tr>\n",
       "    <tr>\n",
       "      <th>4</th>\n",
       "      <td>0500000US01005</td>\n",
       "      <td>Barbour County, Alabama</td>\n",
       "      <td>25223</td>\n",
       "      <td>24523</td>\n",
       "      <td>11317</td>\n",
       "      <td>11933</td>\n",
       "      <td>116</td>\n",
       "      <td>117</td>\n",
       "      <td>1</td>\n",
       "      <td>1039</td>\n",
       "      <td>...</td>\n",
       "      <td>0</td>\n",
       "      <td>2</td>\n",
       "      <td>2</td>\n",
       "      <td>0</td>\n",
       "      <td>0</td>\n",
       "      <td>0</td>\n",
       "      <td>0</td>\n",
       "      <td>0</td>\n",
       "      <td>0</td>\n",
       "      <td>0</td>\n",
       "    </tr>\n",
       "  </tbody>\n",
       "</table>\n",
       "<p>5 rows × 73 columns</p>\n",
       "</div>"
      ],
      "text/plain": [
       "               0                        1          2   \\\n",
       "0          GEO_ID                     NAME    P1_001N   \n",
       "1              id     Geographic Area Name   !!Total:   \n",
       "2  0500000US01001  Autauga County, Alabama      58805   \n",
       "3  0500000US01003  Baldwin County, Alabama     231767   \n",
       "4  0500000US01005  Barbour County, Alabama      25223   \n",
       "\n",
       "                                   3   \\\n",
       "0                             P1_002N   \n",
       "1   !!Total:!!Population of one race:   \n",
       "2                               55648   \n",
       "3                              216743   \n",
       "4                               24523   \n",
       "\n",
       "                                                4   \\\n",
       "0                                          P1_003N   \n",
       "1   !!Total:!!Population of one race:!!White alone   \n",
       "2                                            42160   \n",
       "3                                           189399   \n",
       "4                                            11317   \n",
       "\n",
       "                                                  5   \\\n",
       "0                                            P1_004N   \n",
       "1   !!Total:!!Population of one race:!!Black or A...   \n",
       "2                                              11445   \n",
       "3                                              18217   \n",
       "4                                              11933   \n",
       "\n",
       "                                                  6   \\\n",
       "0                                            P1_005N   \n",
       "1   !!Total:!!Population of one race:!!American I...   \n",
       "2                                                217   \n",
       "3                                               1582   \n",
       "4                                                116   \n",
       "\n",
       "                                                7   \\\n",
       "0                                          P1_006N   \n",
       "1   !!Total:!!Population of one race:!!Asian alone   \n",
       "2                                              881   \n",
       "3                                             2067   \n",
       "4                                              117   \n",
       "\n",
       "                                                  8   \\\n",
       "0                                            P1_007N   \n",
       "1   !!Total:!!Population of one race:!!Native Haw...   \n",
       "2                                                 35   \n",
       "3                                                143   \n",
       "4                                                  1   \n",
       "\n",
       "                                                  9   ...  \\\n",
       "0                                            P1_008N  ...   \n",
       "1   !!Total:!!Population of one race:!!Some Other...  ...   \n",
       "2                                                910  ...   \n",
       "3                                               5335  ...   \n",
       "4                                               1039  ...   \n",
       "\n",
       "                                                  63  \\\n",
       "0                                            P1_062N   \n",
       "1   !!Total:!!Population of two or more races:!!P...   \n",
       "2                                                  0   \n",
       "3                                                  0   \n",
       "4                                                  0   \n",
       "\n",
       "                                                  64  \\\n",
       "0                                            P1_063N   \n",
       "1   !!Total:!!Population of two or more races:!!P...   \n",
       "2                                                  2   \n",
       "3                                                  0   \n",
       "4                                                  2   \n",
       "\n",
       "                                                  65  \\\n",
       "0                                            P1_064N   \n",
       "1   !!Total:!!Population of two or more races:!!P...   \n",
       "2                                                  2   \n",
       "3                                                  0   \n",
       "4                                                  2   \n",
       "\n",
       "                                                  66  \\\n",
       "0                                            P1_065N   \n",
       "1   !!Total:!!Population of two or more races:!!P...   \n",
       "2                                                  0   \n",
       "3                                                  0   \n",
       "4                                                  0   \n",
       "\n",
       "                                                  67  \\\n",
       "0                                            P1_066N   \n",
       "1   !!Total:!!Population of two or more races:!!P...   \n",
       "2                                                  0   \n",
       "3                                                  0   \n",
       "4                                                  0   \n",
       "\n",
       "                                                  68  \\\n",
       "0                                            P1_067N   \n",
       "1   !!Total:!!Population of two or more races:!!P...   \n",
       "2                                                  0   \n",
       "3                                                  0   \n",
       "4                                                  0   \n",
       "\n",
       "                                                  69  \\\n",
       "0                                            P1_068N   \n",
       "1   !!Total:!!Population of two or more races:!!P...   \n",
       "2                                                  0   \n",
       "3                                                  0   \n",
       "4                                                  0   \n",
       "\n",
       "                                                  70  \\\n",
       "0                                            P1_069N   \n",
       "1   !!Total:!!Population of two or more races:!!P...   \n",
       "2                                                  0   \n",
       "3                                                  0   \n",
       "4                                                  0   \n",
       "\n",
       "                                                  71  \\\n",
       "0                                            P1_070N   \n",
       "1   !!Total:!!Population of two or more races:!!P...   \n",
       "2                                                  0   \n",
       "3                                                  0   \n",
       "4                                                  0   \n",
       "\n",
       "                                                  72  \n",
       "0                                            P1_071N  \n",
       "1   !!Total:!!Population of two or more races:!!P...  \n",
       "2                                                  0  \n",
       "3                                                  0  \n",
       "4                                                  0  \n",
       "\n",
       "[5 rows x 73 columns]"
      ]
     },
     "execution_count": 3,
     "metadata": {},
     "output_type": "execute_result"
    }
   ],
   "source": [
    "df_race.head()"
   ]
  },
  {
   "cell_type": "code",
   "execution_count": 4,
   "metadata": {},
   "outputs": [],
   "source": [
    "df_race.columns = df_race.iloc[1]"
   ]
  },
  {
   "cell_type": "code",
   "execution_count": 5,
   "metadata": {},
   "outputs": [],
   "source": [
    "df_race.drop(df_race.index[1], inplace = True)"
   ]
  },
  {
   "cell_type": "code",
   "execution_count": 6,
   "metadata": {},
   "outputs": [],
   "source": [
    " df_race.drop(df_race.index[0], inplace = True)"
   ]
  },
  {
   "cell_type": "markdown",
   "metadata": {},
   "source": [
    "Get rid of columns detailing multi-race breakdown but keep total of multi-race population."
   ]
  },
  {
   "cell_type": "code",
   "execution_count": 7,
   "metadata": {},
   "outputs": [],
   "source": [
    "df_race.drop(df_race.iloc[:, 11:73], axis = 1, inplace = True)"
   ]
  },
  {
   "cell_type": "code",
   "execution_count": 8,
   "metadata": {},
   "outputs": [
    {
     "name": "stderr",
     "output_type": "stream",
     "text": [
      "<ipython-input-8-3176a88a0be0>:1: FutureWarning: The default value of regex will change from True to False in a future version.\n",
      "  df_race.columns = df_race.columns.str.strip().str.replace('[^\\w\\s]', '')\n"
     ]
    }
   ],
   "source": [
    "df_race.columns = df_race.columns.str.strip().str.replace('[^\\w\\s]', '')"
   ]
  },
  {
   "cell_type": "markdown",
   "metadata": {},
   "source": [
    "Function to convert totals to percentages."
   ]
  },
  {
   "cell_type": "code",
   "execution_count": 9,
   "metadata": {},
   "outputs": [],
   "source": [
    "def percent(number):\n",
    "    return (number/df_race['Total'])*100\n",
    "# df_race.iloc[:, 3:] = df_race.iloc[:, 3:].apply(percent)"
   ]
  },
  {
   "cell_type": "markdown",
   "metadata": {},
   "source": [
    "Convert race/population info into floats."
   ]
  },
  {
   "cell_type": "code",
   "execution_count": 10,
   "metadata": {},
   "outputs": [],
   "source": [
    "df_race[df_race.columns[2:]] = df_race[df_race.columns[2:]].astype(float)"
   ]
  },
  {
   "cell_type": "markdown",
   "metadata": {},
   "source": [
    "Split county and state into two columns and drop old column."
   ]
  },
  {
   "cell_type": "code",
   "execution_count": 11,
   "metadata": {},
   "outputs": [],
   "source": [
    "df_race[['County', 'State']] = df_race['Geographic Area Name'].str.split(',', expand=True)\n"
   ]
  },
  {
   "cell_type": "code",
   "execution_count": 12,
   "metadata": {},
   "outputs": [],
   "source": [
    "df_race.drop('Geographic Area Name', axis = 1, inplace = True)"
   ]
  },
  {
   "cell_type": "markdown",
   "metadata": {},
   "source": [
    "Remove the word 'county' from values in County."
   ]
  },
  {
   "cell_type": "code",
   "execution_count": 13,
   "metadata": {},
   "outputs": [],
   "source": [
    "df_race['County'] = df_race['County'].str.rstrip('County')"
   ]
  },
  {
   "cell_type": "code",
   "execution_count": 14,
   "metadata": {},
   "outputs": [],
   "source": [
    "# df_race = df_race.infer_objects()"
   ]
  },
  {
   "cell_type": "code",
   "execution_count": 15,
   "metadata": {},
   "outputs": [],
   "source": [
    "# (df_race.loc[df_race['State'].str.contains('Texas', case=False)])"
   ]
  },
  {
   "cell_type": "code",
   "execution_count": 16,
   "metadata": {},
   "outputs": [],
   "source": [
    "# df_race_Alaska = (df_race.loc[df_race['State'].str.contains('Alaska', case=False)])"
   ]
  },
  {
   "cell_type": "code",
   "execution_count": 17,
   "metadata": {},
   "outputs": [],
   "source": [
    "# df_race_Alaska.head()"
   ]
  },
  {
   "cell_type": "markdown",
   "metadata": {},
   "source": [
    "None of this worked... Trying to sum all of Alaska into one single row."
   ]
  },
  {
   "cell_type": "code",
   "execution_count": 18,
   "metadata": {},
   "outputs": [],
   "source": [
    "# (df_race.loc[df_race['State'].str.contains('Louisiana', case=False)])['County']"
   ]
  },
  {
   "cell_type": "code",
   "execution_count": 19,
   "metadata": {},
   "outputs": [],
   "source": [
    "# df_race_Alaska = (df_race.loc[df_race['State'].str.contains('Alaska', case=False)]).sum"
   ]
  },
  {
   "cell_type": "code",
   "execution_count": 20,
   "metadata": {},
   "outputs": [],
   "source": [
    "# df_race.append(df_race_Alaska.transpose())"
   ]
  },
  {
   "cell_type": "code",
   "execution_count": 21,
   "metadata": {},
   "outputs": [],
   "source": [
    "# df_race.drop(df_race.loc[df_race['State'].str.contains('Alaska', case=False)])"
   ]
  },
  {
   "cell_type": "markdown",
   "metadata": {},
   "source": [
    "Drop Puerto Rico"
   ]
  },
  {
   "cell_type": "code",
   "execution_count": 22,
   "metadata": {},
   "outputs": [],
   "source": [
    "pr = df_race.loc[df_race['State'].str.contains('Puerto Rico', case=False)]"
   ]
  },
  {
   "cell_type": "code",
   "execution_count": 23,
   "metadata": {},
   "outputs": [],
   "source": [
    "df_race = df_race.drop(pr.index, axis = 0)"
   ]
  },
  {
   "cell_type": "markdown",
   "metadata": {},
   "source": [
    "Dropped all of Alaska."
   ]
  },
  {
   "cell_type": "code",
   "execution_count": 24,
   "metadata": {},
   "outputs": [],
   "source": [
    "alaska = df_race.loc[df_race['State'].str.contains('Alaska', case=False)]"
   ]
  },
  {
   "cell_type": "code",
   "execution_count": 25,
   "metadata": {},
   "outputs": [],
   "source": [
    "df_race = df_race.drop(alaska.index, axis = 0)"
   ]
  },
  {
   "cell_type": "code",
   "execution_count": 26,
   "metadata": {},
   "outputs": [],
   "source": [
    "df_race_Alaska = (df_race.loc[df_race['State'].str.contains('Alaska', case=False)])"
   ]
  },
  {
   "cell_type": "code",
   "execution_count": 27,
   "metadata": {},
   "outputs": [],
   "source": [
    "# df_race = df_race.append(df_race_Alaska.sum().rename('Alaska'))"
   ]
  },
  {
   "cell_type": "code",
   "execution_count": 28,
   "metadata": {},
   "outputs": [],
   "source": [
    "# df_race"
   ]
  },
  {
   "cell_type": "code",
   "execution_count": 29,
   "metadata": {},
   "outputs": [
    {
     "data": {
      "text/html": [
       "<div>\n",
       "<style scoped>\n",
       "    .dataframe tbody tr th:only-of-type {\n",
       "        vertical-align: middle;\n",
       "    }\n",
       "\n",
       "    .dataframe tbody tr th {\n",
       "        vertical-align: top;\n",
       "    }\n",
       "\n",
       "    .dataframe thead th {\n",
       "        text-align: right;\n",
       "    }\n",
       "</style>\n",
       "<table border=\"1\" class=\"dataframe\">\n",
       "  <thead>\n",
       "    <tr style=\"text-align: right;\">\n",
       "      <th>1</th>\n",
       "      <th>id</th>\n",
       "      <th>Total</th>\n",
       "      <th>TotalPopulation of one race</th>\n",
       "      <th>TotalPopulation of one raceWhite alone</th>\n",
       "      <th>TotalPopulation of one raceBlack or African American alone</th>\n",
       "      <th>TotalPopulation of one raceAmerican Indian and Alaska Native alone</th>\n",
       "      <th>TotalPopulation of one raceAsian alone</th>\n",
       "      <th>TotalPopulation of one raceNative Hawaiian and Other Pacific Islander alone</th>\n",
       "      <th>TotalPopulation of one raceSome Other Race alone</th>\n",
       "      <th>TotalPopulation of two or more races</th>\n",
       "      <th>County</th>\n",
       "      <th>State</th>\n",
       "    </tr>\n",
       "  </thead>\n",
       "  <tbody>\n",
       "  </tbody>\n",
       "</table>\n",
       "</div>"
      ],
      "text/plain": [
       "Empty DataFrame\n",
       "Columns: [id, Total, TotalPopulation of one race, TotalPopulation of one raceWhite alone, TotalPopulation of one raceBlack or African American alone, TotalPopulation of one raceAmerican Indian and Alaska Native alone, TotalPopulation of one raceAsian alone, TotalPopulation of one raceNative Hawaiian and Other Pacific Islander alone, TotalPopulation of one raceSome Other Race alone, TotalPopulation of two or more races, County, State]\n",
       "Index: []"
      ]
     },
     "execution_count": 29,
     "metadata": {},
     "output_type": "execute_result"
    }
   ],
   "source": [
    "(df_race.loc[df_race['State'].str.contains('Alaska', case=False)])"
   ]
  },
  {
   "cell_type": "markdown",
   "metadata": {},
   "source": [
    "Manually added summed Alaska info. Will need to come back and do this a better way because this will be an issue with all data pulled from the census."
   ]
  },
  {
   "cell_type": "code",
   "execution_count": 30,
   "metadata": {},
   "outputs": [],
   "source": [
    "# df_race = pd.concat([pd.DataFrame([['alaska', 733391, 643867, 435392, 21898, 111575, 44032, 12698, 1872, 89524, 'Alaska', 'Alaska']],columns=df_race.columns),df_race],ignore_index=True)\n"
   ]
  },
  {
   "cell_type": "markdown",
   "metadata": {},
   "source": [
    "Apply unidecode to remove accents on Dona."
   ]
  },
  {
   "cell_type": "code",
   "execution_count": 31,
   "metadata": {},
   "outputs": [],
   "source": [
    "from unidecode import unidecode\n",
    "\n",
    "df_race['County'] = df_race['County'].apply(unidecode)"
   ]
  },
  {
   "cell_type": "markdown",
   "metadata": {},
   "source": [
    "Apply percentage function. Don't know if this will be needed. Maybe scaling will take care of it?"
   ]
  },
  {
   "cell_type": "code",
   "execution_count": 32,
   "metadata": {},
   "outputs": [],
   "source": [
    "# df_race.iloc[:, 2:-2] = df_race.iloc[:, 2:-2].apply(percent)"
   ]
  },
  {
   "cell_type": "markdown",
   "metadata": {},
   "source": [
    "Figure out La Salle, LA. In target, not in race. It had no space in race. Removed space from target... I think."
   ]
  },
  {
   "cell_type": "code",
   "execution_count": 33,
   "metadata": {},
   "outputs": [],
   "source": [
    "# df_race.loc[df_race['State'].str.contains('Hawaii', case=False)]"
   ]
  },
  {
   "cell_type": "markdown",
   "metadata": {},
   "source": [
    "Dropping Kalawoa. Only has 82 residents and does not come up in census pull."
   ]
  },
  {
   "cell_type": "code",
   "execution_count": 34,
   "metadata": {},
   "outputs": [],
   "source": [
    "Kalawao = df_race.loc[df_race['County'].str.contains('Kalawao', case=False)]"
   ]
  },
  {
   "cell_type": "code",
   "execution_count": 35,
   "metadata": {},
   "outputs": [],
   "source": [
    "df_race = df_race.drop(Kalawao.index, axis = 0)"
   ]
  },
  {
   "cell_type": "code",
   "execution_count": 36,
   "metadata": {},
   "outputs": [],
   "source": [
    "from pickle import dump"
   ]
  },
  {
   "cell_type": "code",
   "execution_count": 37,
   "metadata": {},
   "outputs": [],
   "source": [
    "dump(df_race, open('df_race.pkl', 'wb'))"
   ]
  },
  {
   "cell_type": "code",
   "execution_count": 38,
   "metadata": {},
   "outputs": [
    {
     "data": {
      "text/html": [
       "<div>\n",
       "<style scoped>\n",
       "    .dataframe tbody tr th:only-of-type {\n",
       "        vertical-align: middle;\n",
       "    }\n",
       "\n",
       "    .dataframe tbody tr th {\n",
       "        vertical-align: top;\n",
       "    }\n",
       "\n",
       "    .dataframe thead th {\n",
       "        text-align: right;\n",
       "    }\n",
       "</style>\n",
       "<table border=\"1\" class=\"dataframe\">\n",
       "  <thead>\n",
       "    <tr style=\"text-align: right;\">\n",
       "      <th>1</th>\n",
       "      <th>id</th>\n",
       "      <th>Total</th>\n",
       "      <th>TotalPopulation of one race</th>\n",
       "      <th>TotalPopulation of one raceWhite alone</th>\n",
       "      <th>TotalPopulation of one raceBlack or African American alone</th>\n",
       "      <th>TotalPopulation of one raceAmerican Indian and Alaska Native alone</th>\n",
       "      <th>TotalPopulation of one raceAsian alone</th>\n",
       "      <th>TotalPopulation of one raceNative Hawaiian and Other Pacific Islander alone</th>\n",
       "      <th>TotalPopulation of one raceSome Other Race alone</th>\n",
       "      <th>TotalPopulation of two or more races</th>\n",
       "      <th>County</th>\n",
       "      <th>State</th>\n",
       "    </tr>\n",
       "  </thead>\n",
       "  <tbody>\n",
       "    <tr>\n",
       "      <th>2</th>\n",
       "      <td>0500000US01001</td>\n",
       "      <td>58805.0</td>\n",
       "      <td>55648.0</td>\n",
       "      <td>42160.0</td>\n",
       "      <td>11445.0</td>\n",
       "      <td>217.0</td>\n",
       "      <td>881.0</td>\n",
       "      <td>35.0</td>\n",
       "      <td>910.0</td>\n",
       "      <td>3157.0</td>\n",
       "      <td>Autauga</td>\n",
       "      <td>Alabama</td>\n",
       "    </tr>\n",
       "    <tr>\n",
       "      <th>3</th>\n",
       "      <td>0500000US01003</td>\n",
       "      <td>231767.0</td>\n",
       "      <td>216743.0</td>\n",
       "      <td>189399.0</td>\n",
       "      <td>18217.0</td>\n",
       "      <td>1582.0</td>\n",
       "      <td>2067.0</td>\n",
       "      <td>143.0</td>\n",
       "      <td>5335.0</td>\n",
       "      <td>15024.0</td>\n",
       "      <td>Baldwin</td>\n",
       "      <td>Alabama</td>\n",
       "    </tr>\n",
       "    <tr>\n",
       "      <th>4</th>\n",
       "      <td>0500000US01005</td>\n",
       "      <td>25223.0</td>\n",
       "      <td>24523.0</td>\n",
       "      <td>11317.0</td>\n",
       "      <td>11933.0</td>\n",
       "      <td>116.0</td>\n",
       "      <td>117.0</td>\n",
       "      <td>1.0</td>\n",
       "      <td>1039.0</td>\n",
       "      <td>700.0</td>\n",
       "      <td>Barbour</td>\n",
       "      <td>Alabama</td>\n",
       "    </tr>\n",
       "    <tr>\n",
       "      <th>5</th>\n",
       "      <td>0500000US01007</td>\n",
       "      <td>22293.0</td>\n",
       "      <td>21534.0</td>\n",
       "      <td>16555.0</td>\n",
       "      <td>4413.0</td>\n",
       "      <td>60.0</td>\n",
       "      <td>32.0</td>\n",
       "      <td>9.0</td>\n",
       "      <td>465.0</td>\n",
       "      <td>759.0</td>\n",
       "      <td>Bibb</td>\n",
       "      <td>Alabama</td>\n",
       "    </tr>\n",
       "    <tr>\n",
       "      <th>6</th>\n",
       "      <td>0500000US01009</td>\n",
       "      <td>59134.0</td>\n",
       "      <td>55478.0</td>\n",
       "      <td>50663.0</td>\n",
       "      <td>845.0</td>\n",
       "      <td>337.0</td>\n",
       "      <td>178.0</td>\n",
       "      <td>24.0</td>\n",
       "      <td>3431.0</td>\n",
       "      <td>3656.0</td>\n",
       "      <td>Blount</td>\n",
       "      <td>Alabama</td>\n",
       "    </tr>\n",
       "  </tbody>\n",
       "</table>\n",
       "</div>"
      ],
      "text/plain": [
       "1              id     Total  TotalPopulation of one race  \\\n",
       "2  0500000US01001   58805.0                      55648.0   \n",
       "3  0500000US01003  231767.0                     216743.0   \n",
       "4  0500000US01005   25223.0                      24523.0   \n",
       "5  0500000US01007   22293.0                      21534.0   \n",
       "6  0500000US01009   59134.0                      55478.0   \n",
       "\n",
       "1  TotalPopulation of one raceWhite alone  \\\n",
       "2                                 42160.0   \n",
       "3                                189399.0   \n",
       "4                                 11317.0   \n",
       "5                                 16555.0   \n",
       "6                                 50663.0   \n",
       "\n",
       "1  TotalPopulation of one raceBlack or African American alone  \\\n",
       "2                                            11445.0            \n",
       "3                                            18217.0            \n",
       "4                                            11933.0            \n",
       "5                                             4413.0            \n",
       "6                                              845.0            \n",
       "\n",
       "1  TotalPopulation of one raceAmerican Indian and Alaska Native alone  \\\n",
       "2                                              217.0                    \n",
       "3                                             1582.0                    \n",
       "4                                              116.0                    \n",
       "5                                               60.0                    \n",
       "6                                              337.0                    \n",
       "\n",
       "1  TotalPopulation of one raceAsian alone  \\\n",
       "2                                   881.0   \n",
       "3                                  2067.0   \n",
       "4                                   117.0   \n",
       "5                                    32.0   \n",
       "6                                   178.0   \n",
       "\n",
       "1  TotalPopulation of one raceNative Hawaiian and Other Pacific Islander alone  \\\n",
       "2                                               35.0                             \n",
       "3                                              143.0                             \n",
       "4                                                1.0                             \n",
       "5                                                9.0                             \n",
       "6                                               24.0                             \n",
       "\n",
       "1  TotalPopulation of one raceSome Other Race alone  \\\n",
       "2                                             910.0   \n",
       "3                                            5335.0   \n",
       "4                                            1039.0   \n",
       "5                                             465.0   \n",
       "6                                            3431.0   \n",
       "\n",
       "1  TotalPopulation of two or more races    County     State  \n",
       "2                                3157.0  Autauga    Alabama  \n",
       "3                               15024.0  Baldwin    Alabama  \n",
       "4                                 700.0  Barbour    Alabama  \n",
       "5                                 759.0     Bibb    Alabama  \n",
       "6                                3656.0   Blount    Alabama  "
      ]
     },
     "execution_count": 38,
     "metadata": {},
     "output_type": "execute_result"
    }
   ],
   "source": [
    "df_race.head()"
   ]
  },
  {
   "cell_type": "code",
   "execution_count": 39,
   "metadata": {},
   "outputs": [
    {
     "name": "stdout",
     "output_type": "stream",
     "text": [
      "<class 'pandas.core.frame.DataFrame'>\n",
      "Int64Index: 3112 entries, 2 to 3144\n",
      "Data columns (total 12 columns):\n",
      " #   Column                                                                       Non-Null Count  Dtype  \n",
      "---  ------                                                                       --------------  -----  \n",
      " 0   id                                                                           3112 non-null   object \n",
      " 1   Total                                                                        3112 non-null   float64\n",
      " 2   TotalPopulation of one race                                                  3112 non-null   float64\n",
      " 3   TotalPopulation of one raceWhite alone                                       3112 non-null   float64\n",
      " 4   TotalPopulation of one raceBlack or African American alone                   3112 non-null   float64\n",
      " 5   TotalPopulation of one raceAmerican Indian and Alaska Native alone           3112 non-null   float64\n",
      " 6   TotalPopulation of one raceAsian alone                                       3112 non-null   float64\n",
      " 7   TotalPopulation of one raceNative Hawaiian and Other Pacific Islander alone  3112 non-null   float64\n",
      " 8   TotalPopulation of one raceSome Other Race alone                             3112 non-null   float64\n",
      " 9   TotalPopulation of two or more races                                         3112 non-null   float64\n",
      " 10  County                                                                       3112 non-null   object \n",
      " 11  State                                                                        3112 non-null   object \n",
      "dtypes: float64(9), object(3)\n",
      "memory usage: 316.1+ KB\n"
     ]
    }
   ],
   "source": [
    "df_race.info()"
   ]
  },
  {
   "cell_type": "code",
   "execution_count": 48,
   "metadata": {},
   "outputs": [],
   "source": [
    "df_race.rename(columns = {'Total': 'total_pop', 'TotalTotalPopulation of one race': 'total_pop_one_race', 'TotalPopulation of one raceWhite alone':'pop_white', 'TotalPopulation of one raceBlack or African American alone': 'pop_african_american', 'TotalPopulation of one raceAmerican Indian and Alaska Native alone': 'pop_native', 'TotalPopulation of one raceAsian alone': 'pop_asian', 'TotalPopulation of one raceNative Hawaiian and Other Pacific Islander alone': 'pop_islander', 'TotalPopulation of one raceSome Other Race alone': 'pop_other', 'TotalPopulation of two or more races': 'total_pop_two_races'}, inplace = True)"
   ]
  },
  {
   "cell_type": "code",
   "execution_count": 49,
   "metadata": {},
   "outputs": [
    {
     "data": {
      "text/html": [
       "<div>\n",
       "<style scoped>\n",
       "    .dataframe tbody tr th:only-of-type {\n",
       "        vertical-align: middle;\n",
       "    }\n",
       "\n",
       "    .dataframe tbody tr th {\n",
       "        vertical-align: top;\n",
       "    }\n",
       "\n",
       "    .dataframe thead th {\n",
       "        text-align: right;\n",
       "    }\n",
       "</style>\n",
       "<table border=\"1\" class=\"dataframe\">\n",
       "  <thead>\n",
       "    <tr style=\"text-align: right;\">\n",
       "      <th>1</th>\n",
       "      <th>id</th>\n",
       "      <th>total_pop</th>\n",
       "      <th>total_pop_one_race</th>\n",
       "      <th>pop_white</th>\n",
       "      <th>pop_african_american</th>\n",
       "      <th>pop_native</th>\n",
       "      <th>pop_asian</th>\n",
       "      <th>pop_islander</th>\n",
       "      <th>pop_other</th>\n",
       "      <th>total_pop_two_races</th>\n",
       "      <th>County</th>\n",
       "      <th>State</th>\n",
       "    </tr>\n",
       "  </thead>\n",
       "  <tbody>\n",
       "    <tr>\n",
       "      <th>2</th>\n",
       "      <td>0500000US01001</td>\n",
       "      <td>58805.0</td>\n",
       "      <td>55648.0</td>\n",
       "      <td>42160.0</td>\n",
       "      <td>11445.0</td>\n",
       "      <td>217.0</td>\n",
       "      <td>881.0</td>\n",
       "      <td>35.0</td>\n",
       "      <td>910.0</td>\n",
       "      <td>3157.0</td>\n",
       "      <td>Autauga</td>\n",
       "      <td>Alabama</td>\n",
       "    </tr>\n",
       "    <tr>\n",
       "      <th>3</th>\n",
       "      <td>0500000US01003</td>\n",
       "      <td>231767.0</td>\n",
       "      <td>216743.0</td>\n",
       "      <td>189399.0</td>\n",
       "      <td>18217.0</td>\n",
       "      <td>1582.0</td>\n",
       "      <td>2067.0</td>\n",
       "      <td>143.0</td>\n",
       "      <td>5335.0</td>\n",
       "      <td>15024.0</td>\n",
       "      <td>Baldwin</td>\n",
       "      <td>Alabama</td>\n",
       "    </tr>\n",
       "    <tr>\n",
       "      <th>4</th>\n",
       "      <td>0500000US01005</td>\n",
       "      <td>25223.0</td>\n",
       "      <td>24523.0</td>\n",
       "      <td>11317.0</td>\n",
       "      <td>11933.0</td>\n",
       "      <td>116.0</td>\n",
       "      <td>117.0</td>\n",
       "      <td>1.0</td>\n",
       "      <td>1039.0</td>\n",
       "      <td>700.0</td>\n",
       "      <td>Barbour</td>\n",
       "      <td>Alabama</td>\n",
       "    </tr>\n",
       "    <tr>\n",
       "      <th>5</th>\n",
       "      <td>0500000US01007</td>\n",
       "      <td>22293.0</td>\n",
       "      <td>21534.0</td>\n",
       "      <td>16555.0</td>\n",
       "      <td>4413.0</td>\n",
       "      <td>60.0</td>\n",
       "      <td>32.0</td>\n",
       "      <td>9.0</td>\n",
       "      <td>465.0</td>\n",
       "      <td>759.0</td>\n",
       "      <td>Bibb</td>\n",
       "      <td>Alabama</td>\n",
       "    </tr>\n",
       "    <tr>\n",
       "      <th>6</th>\n",
       "      <td>0500000US01009</td>\n",
       "      <td>59134.0</td>\n",
       "      <td>55478.0</td>\n",
       "      <td>50663.0</td>\n",
       "      <td>845.0</td>\n",
       "      <td>337.0</td>\n",
       "      <td>178.0</td>\n",
       "      <td>24.0</td>\n",
       "      <td>3431.0</td>\n",
       "      <td>3656.0</td>\n",
       "      <td>Blount</td>\n",
       "      <td>Alabama</td>\n",
       "    </tr>\n",
       "  </tbody>\n",
       "</table>\n",
       "</div>"
      ],
      "text/plain": [
       "1              id  total_pop  total_pop_one_race  pop_white  \\\n",
       "2  0500000US01001    58805.0             55648.0    42160.0   \n",
       "3  0500000US01003   231767.0            216743.0   189399.0   \n",
       "4  0500000US01005    25223.0             24523.0    11317.0   \n",
       "5  0500000US01007    22293.0             21534.0    16555.0   \n",
       "6  0500000US01009    59134.0             55478.0    50663.0   \n",
       "\n",
       "1  pop_african_american  pop_native  pop_asian  pop_islander  pop_other  \\\n",
       "2               11445.0       217.0      881.0          35.0      910.0   \n",
       "3               18217.0      1582.0     2067.0         143.0     5335.0   \n",
       "4               11933.0       116.0      117.0           1.0     1039.0   \n",
       "5                4413.0        60.0       32.0           9.0      465.0   \n",
       "6                 845.0       337.0      178.0          24.0     3431.0   \n",
       "\n",
       "1  total_pop_two_races    County     State  \n",
       "2               3157.0  Autauga    Alabama  \n",
       "3              15024.0  Baldwin    Alabama  \n",
       "4                700.0  Barbour    Alabama  \n",
       "5                759.0     Bibb    Alabama  \n",
       "6               3656.0   Blount    Alabama  "
      ]
     },
     "execution_count": 49,
     "metadata": {},
     "output_type": "execute_result"
    }
   ],
   "source": [
    "df_race.head()"
   ]
  },
  {
   "cell_type": "code",
   "execution_count": 50,
   "metadata": {},
   "outputs": [],
   "source": [
    "dump(df_race, open('df_race.pkl', 'wb'))"
   ]
  },
  {
   "cell_type": "code",
   "execution_count": null,
   "metadata": {},
   "outputs": [],
   "source": []
  },
  {
   "cell_type": "code",
   "execution_count": null,
   "metadata": {},
   "outputs": [],
   "source": []
  }
 ],
 "metadata": {
  "kernelspec": {
   "display_name": "Python (learn-env)",
   "language": "python",
   "name": "learn-env"
  },
  "language_info": {
   "codemirror_mode": {
    "name": "ipython",
    "version": 3
   },
   "file_extension": ".py",
   "mimetype": "text/x-python",
   "name": "python",
   "nbconvert_exporter": "python",
   "pygments_lexer": "ipython3",
   "version": "3.8.5"
  }
 },
 "nbformat": 4,
 "nbformat_minor": 4
}
