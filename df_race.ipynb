{
 "cells": [
  {
   "cell_type": "code",
   "execution_count": 1,
   "metadata": {},
   "outputs": [],
   "source": [
    "import pandas as pd\n",
    "pd.set_option(\"max_rows\", None)"
   ]
  },
  {
   "cell_type": "markdown",
   "metadata": {},
   "source": [
    "Rename this file when you have a chance."
   ]
  },
  {
   "cell_type": "code",
   "execution_count": 2,
   "metadata": {},
   "outputs": [],
   "source": [
    "df_race = pd.read_csv('DECENNIALPL2020.P1_data_with_overlays_2021-10-04T202848.csv', error_bad_lines = False, header = None)"
   ]
  },
  {
   "cell_type": "code",
   "execution_count": 3,
   "metadata": {},
   "outputs": [],
   "source": [
    "df_race.columns = df_race.iloc[1]"
   ]
  },
  {
   "cell_type": "code",
   "execution_count": 4,
   "metadata": {},
   "outputs": [],
   "source": [
    "df_race.drop(df_race.index[1], inplace = True)"
   ]
  },
  {
   "cell_type": "code",
   "execution_count": 5,
   "metadata": {},
   "outputs": [],
   "source": [
    " df_race.drop(df_race.index[0], inplace = True)"
   ]
  },
  {
   "cell_type": "markdown",
   "metadata": {},
   "source": [
    "Get rid of columns detailing multi-race breakdown but keep total of multi-race population."
   ]
  },
  {
   "cell_type": "code",
   "execution_count": 6,
   "metadata": {},
   "outputs": [],
   "source": [
    "df_race.drop(df_race.iloc[:, 11:73], axis = 1, inplace = True)"
   ]
  },
  {
   "cell_type": "code",
   "execution_count": 7,
   "metadata": {},
   "outputs": [
    {
     "name": "stderr",
     "output_type": "stream",
     "text": [
      "<ipython-input-7-3176a88a0be0>:1: FutureWarning: The default value of regex will change from True to False in a future version.\n",
      "  df_race.columns = df_race.columns.str.strip().str.replace('[^\\w\\s]', '')\n"
     ]
    }
   ],
   "source": [
    "df_race.columns = df_race.columns.str.strip().str.replace('[^\\w\\s]', '')"
   ]
  },
  {
   "cell_type": "markdown",
   "metadata": {},
   "source": [
    "Function to convert totals to percentages."
   ]
  },
  {
   "cell_type": "code",
   "execution_count": 8,
   "metadata": {},
   "outputs": [],
   "source": [
    "def percent(number):\n",
    "    return (number/df_race['Total'])*100\n",
    "# df_race.iloc[:, 3:] = df_race.iloc[:, 3:].apply(percent)"
   ]
  },
  {
   "cell_type": "markdown",
   "metadata": {},
   "source": [
    "Convert race/population info into floats."
   ]
  },
  {
   "cell_type": "code",
   "execution_count": 9,
   "metadata": {},
   "outputs": [],
   "source": [
    "df_race[df_race.columns[2:]] = df_race[df_race.columns[2:]].astype(float)"
   ]
  },
  {
   "cell_type": "markdown",
   "metadata": {},
   "source": [
    "Split county and state into two columns and drop old column."
   ]
  },
  {
   "cell_type": "code",
   "execution_count": 10,
   "metadata": {},
   "outputs": [],
   "source": [
    "df_race[['County', 'State']] = df_race['Geographic Area Name'].str.split(',', expand=True)\n"
   ]
  },
  {
   "cell_type": "code",
   "execution_count": 11,
   "metadata": {},
   "outputs": [],
   "source": [
    "df_race.drop('Geographic Area Name', axis = 1, inplace = True)"
   ]
  },
  {
   "cell_type": "markdown",
   "metadata": {},
   "source": [
    "Remove the word 'county' from values in County."
   ]
  },
  {
   "cell_type": "code",
   "execution_count": 12,
   "metadata": {},
   "outputs": [],
   "source": [
    "df_race['County'] = df_race['County'].str.rstrip('County')"
   ]
  },
  {
   "cell_type": "code",
   "execution_count": 13,
   "metadata": {},
   "outputs": [],
   "source": [
    "# df_race = df_race.infer_objects()"
   ]
  },
  {
   "cell_type": "code",
   "execution_count": 14,
   "metadata": {},
   "outputs": [],
   "source": [
    "# (df_race.loc[df_race['State'].str.contains('Texas', case=False)])"
   ]
  },
  {
   "cell_type": "code",
   "execution_count": 15,
   "metadata": {},
   "outputs": [],
   "source": [
    "# df_race_Alaska = (df_race.loc[df_race['State'].str.contains('Alaska', case=False)])"
   ]
  },
  {
   "cell_type": "code",
   "execution_count": 16,
   "metadata": {},
   "outputs": [],
   "source": [
    "# df_race_Alaska.head()"
   ]
  },
  {
   "cell_type": "markdown",
   "metadata": {},
   "source": [
    "None of this worked... Trying to sum all of Alaska into one single row."
   ]
  },
  {
   "cell_type": "code",
   "execution_count": 17,
   "metadata": {},
   "outputs": [],
   "source": [
    "# (df_race.loc[df_race['State'].str.contains('Louisiana', case=False)])['County']"
   ]
  },
  {
   "cell_type": "code",
   "execution_count": 18,
   "metadata": {},
   "outputs": [],
   "source": [
    "# df_race_Alaska = (df_race.loc[df_race['State'].str.contains('Alaska', case=False)]).sum"
   ]
  },
  {
   "cell_type": "code",
   "execution_count": 19,
   "metadata": {},
   "outputs": [],
   "source": [
    "# df_race.append(df_race_Alaska.transpose())"
   ]
  },
  {
   "cell_type": "code",
   "execution_count": 20,
   "metadata": {},
   "outputs": [],
   "source": [
    "# df_race.drop(df_race.loc[df_race['State'].str.contains('Alaska', case=False)])"
   ]
  },
  {
   "cell_type": "markdown",
   "metadata": {},
   "source": [
    "Drop Puerto Rico"
   ]
  },
  {
   "cell_type": "code",
   "execution_count": 21,
   "metadata": {},
   "outputs": [],
   "source": [
    "pr = df_race.loc[df_race['State'].str.contains('Puerto Rico', case=False)]"
   ]
  },
  {
   "cell_type": "code",
   "execution_count": 22,
   "metadata": {},
   "outputs": [],
   "source": [
    "df_race = df_race.drop(pr.index, axis = 0)"
   ]
  },
  {
   "cell_type": "markdown",
   "metadata": {},
   "source": [
    "Dropped all of Alaska."
   ]
  },
  {
   "cell_type": "code",
   "execution_count": 23,
   "metadata": {},
   "outputs": [],
   "source": [
    "alaska = df_race.loc[df_race['State'].str.contains('Alaska', case=False)]"
   ]
  },
  {
   "cell_type": "code",
   "execution_count": 24,
   "metadata": {},
   "outputs": [],
   "source": [
    "df_race = df_race.drop(alaska.index, axis = 0)"
   ]
  },
  {
   "cell_type": "code",
   "execution_count": 25,
   "metadata": {},
   "outputs": [],
   "source": [
    "df_race_Alaska = (df_race.loc[df_race['State'].str.contains('Alaska', case=False)])"
   ]
  },
  {
   "cell_type": "code",
   "execution_count": 26,
   "metadata": {},
   "outputs": [],
   "source": [
    "# df_race = df_race.append(df_race_Alaska.sum().rename('Alaska'))"
   ]
  },
  {
   "cell_type": "code",
   "execution_count": 27,
   "metadata": {},
   "outputs": [],
   "source": [
    "# df_race"
   ]
  },
  {
   "cell_type": "code",
   "execution_count": 28,
   "metadata": {},
   "outputs": [
    {
     "data": {
      "text/html": [
       "<div>\n",
       "<style scoped>\n",
       "    .dataframe tbody tr th:only-of-type {\n",
       "        vertical-align: middle;\n",
       "    }\n",
       "\n",
       "    .dataframe tbody tr th {\n",
       "        vertical-align: top;\n",
       "    }\n",
       "\n",
       "    .dataframe thead th {\n",
       "        text-align: right;\n",
       "    }\n",
       "</style>\n",
       "<table border=\"1\" class=\"dataframe\">\n",
       "  <thead>\n",
       "    <tr style=\"text-align: right;\">\n",
       "      <th>1</th>\n",
       "      <th>id</th>\n",
       "      <th>Total</th>\n",
       "      <th>TotalPopulation of one race</th>\n",
       "      <th>TotalPopulation of one raceWhite alone</th>\n",
       "      <th>TotalPopulation of one raceBlack or African American alone</th>\n",
       "      <th>TotalPopulation of one raceAmerican Indian and Alaska Native alone</th>\n",
       "      <th>TotalPopulation of one raceAsian alone</th>\n",
       "      <th>TotalPopulation of one raceNative Hawaiian and Other Pacific Islander alone</th>\n",
       "      <th>TotalPopulation of one raceSome Other Race alone</th>\n",
       "      <th>TotalPopulation of two or more races</th>\n",
       "      <th>County</th>\n",
       "      <th>State</th>\n",
       "    </tr>\n",
       "  </thead>\n",
       "  <tbody>\n",
       "  </tbody>\n",
       "</table>\n",
       "</div>"
      ],
      "text/plain": [
       "Empty DataFrame\n",
       "Columns: [id, Total, TotalPopulation of one race, TotalPopulation of one raceWhite alone, TotalPopulation of one raceBlack or African American alone, TotalPopulation of one raceAmerican Indian and Alaska Native alone, TotalPopulation of one raceAsian alone, TotalPopulation of one raceNative Hawaiian and Other Pacific Islander alone, TotalPopulation of one raceSome Other Race alone, TotalPopulation of two or more races, County, State]\n",
       "Index: []"
      ]
     },
     "execution_count": 28,
     "metadata": {},
     "output_type": "execute_result"
    }
   ],
   "source": [
    "(df_race.loc[df_race['State'].str.contains('Alaska', case=False)])"
   ]
  },
  {
   "cell_type": "markdown",
   "metadata": {},
   "source": [
    "Manually added summed Alaska info. Will need to come back and do this a better way because this will be an issue with all data pulled from the census."
   ]
  },
  {
   "cell_type": "code",
   "execution_count": 29,
   "metadata": {},
   "outputs": [],
   "source": [
    "df_race = pd.concat([pd.DataFrame([['alaska total', 733391, 643867, 435392, 21898, 111575, 44032, 12698, 1872, 89524, 'Alaska', 'Alaska']],columns=df_race.columns),df_race],ignore_index=True)\n"
   ]
  },
  {
   "cell_type": "markdown",
   "metadata": {},
   "source": [
    "Apply unidecode to remove accents on Dona."
   ]
  },
  {
   "cell_type": "code",
   "execution_count": 30,
   "metadata": {},
   "outputs": [],
   "source": [
    "from unidecode import unidecode\n",
    "\n",
    "df_race['County'] = df_race['County'].apply(unidecode)"
   ]
  },
  {
   "cell_type": "markdown",
   "metadata": {},
   "source": [
    "Apply percentage function. Don't know if this will be needed. Maybe scaling will take care of it?"
   ]
  },
  {
   "cell_type": "code",
   "execution_count": 32,
   "metadata": {},
   "outputs": [],
   "source": [
    "df_race.iloc[:, 2:-2] = df_race.iloc[:, 2:-2].apply(percent)"
   ]
  },
  {
   "cell_type": "markdown",
   "metadata": {},
   "source": [
    "Figure out La Salle, LA. In target, not in race. It had no space in race. Removed space from target... I think."
   ]
  },
  {
   "cell_type": "code",
   "execution_count": 34,
   "metadata": {},
   "outputs": [
    {
     "data": {
      "text/html": [
       "<div>\n",
       "<style scoped>\n",
       "    .dataframe tbody tr th:only-of-type {\n",
       "        vertical-align: middle;\n",
       "    }\n",
       "\n",
       "    .dataframe tbody tr th {\n",
       "        vertical-align: top;\n",
       "    }\n",
       "\n",
       "    .dataframe thead th {\n",
       "        text-align: right;\n",
       "    }\n",
       "</style>\n",
       "<table border=\"1\" class=\"dataframe\">\n",
       "  <thead>\n",
       "    <tr style=\"text-align: right;\">\n",
       "      <th>1</th>\n",
       "      <th>id</th>\n",
       "      <th>Total</th>\n",
       "      <th>TotalPopulation of one race</th>\n",
       "      <th>TotalPopulation of one raceWhite alone</th>\n",
       "      <th>TotalPopulation of one raceBlack or African American alone</th>\n",
       "      <th>TotalPopulation of one raceAmerican Indian and Alaska Native alone</th>\n",
       "      <th>TotalPopulation of one raceAsian alone</th>\n",
       "      <th>TotalPopulation of one raceNative Hawaiian and Other Pacific Islander alone</th>\n",
       "      <th>TotalPopulation of one raceSome Other Race alone</th>\n",
       "      <th>TotalPopulation of two or more races</th>\n",
       "      <th>County</th>\n",
       "      <th>State</th>\n",
       "    </tr>\n",
       "  </thead>\n",
       "  <tbody>\n",
       "    <tr>\n",
       "      <th>518</th>\n",
       "      <td>0500000US15001</td>\n",
       "      <td>200629.0</td>\n",
       "      <td>70.470371</td>\n",
       "      <td>33.576901</td>\n",
       "      <td>0.623539</td>\n",
       "      <td>0.511890</td>\n",
       "      <td>19.741413</td>\n",
       "      <td>14.003958</td>\n",
       "      <td>2.012670</td>\n",
       "      <td>29.529629</td>\n",
       "      <td>Hawaii</td>\n",
       "      <td>Hawaii</td>\n",
       "    </tr>\n",
       "    <tr>\n",
       "      <th>519</th>\n",
       "      <td>0500000US15003</td>\n",
       "      <td>1016508.0</td>\n",
       "      <td>75.535264</td>\n",
       "      <td>18.540139</td>\n",
       "      <td>2.038646</td>\n",
       "      <td>0.224101</td>\n",
       "      <td>42.975855</td>\n",
       "      <td>10.044092</td>\n",
       "      <td>1.712431</td>\n",
       "      <td>24.464736</td>\n",
       "      <td>Honolulu</td>\n",
       "      <td>Hawaii</td>\n",
       "    </tr>\n",
       "    <tr>\n",
       "      <th>520</th>\n",
       "      <td>0500000US15005</td>\n",
       "      <td>82.0</td>\n",
       "      <td>73.170732</td>\n",
       "      <td>32.926829</td>\n",
       "      <td>2.439024</td>\n",
       "      <td>0.000000</td>\n",
       "      <td>14.634146</td>\n",
       "      <td>18.292683</td>\n",
       "      <td>4.878049</td>\n",
       "      <td>26.829268</td>\n",
       "      <td>Kalawao</td>\n",
       "      <td>Hawaii</td>\n",
       "    </tr>\n",
       "    <tr>\n",
       "      <th>521</th>\n",
       "      <td>0500000US15007</td>\n",
       "      <td>73298.0</td>\n",
       "      <td>72.703212</td>\n",
       "      <td>31.657071</td>\n",
       "      <td>0.512974</td>\n",
       "      <td>0.391552</td>\n",
       "      <td>28.789326</td>\n",
       "      <td>9.859751</td>\n",
       "      <td>1.492537</td>\n",
       "      <td>27.296788</td>\n",
       "      <td>Kauai</td>\n",
       "      <td>Hawaii</td>\n",
       "    </tr>\n",
       "    <tr>\n",
       "      <th>522</th>\n",
       "      <td>0500000US15009</td>\n",
       "      <td>164754.0</td>\n",
       "      <td>75.619408</td>\n",
       "      <td>32.899353</td>\n",
       "      <td>0.646418</td>\n",
       "      <td>0.472219</td>\n",
       "      <td>26.905568</td>\n",
       "      <td>12.144166</td>\n",
       "      <td>2.551683</td>\n",
       "      <td>24.380592</td>\n",
       "      <td>Maui</td>\n",
       "      <td>Hawaii</td>\n",
       "    </tr>\n",
       "  </tbody>\n",
       "</table>\n",
       "</div>"
      ],
      "text/plain": [
       "1                id      Total  TotalPopulation of one race  \\\n",
       "518  0500000US15001   200629.0                    70.470371   \n",
       "519  0500000US15003  1016508.0                    75.535264   \n",
       "520  0500000US15005       82.0                    73.170732   \n",
       "521  0500000US15007    73298.0                    72.703212   \n",
       "522  0500000US15009   164754.0                    75.619408   \n",
       "\n",
       "1    TotalPopulation of one raceWhite alone  \\\n",
       "518                               33.576901   \n",
       "519                               18.540139   \n",
       "520                               32.926829   \n",
       "521                               31.657071   \n",
       "522                               32.899353   \n",
       "\n",
       "1    TotalPopulation of one raceBlack or African American alone  \\\n",
       "518                                           0.623539            \n",
       "519                                           2.038646            \n",
       "520                                           2.439024            \n",
       "521                                           0.512974            \n",
       "522                                           0.646418            \n",
       "\n",
       "1    TotalPopulation of one raceAmerican Indian and Alaska Native alone  \\\n",
       "518                                           0.511890                    \n",
       "519                                           0.224101                    \n",
       "520                                           0.000000                    \n",
       "521                                           0.391552                    \n",
       "522                                           0.472219                    \n",
       "\n",
       "1    TotalPopulation of one raceAsian alone  \\\n",
       "518                               19.741413   \n",
       "519                               42.975855   \n",
       "520                               14.634146   \n",
       "521                               28.789326   \n",
       "522                               26.905568   \n",
       "\n",
       "1    TotalPopulation of one raceNative Hawaiian and Other Pacific Islander alone  \\\n",
       "518                                          14.003958                             \n",
       "519                                          10.044092                             \n",
       "520                                          18.292683                             \n",
       "521                                           9.859751                             \n",
       "522                                          12.144166                             \n",
       "\n",
       "1    TotalPopulation of one raceSome Other Race alone  \\\n",
       "518                                          2.012670   \n",
       "519                                          1.712431   \n",
       "520                                          4.878049   \n",
       "521                                          1.492537   \n",
       "522                                          2.551683   \n",
       "\n",
       "1    TotalPopulation of two or more races     County    State  \n",
       "518                             29.529629    Hawaii    Hawaii  \n",
       "519                             24.464736  Honolulu    Hawaii  \n",
       "520                             26.829268   Kalawao    Hawaii  \n",
       "521                             27.296788     Kauai    Hawaii  \n",
       "522                             24.380592      Maui    Hawaii  "
      ]
     },
     "execution_count": 34,
     "metadata": {},
     "output_type": "execute_result"
    }
   ],
   "source": [
    "# df_race.loc[df_race['State'].str.contains('Hawaii', case=False)]"
   ]
  },
  {
   "cell_type": "markdown",
   "metadata": {},
   "source": [
    "Dropping Kalawoa. Only has 82 residents and does not come up in census pull."
   ]
  },
  {
   "cell_type": "code",
   "execution_count": 36,
   "metadata": {},
   "outputs": [],
   "source": [
    "Kalawao = df_race.loc[df_race['County'].str.contains('Kalawao', case=False)]"
   ]
  },
  {
   "cell_type": "code",
   "execution_count": 37,
   "metadata": {},
   "outputs": [],
   "source": [
    "df_race = df_race.drop(Kalawao.index, axis = 0)"
   ]
  },
  {
   "cell_type": "code",
   "execution_count": 38,
   "metadata": {},
   "outputs": [],
   "source": [
    "from pickle import dump"
   ]
  },
  {
   "cell_type": "code",
   "execution_count": 39,
   "metadata": {},
   "outputs": [],
   "source": [
    "dump(df_race, open('df_race_alaska_fixed.pkl', 'wb'))"
   ]
  },
  {
   "cell_type": "code",
   "execution_count": 40,
   "metadata": {},
   "outputs": [
    {
     "name": "stdout",
     "output_type": "stream",
     "text": [
      "<class 'pandas.core.frame.DataFrame'>\n",
      "Int64Index: 3113 entries, 0 to 3113\n",
      "Data columns (total 12 columns):\n",
      " #   Column                                                                       Non-Null Count  Dtype  \n",
      "---  ------                                                                       --------------  -----  \n",
      " 0   id                                                                           3113 non-null   object \n",
      " 1   Total                                                                        3113 non-null   float64\n",
      " 2   TotalPopulation of one race                                                  3113 non-null   float64\n",
      " 3   TotalPopulation of one raceWhite alone                                       3113 non-null   float64\n",
      " 4   TotalPopulation of one raceBlack or African American alone                   3113 non-null   float64\n",
      " 5   TotalPopulation of one raceAmerican Indian and Alaska Native alone           3113 non-null   float64\n",
      " 6   TotalPopulation of one raceAsian alone                                       3113 non-null   float64\n",
      " 7   TotalPopulation of one raceNative Hawaiian and Other Pacific Islander alone  3113 non-null   float64\n",
      " 8   TotalPopulation of one raceSome Other Race alone                             3113 non-null   float64\n",
      " 9   TotalPopulation of two or more races                                         3113 non-null   float64\n",
      " 10  County                                                                       3113 non-null   object \n",
      " 11  State                                                                        3113 non-null   object \n",
      "dtypes: float64(9), object(3)\n",
      "memory usage: 316.2+ KB\n"
     ]
    }
   ],
   "source": [
    "df_race.info()"
   ]
  },
  {
   "cell_type": "code",
   "execution_count": null,
   "metadata": {},
   "outputs": [],
   "source": []
  }
 ],
 "metadata": {
  "kernelspec": {
   "display_name": "Python (learn-env)",
   "language": "python",
   "name": "learn-env"
  },
  "language_info": {
   "codemirror_mode": {
    "name": "ipython",
    "version": 3
   },
   "file_extension": ".py",
   "mimetype": "text/x-python",
   "name": "python",
   "nbconvert_exporter": "python",
   "pygments_lexer": "ipython3",
   "version": "3.8.5"
  }
 },
 "nbformat": 4,
 "nbformat_minor": 4
}
