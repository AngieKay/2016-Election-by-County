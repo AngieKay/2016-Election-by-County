{
 "cells": [
  {
   "cell_type": "code",
   "execution_count": 1,
   "metadata": {},
   "outputs": [],
   "source": [
    "import pandas as pd\n",
    "from pickle import load\n",
    "from pickle import dump\n",
    "pd.set_option(\"max_columns\", None)\n",
    "pd.set_option('max_rows', None)"
   ]
  },
  {
   "cell_type": "markdown",
   "metadata": {},
   "source": [
    "Bring in race and results data frames."
   ]
  },
  {
   "cell_type": "code",
   "execution_count": 2,
   "metadata": {},
   "outputs": [],
   "source": [
    "df_race = load(open('df_race.pkl', 'rb'))"
   ]
  },
  {
   "cell_type": "code",
   "execution_count": 3,
   "metadata": {},
   "outputs": [],
   "source": [
    "df_results = load(open('df_results.pkl', 'rb'))"
   ]
  },
  {
   "cell_type": "markdown",
   "metadata": {},
   "source": [
    "## Failed attempts at joining."
   ]
  },
  {
   "cell_type": "markdown",
   "metadata": {},
   "source": [
    "This brought all of df_results in with null values except for Alaska."
   ]
  },
  {
   "cell_type": "code",
   "execution_count": 4,
   "metadata": {},
   "outputs": [],
   "source": [
    "# new_df = pd.merge(df_race, df_results,  how='left', left_on=['County','State'], right_on = ['County Name','State Code'])"
   ]
  },
  {
   "cell_type": "markdown",
   "metadata": {},
   "source": [
    "Changing to strings... didn't help"
   ]
  },
  {
   "cell_type": "code",
   "execution_count": 5,
   "metadata": {},
   "outputs": [],
   "source": [
    "# # Motor['Motor'] = Motor['Motor'].astype(str)\n",
    "# df_race['County'] = df_race['County'].astype(str)\n",
    "# df_race['State'] = df_race['State'].astype(str)\n",
    "# df_results['County Name'] = df_results['County Name'].astype(str)\n",
    "# df_results['State Code'] = df_results['State Code'].astype(str)"
   ]
  },
  {
   "cell_type": "code",
   "execution_count": 6,
   "metadata": {},
   "outputs": [],
   "source": [
    "# new_df = pd.merge(df_race, df_results,  how='left', left_on=['County','State'], right_on = ['County Name','State Code'])"
   ]
  },
  {
   "cell_type": "markdown",
   "metadata": {},
   "source": [
    "This made all of df_race null."
   ]
  },
  {
   "cell_type": "code",
   "execution_count": 7,
   "metadata": {},
   "outputs": [],
   "source": [
    "# new_df = df_results.merge(df_race, left_on=['County Name','State Code'], right_on = ['County','State'], how='left')"
   ]
  },
  {
   "cell_type": "markdown",
   "metadata": {},
   "source": [
    "Trying to merge just on county. They joined without nulls but counties in more than one state came in wonky."
   ]
  },
  {
   "cell_type": "code",
   "execution_count": 8,
   "metadata": {},
   "outputs": [],
   "source": [
    "# new_df = pd.merge(df_race, df_results,  how='left', left_on=['County'], right_on = ['County Name'])"
   ]
  },
  {
   "cell_type": "markdown",
   "metadata": {},
   "source": [
    "Trying to reset index. Didn't change anything"
   ]
  },
  {
   "cell_type": "code",
   "execution_count": 9,
   "metadata": {},
   "outputs": [],
   "source": [
    "# df_results.reset_index(drop=True, inplace = True)\n",
    "# df_race.reset_index(drop = True, inplace = True)"
   ]
  },
  {
   "cell_type": "code",
   "execution_count": 10,
   "metadata": {},
   "outputs": [],
   "source": [
    "# new_df = pd.merge(df_race, df_results,  how='left', left_on=['County','State'], right_on = ['County Name','State Code'])"
   ]
  },
  {
   "cell_type": "markdown",
   "metadata": {},
   "source": [
    " "
   ]
  },
  {
   "cell_type": "markdown",
   "metadata": {},
   "source": [
    "Trying another datatype method. Nope. Don't even understand what this is."
   ]
  },
  {
   "cell_type": "code",
   "execution_count": 11,
   "metadata": {},
   "outputs": [],
   "source": [
    "# # df1.col1 = df1.col1.str.encode('utf-8')\n",
    "# # df2.col2 = df2.col2.str.encode('utf-8')\n",
    "# x = df_results['County Name'].str.encode('utf-8')\n",
    "# y = df_results['State Code'].str.encode('utf-8')\n",
    "# x1 = df_race['County'].str.encode('utf-8')\n",
    "# y1 = df_race['State'].str.encode('utf-8')"
   ]
  },
  {
   "cell_type": "markdown",
   "metadata": {},
   "source": [
    "Trying outer join. Just added all the rows at the bottom."
   ]
  },
  {
   "cell_type": "code",
   "execution_count": 12,
   "metadata": {},
   "outputs": [],
   "source": [
    "# df = pd.merge(a, b, on='id', how='outer')\n",
    "\n",
    "# new_df = pd.merge(df_race, df_results, left_on=['County','State'], right_on = ['County Name','State Code'], how = 'outer')"
   ]
  },
  {
   "cell_type": "markdown",
   "metadata": {},
   "source": [
    "result = pd.concat([df1, df4], axis=1) nope"
   ]
  },
  {
   "cell_type": "code",
   "execution_count": 13,
   "metadata": {},
   "outputs": [],
   "source": [
    "# new_df = pd.concat([df_results, df_race], axis = 1)"
   ]
  },
  {
   "cell_type": "markdown",
   "metadata": {},
   "source": [
    "pd.merge(precip_one_station, climate_temp, how=\"outer\", on=[\"STATION\", \"DATE\"]) came up with all nulls on right\n"
   ]
  },
  {
   "cell_type": "code",
   "execution_count": 14,
   "metadata": {},
   "outputs": [],
   "source": [
    "# pd.merge(df_race, df_results, how = 'outer', on = ['State', 'County'])"
   ]
  },
  {
   "cell_type": "markdown",
   "metadata": {},
   "source": [
    "## Finally a merge!"
   ]
  },
  {
   "cell_type": "code",
   "execution_count": 15,
   "metadata": {},
   "outputs": [],
   "source": [
    "new_df = df_race.reset_index(drop=True).merge(df_results.reset_index(drop=True), left_index=True, right_index=True)"
   ]
  },
  {
   "cell_type": "code",
   "execution_count": 16,
   "metadata": {},
   "outputs": [
    {
     "data": {
      "text/html": [
       "<div>\n",
       "<style scoped>\n",
       "    .dataframe tbody tr th:only-of-type {\n",
       "        vertical-align: middle;\n",
       "    }\n",
       "\n",
       "    .dataframe tbody tr th {\n",
       "        vertical-align: top;\n",
       "    }\n",
       "\n",
       "    .dataframe thead th {\n",
       "        text-align: right;\n",
       "    }\n",
       "</style>\n",
       "<table border=\"1\" class=\"dataframe\">\n",
       "  <thead>\n",
       "    <tr style=\"text-align: right;\">\n",
       "      <th></th>\n",
       "      <th>id</th>\n",
       "      <th>total_pop</th>\n",
       "      <th>total_pop_one_race</th>\n",
       "      <th>pop_white</th>\n",
       "      <th>pop_african_american</th>\n",
       "      <th>pop_native</th>\n",
       "      <th>pop_asian</th>\n",
       "      <th>pop_islander</th>\n",
       "      <th>pop_other</th>\n",
       "      <th>total_pop_two_races</th>\n",
       "      <th>County_x</th>\n",
       "      <th>State_x</th>\n",
       "      <th>State_y</th>\n",
       "      <th>County_y</th>\n",
       "      <th>2016_total_votes</th>\n",
       "      <th>Obama</th>\n",
       "      <th>Romney</th>\n",
       "      <th>2012_total_votes</th>\n",
       "      <th>2010_land_area</th>\n",
       "      <th>Density</th>\n",
       "      <th>combined_fips_code</th>\n",
       "      <th>ansi_code</th>\n",
       "      <th>state_fips_code</th>\n",
       "      <th>county_fips_code</th>\n",
       "      <th>central_outlying</th>\n",
       "    </tr>\n",
       "  </thead>\n",
       "  <tbody>\n",
       "    <tr>\n",
       "      <th>0</th>\n",
       "      <td>0500000US01001</td>\n",
       "      <td>58805.0</td>\n",
       "      <td>55648.0</td>\n",
       "      <td>42160.0</td>\n",
       "      <td>11445.0</td>\n",
       "      <td>217.0</td>\n",
       "      <td>881.0</td>\n",
       "      <td>35.0</td>\n",
       "      <td>910.0</td>\n",
       "      <td>3157.0</td>\n",
       "      <td>Autauga</td>\n",
       "      <td>Alabama</td>\n",
       "      <td>Alabama</td>\n",
       "      <td>Autauga</td>\n",
       "      <td>24661</td>\n",
       "      <td>6354</td>\n",
       "      <td>17366</td>\n",
       "      <td>23909</td>\n",
       "      <td>594</td>\n",
       "      <td>93</td>\n",
       "      <td>1001</td>\n",
       "      <td>1001</td>\n",
       "      <td>1.0</td>\n",
       "      <td>1.0</td>\n",
       "      <td>Central</td>\n",
       "    </tr>\n",
       "    <tr>\n",
       "      <th>1</th>\n",
       "      <td>0500000US01003</td>\n",
       "      <td>231767.0</td>\n",
       "      <td>216743.0</td>\n",
       "      <td>189399.0</td>\n",
       "      <td>18217.0</td>\n",
       "      <td>1582.0</td>\n",
       "      <td>2067.0</td>\n",
       "      <td>143.0</td>\n",
       "      <td>5335.0</td>\n",
       "      <td>15024.0</td>\n",
       "      <td>Baldwin</td>\n",
       "      <td>Alabama</td>\n",
       "      <td>Alabama</td>\n",
       "      <td>Baldwin</td>\n",
       "      <td>94090</td>\n",
       "      <td>18329</td>\n",
       "      <td>65772</td>\n",
       "      <td>84988</td>\n",
       "      <td>1590</td>\n",
       "      <td>128</td>\n",
       "      <td>1003</td>\n",
       "      <td>1003</td>\n",
       "      <td>1.0</td>\n",
       "      <td>3.0</td>\n",
       "      <td>Central</td>\n",
       "    </tr>\n",
       "    <tr>\n",
       "      <th>2</th>\n",
       "      <td>0500000US01005</td>\n",
       "      <td>25223.0</td>\n",
       "      <td>24523.0</td>\n",
       "      <td>11317.0</td>\n",
       "      <td>11933.0</td>\n",
       "      <td>116.0</td>\n",
       "      <td>117.0</td>\n",
       "      <td>1.0</td>\n",
       "      <td>1039.0</td>\n",
       "      <td>700.0</td>\n",
       "      <td>Barbour</td>\n",
       "      <td>Alabama</td>\n",
       "      <td>Alabama</td>\n",
       "      <td>Barbour</td>\n",
       "      <td>10390</td>\n",
       "      <td>5873</td>\n",
       "      <td>5539</td>\n",
       "      <td>11459</td>\n",
       "      <td>885</td>\n",
       "      <td>30</td>\n",
       "      <td>1005</td>\n",
       "      <td>1005</td>\n",
       "      <td>1.0</td>\n",
       "      <td>5.0</td>\n",
       "      <td>Central</td>\n",
       "    </tr>\n",
       "    <tr>\n",
       "      <th>3</th>\n",
       "      <td>0500000US01007</td>\n",
       "      <td>22293.0</td>\n",
       "      <td>21534.0</td>\n",
       "      <td>16555.0</td>\n",
       "      <td>4413.0</td>\n",
       "      <td>60.0</td>\n",
       "      <td>32.0</td>\n",
       "      <td>9.0</td>\n",
       "      <td>465.0</td>\n",
       "      <td>759.0</td>\n",
       "      <td>Bibb</td>\n",
       "      <td>Alabama</td>\n",
       "      <td>Alabama</td>\n",
       "      <td>Bibb</td>\n",
       "      <td>8748</td>\n",
       "      <td>2200</td>\n",
       "      <td>6131</td>\n",
       "      <td>8391</td>\n",
       "      <td>623</td>\n",
       "      <td>36</td>\n",
       "      <td>1007</td>\n",
       "      <td>1007</td>\n",
       "      <td>1.0</td>\n",
       "      <td>7.0</td>\n",
       "      <td>Outlying</td>\n",
       "    </tr>\n",
       "    <tr>\n",
       "      <th>4</th>\n",
       "      <td>0500000US01009</td>\n",
       "      <td>59134.0</td>\n",
       "      <td>55478.0</td>\n",
       "      <td>50663.0</td>\n",
       "      <td>845.0</td>\n",
       "      <td>337.0</td>\n",
       "      <td>178.0</td>\n",
       "      <td>24.0</td>\n",
       "      <td>3431.0</td>\n",
       "      <td>3656.0</td>\n",
       "      <td>Blount</td>\n",
       "      <td>Alabama</td>\n",
       "      <td>Alabama</td>\n",
       "      <td>Blount</td>\n",
       "      <td>25384</td>\n",
       "      <td>2961</td>\n",
       "      <td>20741</td>\n",
       "      <td>23980</td>\n",
       "      <td>645</td>\n",
       "      <td>89</td>\n",
       "      <td>1009</td>\n",
       "      <td>1009</td>\n",
       "      <td>1.0</td>\n",
       "      <td>9.0</td>\n",
       "      <td>Outlying</td>\n",
       "    </tr>\n",
       "  </tbody>\n",
       "</table>\n",
       "</div>"
      ],
      "text/plain": [
       "               id  total_pop  total_pop_one_race  pop_white  \\\n",
       "0  0500000US01001    58805.0             55648.0    42160.0   \n",
       "1  0500000US01003   231767.0            216743.0   189399.0   \n",
       "2  0500000US01005    25223.0             24523.0    11317.0   \n",
       "3  0500000US01007    22293.0             21534.0    16555.0   \n",
       "4  0500000US01009    59134.0             55478.0    50663.0   \n",
       "\n",
       "   pop_african_american  pop_native  pop_asian  pop_islander  pop_other  \\\n",
       "0               11445.0       217.0      881.0          35.0      910.0   \n",
       "1               18217.0      1582.0     2067.0         143.0     5335.0   \n",
       "2               11933.0       116.0      117.0           1.0     1039.0   \n",
       "3                4413.0        60.0       32.0           9.0      465.0   \n",
       "4                 845.0       337.0      178.0          24.0     3431.0   \n",
       "\n",
       "   total_pop_two_races  County_x   State_x  State_y  County_y  \\\n",
       "0               3157.0  Autauga    Alabama  Alabama  Autauga    \n",
       "1              15024.0  Baldwin    Alabama  Alabama  Baldwin    \n",
       "2                700.0  Barbour    Alabama  Alabama  Barbour    \n",
       "3                759.0     Bibb    Alabama  Alabama     Bibb    \n",
       "4               3656.0   Blount    Alabama  Alabama   Blount    \n",
       "\n",
       "   2016_total_votes  Obama  Romney  2012_total_votes  2010_land_area  Density  \\\n",
       "0             24661   6354   17366             23909             594       93   \n",
       "1             94090  18329   65772             84988            1590      128   \n",
       "2             10390   5873    5539             11459             885       30   \n",
       "3              8748   2200    6131              8391             623       36   \n",
       "4             25384   2961   20741             23980             645       89   \n",
       "\n",
       "  combined_fips_code ansi_code state_fips_code county_fips_code  \\\n",
       "0               1001      1001             1.0              1.0   \n",
       "1               1003      1003             1.0              3.0   \n",
       "2               1005      1005             1.0              5.0   \n",
       "3               1007      1007             1.0              7.0   \n",
       "4               1009      1009             1.0              9.0   \n",
       "\n",
       "  central_outlying  \n",
       "0          Central  \n",
       "1          Central  \n",
       "2          Central  \n",
       "3         Outlying  \n",
       "4         Outlying  "
      ]
     },
     "execution_count": 16,
     "metadata": {},
     "output_type": "execute_result"
    }
   ],
   "source": [
    "new_df.head()"
   ]
  },
  {
   "cell_type": "markdown",
   "metadata": {},
   "source": [
    "Keep these just in case"
   ]
  },
  {
   "cell_type": "code",
   "execution_count": null,
   "metadata": {},
   "outputs": [],
   "source": [
    "# df_race.loc[~df_race['County'].isin(df_results['County'])] #compare the two dataframes for matching county values"
   ]
  },
  {
   "cell_type": "code",
   "execution_count": 18,
   "metadata": {},
   "outputs": [],
   "source": [
    "# df_results.loc[~df_results['County'].isin(df_race['County'])]"
   ]
  },
  {
   "cell_type": "code",
   "execution_count": 19,
   "metadata": {},
   "outputs": [],
   "source": [
    "# new_df['State Code'].value_counts()"
   ]
  },
  {
   "cell_type": "code",
   "execution_count": 20,
   "metadata": {},
   "outputs": [],
   "source": [
    "# df_race.sort_values(by=['County'])"
   ]
  },
  {
   "cell_type": "code",
   "execution_count": null,
   "metadata": {},
   "outputs": [],
   "source": []
  },
  {
   "cell_type": "code",
   "execution_count": 21,
   "metadata": {},
   "outputs": [
    {
     "data": {
      "text/html": [
       "<div>\n",
       "<style scoped>\n",
       "    .dataframe tbody tr th:only-of-type {\n",
       "        vertical-align: middle;\n",
       "    }\n",
       "\n",
       "    .dataframe tbody tr th {\n",
       "        vertical-align: top;\n",
       "    }\n",
       "\n",
       "    .dataframe thead th {\n",
       "        text-align: right;\n",
       "    }\n",
       "</style>\n",
       "<table border=\"1\" class=\"dataframe\">\n",
       "  <thead>\n",
       "    <tr style=\"text-align: right;\">\n",
       "      <th></th>\n",
       "      <th>id</th>\n",
       "      <th>total_pop</th>\n",
       "      <th>total_pop_one_race</th>\n",
       "      <th>pop_white</th>\n",
       "      <th>pop_african_american</th>\n",
       "      <th>pop_native</th>\n",
       "      <th>pop_asian</th>\n",
       "      <th>pop_islander</th>\n",
       "      <th>pop_other</th>\n",
       "      <th>total_pop_two_races</th>\n",
       "      <th>County_x</th>\n",
       "      <th>State_x</th>\n",
       "      <th>State_y</th>\n",
       "      <th>County_y</th>\n",
       "      <th>2016_total_votes</th>\n",
       "      <th>Obama</th>\n",
       "      <th>Romney</th>\n",
       "      <th>2012_total_votes</th>\n",
       "      <th>2010_land_area</th>\n",
       "      <th>Density</th>\n",
       "      <th>combined_fips_code</th>\n",
       "      <th>ansi_code</th>\n",
       "      <th>state_fips_code</th>\n",
       "      <th>county_fips_code</th>\n",
       "      <th>central_outlying</th>\n",
       "    </tr>\n",
       "  </thead>\n",
       "  <tbody>\n",
       "    <tr>\n",
       "      <th>0</th>\n",
       "      <td>0500000US01001</td>\n",
       "      <td>58805.0</td>\n",
       "      <td>55648.0</td>\n",
       "      <td>42160.0</td>\n",
       "      <td>11445.0</td>\n",
       "      <td>217.0</td>\n",
       "      <td>881.0</td>\n",
       "      <td>35.0</td>\n",
       "      <td>910.0</td>\n",
       "      <td>3157.0</td>\n",
       "      <td>Autauga</td>\n",
       "      <td>Alabama</td>\n",
       "      <td>Alabama</td>\n",
       "      <td>Autauga</td>\n",
       "      <td>24661</td>\n",
       "      <td>6354</td>\n",
       "      <td>17366</td>\n",
       "      <td>23909</td>\n",
       "      <td>594</td>\n",
       "      <td>93</td>\n",
       "      <td>1001</td>\n",
       "      <td>1001</td>\n",
       "      <td>1.0</td>\n",
       "      <td>1.0</td>\n",
       "      <td>Central</td>\n",
       "    </tr>\n",
       "    <tr>\n",
       "      <th>1</th>\n",
       "      <td>0500000US01003</td>\n",
       "      <td>231767.0</td>\n",
       "      <td>216743.0</td>\n",
       "      <td>189399.0</td>\n",
       "      <td>18217.0</td>\n",
       "      <td>1582.0</td>\n",
       "      <td>2067.0</td>\n",
       "      <td>143.0</td>\n",
       "      <td>5335.0</td>\n",
       "      <td>15024.0</td>\n",
       "      <td>Baldwin</td>\n",
       "      <td>Alabama</td>\n",
       "      <td>Alabama</td>\n",
       "      <td>Baldwin</td>\n",
       "      <td>94090</td>\n",
       "      <td>18329</td>\n",
       "      <td>65772</td>\n",
       "      <td>84988</td>\n",
       "      <td>1590</td>\n",
       "      <td>128</td>\n",
       "      <td>1003</td>\n",
       "      <td>1003</td>\n",
       "      <td>1.0</td>\n",
       "      <td>3.0</td>\n",
       "      <td>Central</td>\n",
       "    </tr>\n",
       "    <tr>\n",
       "      <th>2</th>\n",
       "      <td>0500000US01005</td>\n",
       "      <td>25223.0</td>\n",
       "      <td>24523.0</td>\n",
       "      <td>11317.0</td>\n",
       "      <td>11933.0</td>\n",
       "      <td>116.0</td>\n",
       "      <td>117.0</td>\n",
       "      <td>1.0</td>\n",
       "      <td>1039.0</td>\n",
       "      <td>700.0</td>\n",
       "      <td>Barbour</td>\n",
       "      <td>Alabama</td>\n",
       "      <td>Alabama</td>\n",
       "      <td>Barbour</td>\n",
       "      <td>10390</td>\n",
       "      <td>5873</td>\n",
       "      <td>5539</td>\n",
       "      <td>11459</td>\n",
       "      <td>885</td>\n",
       "      <td>30</td>\n",
       "      <td>1005</td>\n",
       "      <td>1005</td>\n",
       "      <td>1.0</td>\n",
       "      <td>5.0</td>\n",
       "      <td>Central</td>\n",
       "    </tr>\n",
       "    <tr>\n",
       "      <th>3</th>\n",
       "      <td>0500000US01007</td>\n",
       "      <td>22293.0</td>\n",
       "      <td>21534.0</td>\n",
       "      <td>16555.0</td>\n",
       "      <td>4413.0</td>\n",
       "      <td>60.0</td>\n",
       "      <td>32.0</td>\n",
       "      <td>9.0</td>\n",
       "      <td>465.0</td>\n",
       "      <td>759.0</td>\n",
       "      <td>Bibb</td>\n",
       "      <td>Alabama</td>\n",
       "      <td>Alabama</td>\n",
       "      <td>Bibb</td>\n",
       "      <td>8748</td>\n",
       "      <td>2200</td>\n",
       "      <td>6131</td>\n",
       "      <td>8391</td>\n",
       "      <td>623</td>\n",
       "      <td>36</td>\n",
       "      <td>1007</td>\n",
       "      <td>1007</td>\n",
       "      <td>1.0</td>\n",
       "      <td>7.0</td>\n",
       "      <td>Outlying</td>\n",
       "    </tr>\n",
       "    <tr>\n",
       "      <th>4</th>\n",
       "      <td>0500000US01009</td>\n",
       "      <td>59134.0</td>\n",
       "      <td>55478.0</td>\n",
       "      <td>50663.0</td>\n",
       "      <td>845.0</td>\n",
       "      <td>337.0</td>\n",
       "      <td>178.0</td>\n",
       "      <td>24.0</td>\n",
       "      <td>3431.0</td>\n",
       "      <td>3656.0</td>\n",
       "      <td>Blount</td>\n",
       "      <td>Alabama</td>\n",
       "      <td>Alabama</td>\n",
       "      <td>Blount</td>\n",
       "      <td>25384</td>\n",
       "      <td>2961</td>\n",
       "      <td>20741</td>\n",
       "      <td>23980</td>\n",
       "      <td>645</td>\n",
       "      <td>89</td>\n",
       "      <td>1009</td>\n",
       "      <td>1009</td>\n",
       "      <td>1.0</td>\n",
       "      <td>9.0</td>\n",
       "      <td>Outlying</td>\n",
       "    </tr>\n",
       "  </tbody>\n",
       "</table>\n",
       "</div>"
      ],
      "text/plain": [
       "               id  total_pop  total_pop_one_race  pop_white  \\\n",
       "0  0500000US01001    58805.0             55648.0    42160.0   \n",
       "1  0500000US01003   231767.0            216743.0   189399.0   \n",
       "2  0500000US01005    25223.0             24523.0    11317.0   \n",
       "3  0500000US01007    22293.0             21534.0    16555.0   \n",
       "4  0500000US01009    59134.0             55478.0    50663.0   \n",
       "\n",
       "   pop_african_american  pop_native  pop_asian  pop_islander  pop_other  \\\n",
       "0               11445.0       217.0      881.0          35.0      910.0   \n",
       "1               18217.0      1582.0     2067.0         143.0     5335.0   \n",
       "2               11933.0       116.0      117.0           1.0     1039.0   \n",
       "3                4413.0        60.0       32.0           9.0      465.0   \n",
       "4                 845.0       337.0      178.0          24.0     3431.0   \n",
       "\n",
       "   total_pop_two_races  County_x   State_x  State_y  County_y  \\\n",
       "0               3157.0  Autauga    Alabama  Alabama  Autauga    \n",
       "1              15024.0  Baldwin    Alabama  Alabama  Baldwin    \n",
       "2                700.0  Barbour    Alabama  Alabama  Barbour    \n",
       "3                759.0     Bibb    Alabama  Alabama     Bibb    \n",
       "4               3656.0   Blount    Alabama  Alabama   Blount    \n",
       "\n",
       "   2016_total_votes  Obama  Romney  2012_total_votes  2010_land_area  Density  \\\n",
       "0             24661   6354   17366             23909             594       93   \n",
       "1             94090  18329   65772             84988            1590      128   \n",
       "2             10390   5873    5539             11459             885       30   \n",
       "3              8748   2200    6131              8391             623       36   \n",
       "4             25384   2961   20741             23980             645       89   \n",
       "\n",
       "  combined_fips_code ansi_code state_fips_code county_fips_code  \\\n",
       "0               1001      1001             1.0              1.0   \n",
       "1               1003      1003             1.0              3.0   \n",
       "2               1005      1005             1.0              5.0   \n",
       "3               1007      1007             1.0              7.0   \n",
       "4               1009      1009             1.0              9.0   \n",
       "\n",
       "  central_outlying  \n",
       "0          Central  \n",
       "1          Central  \n",
       "2          Central  \n",
       "3         Outlying  \n",
       "4         Outlying  "
      ]
     },
     "execution_count": 21,
     "metadata": {},
     "output_type": "execute_result"
    }
   ],
   "source": [
    "new_df.head()"
   ]
  },
  {
   "cell_type": "code",
   "execution_count": 22,
   "metadata": {},
   "outputs": [
    {
     "data": {
      "text/plain": [
       "Not Metro or Micro Presumed Rural    1293\n",
       "Central                              1289\n",
       "Outlying                              530\n",
       "Name: central_outlying, dtype: int64"
      ]
     },
     "execution_count": 22,
     "metadata": {},
     "output_type": "execute_result"
    }
   ],
   "source": [
    "new_df.central_outlying.value_counts()"
   ]
  },
  {
   "cell_type": "code",
   "execution_count": 23,
   "metadata": {},
   "outputs": [],
   "source": [
    "dump(new_df, open('df_race_results.pkl', 'wb'))"
   ]
  },
  {
   "cell_type": "code",
   "execution_count": null,
   "metadata": {},
   "outputs": [],
   "source": []
  }
 ],
 "metadata": {
  "kernelspec": {
   "display_name": "Python (learn-env)",
   "language": "python",
   "name": "learn-env"
  },
  "language_info": {
   "codemirror_mode": {
    "name": "ipython",
    "version": 3
   },
   "file_extension": ".py",
   "mimetype": "text/x-python",
   "name": "python",
   "nbconvert_exporter": "python",
   "pygments_lexer": "ipython3",
   "version": "3.8.5"
  }
 },
 "nbformat": 4,
 "nbformat_minor": 4
}
