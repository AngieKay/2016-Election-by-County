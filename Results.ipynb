{
 "cells": [
  {
   "cell_type": "code",
   "execution_count": 1,
   "metadata": {},
   "outputs": [],
   "source": [
    "import pandas as pd\n",
    "from pickle import load\n",
    "pd.set_option(\"max_rows\", None)"
   ]
  },
  {
   "cell_type": "code",
   "execution_count": 2,
   "metadata": {},
   "outputs": [],
   "source": [
    "# Templates for finding stuff\n",
    "# df_race.where(df['County Name'] is in df_race['County'].values).notna()\n",
    "# df['County Name'].isin(df_race['County']).value_counts()\n",
    "# (df.loc[df['County Name'].str.contains('Oglala', case=False)])\n",
    "# df_race.loc[~df_race['County'].isin(df['County Name'])]"
   ]
  },
  {
   "cell_type": "code",
   "execution_count": 3,
   "metadata": {},
   "outputs": [],
   "source": [
    "df_race = load(open('df_race_alaska_fixed.pkl', 'rb'))"
   ]
  },
  {
   "cell_type": "code",
   "execution_count": 4,
   "metadata": {},
   "outputs": [],
   "source": [
    "df = pd.read_csv('2016 Presidential Election Analysis.csv')"
   ]
  },
  {
   "cell_type": "code",
   "execution_count": 6,
   "metadata": {},
   "outputs": [],
   "source": [
    "us_state_abbrev = {\n",
    "    'AL': 'Alabama',\n",
    "    'AK': 'Alaska',\n",
    "    'AZ': 'Arizona',\n",
    "    'AR': 'Arkansas',\n",
    "    'CA': 'California',\n",
    "    'CO': 'Colorado',\n",
    "    'CT': 'Connecticut',\n",
    "    'DE': 'Delaware',\n",
    "    'FL': 'Florida',\n",
    "    'GA': 'Georgia',\n",
    "    'HI': 'Hawaii',\n",
    "    'ID': 'Idaho',\n",
    "    'IL': 'Illinois',\n",
    "    'IN': 'Indiana',\n",
    "    'IA': 'Iowa',\n",
    "    'KS': 'Kansas',\n",
    "    'KY': 'Kentucky',\n",
    "    'LA': 'Louisiana',\n",
    "    'ME': 'Maine',\n",
    "    'MD': 'Maryland',\n",
    "    'MA': 'Massachusetts',\n",
    "    'MI': 'Michigan',\n",
    "    'MN': 'Minnesota',\n",
    "    'MS': 'Mississippi',\n",
    "    'MO': 'Missouri',\n",
    "    'MT': 'Montana',\n",
    "    'NE': 'Nebraska',\n",
    "    'NV': 'Nevada',\n",
    "    'NH': 'New Hampshire',\n",
    "    'NJ': 'New Jersey',\n",
    "    'NM': 'New Mexico',\n",
    "    'NY': 'New York',\n",
    "    'NC': 'North Carolina',\n",
    "    'ND': 'North Dakota',\n",
    "    'OH': 'Ohio',\n",
    "    'OK': 'Oklahoma',\n",
    "    'OR': 'Oregon',\n",
    "    'PA': 'Pennsylvania',\n",
    "    'RI': 'Rhode Island',\n",
    "    'SC': 'South Carolina',\n",
    "    'SD': 'South Dakota',\n",
    "    'TN': 'Tennessee',\n",
    "    'TX': 'Texas',\n",
    "    'UT': 'Utah',\n",
    "    'VT': 'Vermont',\n",
    "    'VA': 'Virginia',\n",
    "    'WA': 'Washington',\n",
    "    'WV': 'West Virginia',\n",
    "    'WI': 'Wisconsin',\n",
    "    'WY': 'Wyoming',\n",
    "}"
   ]
  },
  {
   "cell_type": "code",
   "execution_count": 7,
   "metadata": {},
   "outputs": [],
   "source": [
    "df['County Name'] = df['County Name'].str.rstrip('County')"
   ]
  },
  {
   "cell_type": "code",
   "execution_count": 8,
   "metadata": {},
   "outputs": [],
   "source": [
    "df = df.replace('Oglala', 'Oglala Lakota', regex = True)"
   ]
  },
  {
   "cell_type": "code",
   "execution_count": 9,
   "metadata": {},
   "outputs": [],
   "source": [
    "df = df.replace('La Salle Parish', 'LaSalle Parish', regex = True)"
   ]
  },
  {
   "cell_type": "code",
   "execution_count": 10,
   "metadata": {},
   "outputs": [
    {
     "data": {
      "text/plain": [
       "51"
      ]
     },
     "execution_count": 10,
     "metadata": {},
     "output_type": "execute_result"
    }
   ],
   "source": [
    "len(df_race.State.value_counts())"
   ]
  },
  {
   "cell_type": "code",
   "execution_count": 11,
   "metadata": {},
   "outputs": [
    {
     "data": {
      "text/plain": [
       "51"
      ]
     },
     "execution_count": 11,
     "metadata": {},
     "output_type": "execute_result"
    }
   ],
   "source": [
    "len(df['State Code'].value_counts())"
   ]
  },
  {
   "cell_type": "code",
   "execution_count": 12,
   "metadata": {},
   "outputs": [
    {
     "data": {
      "text/html": [
       "<div>\n",
       "<style scoped>\n",
       "    .dataframe tbody tr th:only-of-type {\n",
       "        vertical-align: middle;\n",
       "    }\n",
       "\n",
       "    .dataframe tbody tr th {\n",
       "        vertical-align: top;\n",
       "    }\n",
       "\n",
       "    .dataframe thead th {\n",
       "        text-align: right;\n",
       "    }\n",
       "</style>\n",
       "<table border=\"1\" class=\"dataframe\">\n",
       "  <thead>\n",
       "    <tr style=\"text-align: right;\">\n",
       "      <th></th>\n",
       "      <th>State Code</th>\n",
       "      <th>County Name</th>\n",
       "      <th>County Population</th>\n",
       "      <th>Clinton or Trump State</th>\n",
       "      <th>Clinton</th>\n",
       "      <th>Trump</th>\n",
       "      <th>Total</th>\n",
       "      <th>% Clinton</th>\n",
       "      <th>% Trump</th>\n",
       "      <th>Vote Difference C-T</th>\n",
       "      <th>...</th>\n",
       "      <th>County FIPS Code</th>\n",
       "      <th>CBSA Code</th>\n",
       "      <th>CSA Code</th>\n",
       "      <th>CBSA Title</th>\n",
       "      <th>CBSA Population</th>\n",
       "      <th>Metropolitan/Micropolitan Statistical Area</th>\n",
       "      <th>CSA Title</th>\n",
       "      <th>Metropolitan Division Title</th>\n",
       "      <th>Metropolitan Division Code</th>\n",
       "      <th>Central/Outlying County</th>\n",
       "    </tr>\n",
       "  </thead>\n",
       "  <tbody>\n",
       "  </tbody>\n",
       "</table>\n",
       "<p>0 rows × 39 columns</p>\n",
       "</div>"
      ],
      "text/plain": [
       "Empty DataFrame\n",
       "Columns: [State Code, County Name,  County Population , Clinton or Trump State,  Clinton ,  Trump ,  Total , % Clinton, % Trump,  Vote Difference C-T ,  Vote Difference T-C , Percent Difference C-T, Percent Difference T-C,  Obama ,  Romney ,  2012 Total Votes , % Obama, % Romney,  Vote Difference O-R , % Difference O-R, Clinton B(W) Obama, Trump B(W) Romney, Clinton % B(W) Obama, Trump % B(W) Romney, 2010 Land Area, Density, Combined FIPS Code, ANSI Code, State FIPS Code, County FIPS Code, CBSA Code, CSA Code, CBSA Title, CBSA Population, Metropolitan/Micropolitan Statistical Area, CSA Title, Metropolitan Division Title, Metropolitan Division Code, Central/Outlying County]\n",
       "Index: []\n",
       "\n",
       "[0 rows x 39 columns]"
      ]
     },
     "execution_count": 12,
     "metadata": {},
     "output_type": "execute_result"
    }
   ],
   "source": [
    "missing = df.loc[~df['County Name'].isin(df_race['County'])]\n",
    "missing"
   ]
  },
  {
   "cell_type": "code",
   "execution_count": 13,
   "metadata": {},
   "outputs": [
    {
     "data": {
      "text/html": [
       "<div>\n",
       "<style scoped>\n",
       "    .dataframe tbody tr th:only-of-type {\n",
       "        vertical-align: middle;\n",
       "    }\n",
       "\n",
       "    .dataframe tbody tr th {\n",
       "        vertical-align: top;\n",
       "    }\n",
       "\n",
       "    .dataframe thead th {\n",
       "        text-align: right;\n",
       "    }\n",
       "</style>\n",
       "<table border=\"1\" class=\"dataframe\">\n",
       "  <thead>\n",
       "    <tr style=\"text-align: right;\">\n",
       "      <th>1</th>\n",
       "      <th>id</th>\n",
       "      <th>Total</th>\n",
       "      <th>TotalPopulation of one race</th>\n",
       "      <th>TotalPopulation of one raceWhite alone</th>\n",
       "      <th>TotalPopulation of one raceBlack or African American alone</th>\n",
       "      <th>TotalPopulation of one raceAmerican Indian and Alaska Native alone</th>\n",
       "      <th>TotalPopulation of one raceAsian alone</th>\n",
       "      <th>TotalPopulation of one raceNative Hawaiian and Other Pacific Islander alone</th>\n",
       "      <th>TotalPopulation of one raceSome Other Race alone</th>\n",
       "      <th>TotalPopulation of two or more races</th>\n",
       "      <th>County</th>\n",
       "      <th>State</th>\n",
       "    </tr>\n",
       "  </thead>\n",
       "  <tbody>\n",
       "  </tbody>\n",
       "</table>\n",
       "</div>"
      ],
      "text/plain": [
       "Empty DataFrame\n",
       "Columns: [id, Total, TotalPopulation of one race, TotalPopulation of one raceWhite alone, TotalPopulation of one raceBlack or African American alone, TotalPopulation of one raceAmerican Indian and Alaska Native alone, TotalPopulation of one raceAsian alone, TotalPopulation of one raceNative Hawaiian and Other Pacific Islander alone, TotalPopulation of one raceSome Other Race alone, TotalPopulation of two or more races, County, State]\n",
       "Index: []"
      ]
     },
     "execution_count": 13,
     "metadata": {},
     "output_type": "execute_result"
    }
   ],
   "source": [
    "df_race.loc[~df_race['County'].isin(df['County Name'])]"
   ]
  },
  {
   "cell_type": "code",
   "execution_count": 14,
   "metadata": {},
   "outputs": [
    {
     "name": "stdout",
     "output_type": "stream",
     "text": [
      "<class 'pandas.core.frame.DataFrame'>\n",
      "RangeIndex: 3113 entries, 0 to 3112\n",
      "Data columns (total 39 columns):\n",
      " #   Column                                      Non-Null Count  Dtype  \n",
      "---  ------                                      --------------  -----  \n",
      " 0   State Code                                  3113 non-null   object \n",
      " 1   County Name                                 3113 non-null   object \n",
      " 2    County Population                          3112 non-null   object \n",
      " 3   Clinton or Trump State                      3113 non-null   object \n",
      " 4    Clinton                                    3113 non-null   object \n",
      " 5    Trump                                      3113 non-null   object \n",
      " 6    Total                                      3113 non-null   object \n",
      " 7   % Clinton                                   3113 non-null   object \n",
      " 8   % Trump                                     3113 non-null   object \n",
      " 9    Vote Difference C-T                        3113 non-null   object \n",
      " 10   Vote Difference T-C                        3113 non-null   object \n",
      " 11  Percent Difference C-T                      3113 non-null   object \n",
      " 12  Percent Difference T-C                      3113 non-null   object \n",
      " 13   Obama                                      3113 non-null   object \n",
      " 14   Romney                                     3113 non-null   object \n",
      " 15   2012 Total Votes                           3113 non-null   object \n",
      " 16  % Obama                                     3113 non-null   object \n",
      " 17  % Romney                                    3113 non-null   object \n",
      " 18   Vote Difference O-R                        3113 non-null   object \n",
      " 19  % Difference O-R                            3113 non-null   object \n",
      " 20  Clinton B(W) Obama                          3113 non-null   object \n",
      " 21  Trump B(W) Romney                           3113 non-null   object \n",
      " 22  Clinton % B(W) Obama                        3113 non-null   object \n",
      " 23  Trump % B(W) Romney                         3113 non-null   object \n",
      " 24  2010 Land Area                              3113 non-null   int64  \n",
      " 25  Density                                     3113 non-null   int64  \n",
      " 26  Combined FIPS Code                          3113 non-null   object \n",
      " 27  ANSI Code                                   3113 non-null   object \n",
      " 28  State FIPS Code                             3112 non-null   float64\n",
      " 29  County FIPS Code                            3112 non-null   float64\n",
      " 30  CBSA Code                                   1819 non-null   float64\n",
      " 31  CSA Code                                    1167 non-null   float64\n",
      " 32  CBSA Title                                  1819 non-null   object \n",
      " 33  CBSA Population                             1157 non-null   object \n",
      " 34  Metropolitan/Micropolitan Statistical Area  1819 non-null   object \n",
      " 35  CSA Title                                   1167 non-null   object \n",
      " 36  Metropolitan Division Title                 113 non-null    object \n",
      " 37  Metropolitan Division Code                  113 non-null    float64\n",
      " 38  Central/Outlying County                     3113 non-null   object \n",
      "dtypes: float64(5), int64(2), object(32)\n",
      "memory usage: 948.6+ KB\n"
     ]
    }
   ],
   "source": [
    "df.info()"
   ]
  },
  {
   "cell_type": "code",
   "execution_count": null,
   "metadata": {},
   "outputs": [],
   "source": []
  }
 ],
 "metadata": {
  "kernelspec": {
   "display_name": "Python (learn-env)",
   "language": "python",
   "name": "learn-env"
  },
  "language_info": {
   "codemirror_mode": {
    "name": "ipython",
    "version": 3
   },
   "file_extension": ".py",
   "mimetype": "text/x-python",
   "name": "python",
   "nbconvert_exporter": "python",
   "pygments_lexer": "ipython3",
   "version": "3.8.5"
  }
 },
 "nbformat": 4,
 "nbformat_minor": 4
}
